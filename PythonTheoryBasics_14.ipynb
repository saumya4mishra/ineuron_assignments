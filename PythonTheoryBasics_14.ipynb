{
 "cells": [
  {
   "cell_type": "raw",
   "id": "64e46747",
   "metadata": {},
   "source": [
    "# 1. What does RGBA stand for?\n",
    "\n",
    " An RGBA value is a tuple of 4 integers, each ranging from 0 to 255. RGBA color values are an extension of RGB color values with an alpha channel - which specifies the opacity for a color. An RGBA color value is specified with: rgba (red, green, blue, alpha)\n",
    " "
   ]
  },
  {
   "cell_type": "raw",
   "id": "67f776b8",
   "metadata": {},
   "source": [
    "# 2. From the Pillow module, how do you get the RGBA value of any images?\n",
    " using getdata() function on the image object using Pillow module as done below\n"
   ]
  },
  {
   "cell_type": "code",
   "execution_count": null,
   "id": "eec0dc42",
   "metadata": {},
   "outputs": [],
   "source": [
    "from PIL import Image\n",
    "\n",
    "im = Image.open(\"xyz.png\")\n",
    "im_alpha = im.convert('RGBA')\n",
    "Pixels = iter(im.getdata())\n",
    "for i in Pixels:\n",
    "    print(i)"
   ]
  },
  {
   "cell_type": "raw",
   "id": "a8cf4042",
   "metadata": {},
   "source": [
    "# 3. What is a box tuple, and how does it work?\n",
    "A box tuple is a tuple value of four integers: the left-edge x-coordinate, the top-edge y-coordinate, the width, and the height, respectively."
   ]
  },
  {
   "cell_type": "raw",
   "id": "a0af05fe",
   "metadata": {},
   "source": [
    "# 4. Use your image and load in notebook then, How can you find out the width and height of an Image object?\n",
    "\n",
    "imageObj.size is a tuple of two integers, the width and the height.\n"
   ]
  },
  {
   "cell_type": "raw",
   "id": "253c2966",
   "metadata": {},
   "source": [
    "# 5. What method would you call to get Image object for a 100×100 image, excluding the lower-left quarter of it?\n",
    "\n",
    "imageObj.crop((0, 50, 50, 50)). Notice that you are passing a box tuple to crop(), not four separate integer arguments."
   ]
  },
  {
   "cell_type": "raw",
   "id": "54866986",
   "metadata": {},
   "source": [
    "# 6. After making changes to an Image object, how could you save it as an image file?\n",
    "\n",
    "Call the imageObj.save('new_filename.png') method of the Image object."
   ]
  },
  {
   "cell_type": "raw",
   "id": "51e98a12",
   "metadata": {},
   "source": [
    "# 7. What module contains Pillow’s shape-drawing code?\n",
    "\n",
    "The ImageDraw module contains code to draw on images."
   ]
  },
  {
   "cell_type": "raw",
   "id": "6f8bcbeb",
   "metadata": {},
   "source": [
    "# 8. Image objects do not have drawing methods. What kind of object does? How do you get this kind of object?\n",
    "ImageDraw objects have shape-drawing methods such as point(), line(), or rectangle(). They are returned by passing the Image object to the ImageDraw.Draw() function."
   ]
  }
 ],
 "metadata": {
  "kernelspec": {
   "display_name": "Python 3 (ipykernel)",
   "language": "python",
   "name": "python3"
  },
  "language_info": {
   "codemirror_mode": {
    "name": "ipython",
    "version": 3
   },
   "file_extension": ".py",
   "mimetype": "text/x-python",
   "name": "python",
   "nbconvert_exporter": "python",
   "pygments_lexer": "ipython3",
   "version": "3.9.7"
  }
 },
 "nbformat": 4,
 "nbformat_minor": 5
}
