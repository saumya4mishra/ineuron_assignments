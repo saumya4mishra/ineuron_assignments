{
 "cells": [
  {
   "cell_type": "code",
   "execution_count": 8,
   "id": "fe05099e",
   "metadata": {},
   "outputs": [
    {
     "name": "stdout",
     "output_type": "stream",
     "text": [
      "Enter the number : 135\n",
      "[1, 9, 125]\n",
      "True\n"
     ]
    }
   ],
   "source": [
    "\"\"\"1. Write a Python program to check if the given number is a Disarium Number?\"\"\"\n",
    "from functools import reduce\n",
    "\n",
    "def disarium(n):\n",
    "    l_sq = []\n",
    "    for i, val in enumerate(str(n)):\n",
    "        l_sq.append(int(val) ** (i+1))\n",
    "    print(l_sq)\n",
    "    sm_digit = reduce(lambda x, y: x+y, l_sq)\n",
    "    if sm_digit == n:\n",
    "        return True\n",
    "    else:\n",
    "        return False\n",
    "    \n",
    "i_num = int(input(\"Enter the number : \"))\n",
    "print(disarium(i_num))"
   ]
  },
  {
   "cell_type": "code",
   "execution_count": 10,
   "id": "b31e6a78",
   "metadata": {},
   "outputs": [
    {
     "name": "stdout",
     "output_type": "stream",
     "text": [
      "1\n",
      "2\n",
      "3\n",
      "4\n",
      "5\n",
      "6\n",
      "7\n",
      "8\n",
      "9\n",
      "89\n"
     ]
    }
   ],
   "source": [
    "\"\"\"2. Write a Python program to print all disarium numbers between 1 to 100?\"\"\"\n",
    "\n",
    "def if_disarium(n):\n",
    "    l_sq = []\n",
    "    for i, val in enumerate(str(n)):\n",
    "        l_sq.append(int(val) ** (i+1))\n",
    "#     print(l_sq)\n",
    "    sm_digit = reduce(lambda x, y: x+y, l_sq)\n",
    "    if sm_digit == n:\n",
    "        return True\n",
    "    else:\n",
    "        return False\n",
    "\n",
    "def all_disarium(rnge):\n",
    "    \n",
    "    for i in range(1,rnge):\n",
    "        if if_disarium(i):\n",
    "            print(i)\n",
    "\n",
    "all_disarium(100)  "
   ]
  },
  {
   "cell_type": "code",
   "execution_count": 2,
   "id": "e3d95c99",
   "metadata": {},
   "outputs": [
    {
     "data": {
      "text/plain": [
       "False"
      ]
     },
     "execution_count": 2,
     "metadata": {},
     "output_type": "execute_result"
    }
   ],
   "source": [
    "\"\"\"3. Write a Python program to check if the given number is Happy Number?\"\"\"\n",
    "from functools import reduce\n",
    "def if_happy_number(num, iter_limit=20):\n",
    "    try:\n",
    "        counter = getattr(if_happy_number, 'counter')\n",
    "    except Exception as e:\n",
    "        setattr(if_happy_number, 'counter', 1)\n",
    "        counter = getattr(if_happy_number, 'counter')\n",
    "        \n",
    "    if num == 1:\n",
    "        print('Given number is a Happy number')\n",
    "        return\n",
    "    if counter > iter_limit:\n",
    "        print(num)\n",
    "        print('Given number is not a Happy number')\n",
    "        return\n",
    "    if len(str(num)) > 1:\n",
    "        sum_digit = reduce(lambda x, y: int(x)**2 + int(y)**2  , str(num))\n",
    "    else:\n",
    "        sum_digit = num**2\n",
    "        \n",
    "    print(sum_digit)\n",
    "    setattr(if_happy_number, 'counter', counter + 1)\n",
    "    if_happy_number(sum_digit)\n",
    "        \n",
    "        "
   ]
  },
  {
   "cell_type": "code",
   "execution_count": 45,
   "id": "f3907a7e",
   "metadata": {},
   "outputs": [
    {
     "name": "stdout",
     "output_type": "stream",
     "text": [
      "Enter the number : 15\n",
      "It is not a harshad number\n"
     ]
    }
   ],
   "source": [
    "\"\"\"5. Write a Python program to determine whether the given number is a Harshad Number?\"\"\"\n",
    "i_num = int(input(\"Enter the number : \"))\n",
    "sum1 = 0\n",
    "for st_num in str(i_num):\n",
    "    sum1 += int(st_num)\n",
    "    \n",
    "if (i_num%sum1==0):\n",
    "    print(\"It is a harshad number\")\n",
    "else:\n",
    "    print(\"It is not a harshad number\")"
   ]
  },
  {
   "cell_type": "code",
   "execution_count": 12,
   "id": "34d82998",
   "metadata": {},
   "outputs": [
    {
     "name": "stdout",
     "output_type": "stream",
     "text": [
      "Pronic number\n"
     ]
    }
   ],
   "source": [
    "#6.Pronic number\n",
    "def proni(n):\n",
    "    f = 0\n",
    "    for i in range(n):\n",
    "        if i * (i + 1) == n:\n",
    "            f = 1\n",
    "            break\n",
    "    if f==1:\n",
    "        print(\"Pronic number\")\n",
    "    else:\n",
    "        print(\"Not a Pronic number\")\n",
    "num=6\n",
    "proni(num)"
   ]
  },
  {
   "cell_type": "code",
   "execution_count": null,
   "id": "cc0e7617",
   "metadata": {},
   "outputs": [],
   "source": []
  }
 ],
 "metadata": {
  "kernelspec": {
   "display_name": "Python 3 (ipykernel)",
   "language": "python",
   "name": "python3"
  },
  "language_info": {
   "codemirror_mode": {
    "name": "ipython",
    "version": 3
   },
   "file_extension": ".py",
   "mimetype": "text/x-python",
   "name": "python",
   "nbconvert_exporter": "python",
   "pygments_lexer": "ipython3",
   "version": "3.9.7"
  }
 },
 "nbformat": 4,
 "nbformat_minor": 5
}
