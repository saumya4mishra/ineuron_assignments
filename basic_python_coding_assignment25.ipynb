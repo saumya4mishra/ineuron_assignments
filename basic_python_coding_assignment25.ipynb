{
 "cells": [
  {
   "cell_type": "code",
   "execution_count": 7,
   "id": "9da92787",
   "metadata": {},
   "outputs": [
    {
     "name": "stdout",
     "output_type": "stream",
     "text": [
      "2\n",
      "3\n",
      "0\n"
     ]
    }
   ],
   "source": [
    "#Question 1:\n",
    "\"\"\"Create a function that takes three integer arguments\n",
    "(a, b, c) and returns the amount of integers which are of equal value.\"\"\"\n",
    "def equal(x, y, z): \n",
    "    if x == y == z:\n",
    "        a = 3\n",
    "    elif x == y or y == z or x == z:\n",
    "        a = 2\n",
    "    else:\n",
    "        a = 0\n",
    "    return a\n",
    "print(equal(3, 4, 3))\n",
    "print(equal(1, 1, 1))\n",
    "print(equal(3, 4, 1))"
   ]
  },
  {
   "cell_type": "code",
   "execution_count": 14,
   "id": "17a5f4b7",
   "metadata": {},
   "outputs": [
    {
     "name": "stdout",
     "output_type": "stream",
     "text": [
      "[('B', 2), ('C', 3), ('D', 1)]\n",
      "[('dislikes', 3), ('followers', 10), ('likes', 2)]\n"
     ]
    }
   ],
   "source": [
    "#Question 2:\n",
    "\"\"\"Write a function that converts a dictionary into a list of keys-values tuples.\"\"\"\n",
    "def dictToList(dictn):\n",
    "    a = sorted(dictn.items())\n",
    "    return a \n",
    "print(dictToList(({\n",
    "  \"D\": 1,\n",
    "  \"B\": 2,\n",
    "  \"C\": 3\n",
    "})\n",
    "))\n",
    "print(dictToList(({\n",
    "  \"likes\": 2,\n",
    "  \"dislikes\": 3,\n",
    "  \"followers\": 10\n",
    "})\n",
    "))"
   ]
  },
  {
   "cell_type": "code",
   "execution_count": 23,
   "id": "610db25a",
   "metadata": {},
   "outputs": [
    {
     "name": "stdout",
     "output_type": "stream",
     "text": [
      "{'p': 'P', 's': 'S'}\n",
      "{'a': 'A', 'b': 'B', 'c': 'C'}\n",
      "{'a': 'A', 'v': 'V', 'y': 'Y', 'z': 'Z'}\n"
     ]
    }
   ],
   "source": [
    "#Question 3:\n",
    "'''Write a function that creates a dictionary with each (key, value) pair\n",
    "being the (lower case, upper case) versions of a letter, respectively.'''\n",
    "def mapping(lst):\n",
    "    dic = {}\n",
    "    for i in lst:\n",
    "        a = dic.update({i : i.upper()})\n",
    "    return dic   \n",
    "print(mapping([\"p\", \"s\"]) )\n",
    "print(mapping([\"a\", \"b\", \"c\"]) )\n",
    "print(mapping([\"a\", \"v\", \"y\", \"z\"]) )"
   ]
  },
  {
   "cell_type": "code",
   "execution_count": 32,
   "id": "d01ee17d",
   "metadata": {},
   "outputs": [
    {
     "name": "stdout",
     "output_type": "stream",
     "text": [
      "upples und bununus\n",
      "chooso cassorolo\n",
      "stuffed jalapeno poppers\n"
     ]
    }
   ],
   "source": [
    "#Question 4:\n",
    "\"\"\"Write a function, that replaces all vowels in a string with a specified vowel.\"\"\"\n",
    "def swa(a, b):\n",
    "    c = ['a', 'e', 'i', 'o', 'u']\n",
    "    for i in a:\n",
    "        if i in c:\n",
    "            z = a.replace(i, b)\n",
    "    return z\n",
    "print(swa(\"apples and bananas\", \"u\"))\n",
    "print(swa(\"cheese casserole\", \"o\"))\n",
    "print(swa(\"stuffed jalapeno poppers\", \"e\"))"
   ]
  },
  {
   "cell_type": "code",
   "execution_count": 6,
   "id": "237a423d",
   "metadata": {},
   "outputs": [
    {
     "name": "stdout",
     "output_type": "stream",
     "text": [
      "To Be oR NoT To Be!\n",
      "THe LiTTLe meRmaiD\n",
      "oH wHaT a BeauTiFuL moRNiNg.\n"
     ]
    }
   ],
   "source": [
    "#Question 5:\n",
    "\"\"\"Create a function that takes a string as input and capitalizes a letter \n",
    "if its ASCII code is even and returns its lower case version if its ASCII code is odd.\"\"\"\n",
    "def ascii(wrd):\n",
    "    lst = []\n",
    "    for char in wrd:\n",
    "        if (ord(char) % 2 == 0):\n",
    "            lst.append(char.upper())\n",
    "        else:\n",
    "             lst.append(char.lower())\n",
    "    s_res = \"\".join(lst)\n",
    "    return s_res\n",
    "print(ascii(\"to be or not to be!\"))\n",
    "print(ascii(\"THE LITTLE MERMAID\"))\n",
    "print(ascii((\"Oh what a beautiful morning.\")))\n"
   ]
  },
  {
   "cell_type": "code",
   "execution_count": null,
   "id": "b05a96ca",
   "metadata": {},
   "outputs": [],
   "source": []
  }
 ],
 "metadata": {
  "kernelspec": {
   "display_name": "Python 3 (ipykernel)",
   "language": "python",
   "name": "python3"
  },
  "language_info": {
   "codemirror_mode": {
    "name": "ipython",
    "version": 3
   },
   "file_extension": ".py",
   "mimetype": "text/x-python",
   "name": "python",
   "nbconvert_exporter": "python",
   "pygments_lexer": "ipython3",
   "version": "3.9.7"
  }
 },
 "nbformat": 4,
 "nbformat_minor": 5
}
