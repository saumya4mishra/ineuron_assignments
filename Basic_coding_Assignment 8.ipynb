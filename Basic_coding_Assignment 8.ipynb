{
 "cells": [
  {
   "cell_type": "code",
   "execution_count": 10,
   "id": "42789d88",
   "metadata": {},
   "outputs": [
    {
     "name": "stdout",
     "output_type": "stream",
     "text": [
      "[[17 22]\n",
      " [17 24]]\n"
     ]
    }
   ],
   "source": [
    "\"\"\"1. Write a Python Program to Add Two Matrices?\"\"\"\n",
    "\n",
    "import numpy as np\n",
    "l_list1 = np.array([[16,18],[15,19]])\n",
    "l_list2 = np.array([[1,4],[2,5]])\n",
    "print(np.add(l_list1,l_list2))"
   ]
  },
  {
   "cell_type": "code",
   "execution_count": 11,
   "id": "d413176b",
   "metadata": {},
   "outputs": [
    {
     "name": "stdout",
     "output_type": "stream",
     "text": [
      "[[16 72]\n",
      " [30 95]]\n"
     ]
    }
   ],
   "source": [
    "\"\"\"2. Write a Python Program to Multiply Two Matrices?\"\"\"\n",
    "import numpy as np\n",
    "l_list1 = np.array([[16,18],[15,19]])\n",
    "l_list2 = np.array([[1,4],[2,5]])\n",
    "print(np.multiply(l_list1,l_list2))"
   ]
  },
  {
   "cell_type": "code",
   "execution_count": 12,
   "id": "4184f71a",
   "metadata": {},
   "outputs": [
    {
     "name": "stdout",
     "output_type": "stream",
     "text": [
      "[[16 15]\n",
      " [18 19]]\n"
     ]
    }
   ],
   "source": [
    "\"\"\"3. Write a Python Program to Transpose a Matrix?\"\"\"\n",
    "import numpy as np\n",
    "l_list = np.array([[16,18],[15,19]])\n",
    "print(l_list.T)\n",
    "\n"
   ]
  },
  {
   "cell_type": "code",
   "execution_count": 14,
   "id": "e7709021",
   "metadata": {},
   "outputs": [
    {
     "name": "stdout",
     "output_type": "stream",
     "text": [
      "Enter the word : python\n",
      "hnopty\n"
     ]
    }
   ],
   "source": [
    "\"\"\"4. Write a Python Program to Sort Words in Alphabetic Order?\"\"\"\n",
    "\n",
    "st_word = input(\"Enter the word : \")\n",
    "l_list = []\n",
    "for i in st_word:\n",
    "    l_list.append(i)\n",
    "    l_list.sort()\n",
    "    l_word = \"\".join(l_list)\n",
    "print(l_word)\n"
   ]
  },
  {
   "cell_type": "code",
   "execution_count": 4,
   "id": "8555f65e",
   "metadata": {},
   "outputs": [
    {
     "name": "stdout",
     "output_type": "stream",
     "text": [
      "The original string is :  Gfg,#@ is best :@_)() for ! Geeks ;\n",
      "The string after punctuation filter :  Gfg is best _ for  Geeks \n"
     ]
    }
   ],
   "source": [
    "\"\"\"5. Write a Python Program to Remove Punctuation From a String?\"\"\"\n",
    "import re\n",
    " \n",
    "test_str = \"Gfg,#@ is best :@_)() for ! Geeks ;\"\n",
    " \n",
    "print(\"The original string is : \", test_str)\n",
    " \n",
    "res = re.sub(r'[^\\w\\s]', '', test_str)\n",
    " \n",
    "print(\"The string after punctuation filter : \", res)\n",
    "            \n",
    "\n",
    "            "
   ]
  },
  {
   "cell_type": "code",
   "execution_count": null,
   "id": "8abcf5b4",
   "metadata": {},
   "outputs": [],
   "source": []
  }
 ],
 "metadata": {
  "kernelspec": {
   "display_name": "Python 3 (ipykernel)",
   "language": "python",
   "name": "python3"
  },
  "language_info": {
   "codemirror_mode": {
    "name": "ipython",
    "version": 3
   },
   "file_extension": ".py",
   "mimetype": "text/x-python",
   "name": "python",
   "nbconvert_exporter": "python",
   "pygments_lexer": "ipython3",
   "version": "3.9.7"
  }
 },
 "nbformat": 4,
 "nbformat_minor": 5
}
