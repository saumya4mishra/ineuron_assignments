{
 "cells": [
  {
   "cell_type": "raw",
   "id": "b3c3bb48",
   "metadata": {},
   "source": [
    "\"\"\"\n",
    "1. Is the Python Standard Library included with PyInputPlus?\n",
    "\n",
    "Ans : PyInputPlus is not a part of the Python Standard Library, so you must install it separately using Pip.\n",
    "\n",
    "\"\"\""
   ]
  },
  {
   "cell_type": "raw",
   "id": "72ca0f41",
   "metadata": {},
   "source": [
    "\"\"\"\n",
    "\n",
    "2. Why is PyInputPlus commonly imported with import pyinputplus as pypi?\n",
    "\n",
    "Ans : We us as pypi because it saves us from typing pyinputplus each time.\n",
    "\n",
    "\"\"\""
   ]
  },
  {
   "cell_type": "raw",
   "id": "74720354",
   "metadata": {},
   "source": [
    "\"\"\"\n",
    "\n",
    "3. How do you distinguish between inputInt() and inputFloat()?\n",
    "\n",
    "Ans : inputInt() : Accepts an integer value, also takes 'min', 'max', 'greaterThan' and 'lessThan' for bounds. \n",
    "      inputFloat() : Accepts a floating-point numeric value\n",
    "\n",
    "\"\"\""
   ]
  },
  {
   "cell_type": "raw",
   "id": "c6011c6b",
   "metadata": {},
   "source": [
    "\"\"\"\n",
    "\n",
    "4. Using PyInputPlus, how do you ensure that the user enters a whole number between 0 and 99?\n",
    "\n",
    "Ans : pyip.inputInt(min = 0, max =99)\n",
    "\n",
    "\"\"\""
   ]
  },
  {
   "cell_type": "raw",
   "id": "4c38d910",
   "metadata": {},
   "source": [
    "\"\"\"\n",
    "\n",
    "5. What is transferred to the keyword arguments allowRegexes and blockRegexes?\n",
    "\n",
    "Ans : The allowRegexes and blockRegexes keyword arguments take a list of regular expression strings to determine what the\n",
    "PyInputPlus function will accept or reject as valid input.\n",
    "\n",
    "\"\"\""
   ]
  },
  {
   "cell_type": "raw",
   "id": "0049229e",
   "metadata": {},
   "source": [
    "\"\"\"\n",
    "\n",
    "6. If a blank input is entered three times, what does inputStr(limit=3) do?\n",
    "\n",
    "Ans : It will throw RetryLimitException exception.\n",
    "\"\"\""
   ]
  },
  {
   "cell_type": "raw",
   "id": "b7a5d33e",
   "metadata": {},
   "source": [
    "\"\"\"\n",
    "\n",
    "7. If blank input is entered three times, what does inputStr(limit=3, default='hello') do?\n",
    "\n",
    "Ans : the function returns the default value instead of raising an exception\n",
    "\n",
    "\"\"\""
   ]
  }
 ],
 "metadata": {
  "kernelspec": {
   "display_name": "Python 3 (ipykernel)",
   "language": "python",
   "name": "python3"
  },
  "language_info": {
   "codemirror_mode": {
    "name": "ipython",
    "version": 3
   },
   "file_extension": ".py",
   "mimetype": "text/x-python",
   "name": "python",
   "nbconvert_exporter": "python",
   "pygments_lexer": "ipython3",
   "version": "3.9.7"
  }
 },
 "nbformat": 4,
 "nbformat_minor": 5
}
