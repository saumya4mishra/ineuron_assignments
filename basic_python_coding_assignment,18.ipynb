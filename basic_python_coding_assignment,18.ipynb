{
 "cells": [
  {
   "cell_type": "code",
   "execution_count": 1,
   "id": "082e4604",
   "metadata": {},
   "outputs": [
    {
     "name": "stdout",
     "output_type": "stream",
     "text": [
      "[1, 2]\n",
      "[1, 0, 15]\n",
      "[1, 2, 123]\n"
     ]
    }
   ],
   "source": [
    "#Question1 Create a function that takes a list of non-negative integers and strings and return a new list without the strings.\n",
    "def q1(lst):\n",
    "    lst1 = [i for i in lst if type(i) == int]\n",
    "    print(lst1)\n",
    "\n",
    "q1([1, 2, \"a\", \"b\"])\n",
    "q1([1, \"a\", \"b\", 0, 15])\n",
    "q1([1, 2, \"aasf\", \"1\", \"123\", 123])"
   ]
  },
  {
   "cell_type": "code",
   "execution_count": 2,
   "id": "31d0519a",
   "metadata": {},
   "outputs": [
    {
     "name": "stdout",
     "output_type": "stream",
     "text": [
      "Enter the string: Aditya\n",
      "AYTIDa\n"
     ]
    }
   ],
   "source": [
    "#question2 The \"Reverser\" takes a string as input and returns that string in reverse order, with the opposite case\n",
    "inp = input(\"Enter the string: \")\n",
    "inp = inp.swapcase()\n",
    "print(inp[::-1])"
   ]
  },
  {
   "cell_type": "code",
   "execution_count": 3,
   "id": "212576a0",
   "metadata": {},
   "outputs": [
    {
     "name": "stdout",
     "output_type": "stream",
     "text": [
      "1\n",
      "[2, 3, 4, 5]\n",
      "6\n"
     ]
    }
   ],
   "source": [
    "#question3 You can assign variables from lists like this:\n",
    "lst = [1, 2, 3, 4, 5, 6]\n",
    "first, middle, last = lst[0], lst[1:-1], lst[-1]\n",
    "print(first)\n",
    "print(middle)\n",
    "print(last)\n"
   ]
  },
  {
   "cell_type": "code",
   "execution_count": 4,
   "id": "700da40a",
   "metadata": {},
   "outputs": [
    {
     "name": "stdout",
     "output_type": "stream",
     "text": [
      "6\n"
     ]
    }
   ],
   "source": [
    "#question4 Write a function that calculates the factorial of a number recursively\n",
    "import math as ma\n",
    "num = 3\n",
    "print(ma.factorial(num))\n"
   ]
  },
  {
   "cell_type": "code",
   "execution_count": 1,
   "id": "59609dd9",
   "metadata": {},
   "outputs": [
    {
     "name": "stdout",
     "output_type": "stream",
     "text": [
      "['b', 'a', 'a', 'a']\n"
     ]
    }
   ],
   "source": [
    "#question5 Write a function that moves all elements of one type to the end of the list.\n",
    "lst, a = ([\"a\", \"a\", \"a\", \"b\"], \"a\")\n",
    "for i in lst:\n",
    "    if i == a:\n",
    "        lst.append(i)\n",
    "        lst.remove(i)\n",
    "print(lst)\n"
   ]
  },
  {
   "cell_type": "code",
   "execution_count": null,
   "id": "e444dac5",
   "metadata": {},
   "outputs": [],
   "source": []
  }
 ],
 "metadata": {
  "kernelspec": {
   "display_name": "Python 3 (ipykernel)",
   "language": "python",
   "name": "python3"
  },
  "language_info": {
   "codemirror_mode": {
    "name": "ipython",
    "version": 3
   },
   "file_extension": ".py",
   "mimetype": "text/x-python",
   "name": "python",
   "nbconvert_exporter": "python",
   "pygments_lexer": "ipython3",
   "version": "3.9.7"
  }
 },
 "nbformat": 4,
 "nbformat_minor": 5
}
