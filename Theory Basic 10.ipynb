{
 "cells": [
  {
   "cell_type": "raw",
   "id": "b86a85f6",
   "metadata": {},
   "source": [
    "'''\n",
    "1.How do you distinguish between shutil.copy() and shutil.copytree()?\n",
    "\n",
    "While shutil.copy () will copy a single file, shutil.copytree () will copy an entire folder and every folder and file contained in it. Calling shutil.copytree (source, destination) will copy the folder at the path source, along with all of its files and subfolders, to the folder at the path destination.\n",
    "'''"
   ]
  },
  {
   "cell_type": "raw",
   "id": "866c33b4",
   "metadata": {},
   "source": [
    "'''\n",
    "2. What function is used to rename files?\n",
    "\n",
    "rename() method in Python is used to rename a file or directory.\n",
    "'''"
   ]
  },
  {
   "cell_type": "raw",
   "id": "88e3c26c",
   "metadata": {},
   "source": [
    "'''\n",
    "3. What is the difference between the delete functions in the send2trash and shutil modules?\n",
    "\n",
    "The send2trash functions will move a file or folder to the recycle bin, while shutil functions will permanently delete files and folders.\n",
    "'''"
   ]
  },
  {
   "cell_type": "raw",
   "id": "f05d3a7f",
   "metadata": {},
   "source": [
    "'''\n",
    "4. ZipFile objects have a close() method just like File objects’ close() method. What ZipFile method is equivalent to File objects’ open() method?\n",
    "\n",
    "The extractall() method for ZipFile objects extracts all the files and folders from a ZIP file into the current working directory\n",
    "'''"
   ]
  },
  {
   "cell_type": "code",
   "execution_count": 5,
   "id": "76b4e550",
   "metadata": {},
   "outputs": [],
   "source": [
    "'''\n",
    "5. Create a programme that searches a folder tree for files with a certain file extension (such as .pdf or .jpg). Copy these files from whatever location they are in to a new folder.\n",
    "'''\n",
    "import os, shutil\n",
    "\n",
    "def selectiveCopy(folder, extensions, destFolder):\n",
    "\tfolder = os.path.abspath(folder)\n",
    "\tdestFolder = os.path.abspath(destFolder)\n",
    "# \tprint('Looking in', folder, 'for files with extensions of', ', '.join(extensions))\n",
    "    \n",
    "\tfor foldername, subfolders, filenames in os.walk(folder):\n",
    "\t\tfor filename in filenames:\n",
    "\t\t\tname, extension = os.path.splitext(filename)\n",
    "\t\t\tif extension in extensions:\n",
    "\t\t\t\tfileAbsPath = foldername + os.path.sep + filename\n",
    "# \t\t\t\tprint('Coping', fileAbsPath, 'to', destFolder)\n",
    "\t\t\t\tshutil.copy(fileAbsPath, destFolder)\n",
    "\n",
    "extensions = ['.py']\n",
    "folder = r'C:\\Users\\SAMA1383\\Desktop\\XIPA_Source\\config\\Modules\\Grille'\n",
    "destFolder = r\"C:\\Users\\SAMA1383\\Desktop\\XIPA_Source\\config\\Modules\\test\"\n",
    "selectiveCopy(folder, extensions, destFolder)\n"
   ]
  },
  {
   "cell_type": "code",
   "execution_count": null,
   "id": "62feb1a4",
   "metadata": {},
   "outputs": [],
   "source": []
  }
 ],
 "metadata": {
  "kernelspec": {
   "display_name": "Python 3 (ipykernel)",
   "language": "python",
   "name": "python3"
  },
  "language_info": {
   "codemirror_mode": {
    "name": "ipython",
    "version": 3
   },
   "file_extension": ".py",
   "mimetype": "text/x-python",
   "name": "python",
   "nbconvert_exporter": "python",
   "pygments_lexer": "ipython3",
   "version": "3.9.7"
  }
 },
 "nbformat": 4,
 "nbformat_minor": 5
}
