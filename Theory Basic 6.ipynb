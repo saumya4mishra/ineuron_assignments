{
 "cells": [
  {
   "cell_type": "raw",
   "id": "67b287ec",
   "metadata": {},
   "source": [
    "#1. What are escape characters, and how do you use them?\n",
    "1.\\' Single Quote\n",
    "2.\\\\ Backslash\n",
    "3.\\n New Line \n",
    "4.\\r Carriage Return\n",
    "5.\\t Tab\n",
    "6.\\b Backspace\n",
    "7.\\ooo Octal value\n",
    "8.\\xhh Hex value\n",
    "\n",
    "to use these escape characters we just need to write it as a string e.g.\n",
    "\n",
    "x = 'hello\\nworld'\n",
    "print(x)\n",
    "\n",
    ">> hello\n",
    "world"
   ]
  },
  {
   "cell_type": "raw",
   "id": "8c62a9a7",
   "metadata": {},
   "source": [
    "#2. What do the escape characters n and t stand for?\n",
    "\\n is for new line and\n",
    "\n",
    "\\t is for moving one tab ahead \n"
   ]
  },
  {
   "cell_type": "raw",
   "id": "d7f7ff92",
   "metadata": {},
   "source": [
    "#3. What is the way to include backslash characters in a string?\n",
    "\n",
    "by using \"\\\\\" \n",
    "\n",
    "print(''hello\\\\world')\n",
    ">> hello\\world\n"
   ]
  },
  {
   "cell_type": "raw",
   "id": "ff4ebac7",
   "metadata": {},
   "source": [
    "#4. The string \"Howl's Moving Castle\" is a correct value. Why isn't the single quote character \n",
    "#in the word Howl's not escaped a problem?\n",
    "\n",
    "Because already that is in double quotes so there is no issue with inside single quote.\n",
    "\n"
   ]
  },
  {
   "cell_type": "raw",
   "id": "e8e68daa",
   "metadata": {},
   "source": [
    "#5. How do you write a string of newlines if you don't want to use the n character?\n",
    "\n",
    "print('hello world')\n",
    "print('hello world')\n",
    "print('hello world')\n",
    "print('hello world')\n",
    "\n",
    ">> hello world \n",
    ">> hello world \n",
    ">> hello world \n",
    ">> hello world \n",
    "\n",
    "print statements by default have end = '\\n' so that next print statements are printed in next line"
   ]
  },
  {
   "cell_type": "raw",
   "id": "74086e45",
   "metadata": {},
   "source": [
    "#6. What are the values of the given expressions?\n",
    "#'Hello, world!'[1]--------e\n",
    "#'Hello, world!'[0:5]------hello\n",
    "#'Hello, world!'[:5]-------hello\n",
    "#'Hello, world!'[3:]-------lo, world!\n",
    "\n"
   ]
  },
  {
   "cell_type": "raw",
   "id": "dc7a9367",
   "metadata": {},
   "source": [
    "#7. What are the values of the following expressions?\n",
    "#'Hello'.upper()------------HELLO\n",
    "#'Hello'.upper().isupper()------True\n",
    "#'Hello'.upper().lower()--------hello\n",
    "\n"
   ]
  },
  {
   "cell_type": "raw",
   "id": "e493aca9",
   "metadata": {},
   "source": [
    "#8. What are the values of the following expressions?\n",
    "\n",
    "'Remember, remember, the fifth of July.'.split()\n",
    ">> ['Remember,', 'remember,', 'the', 'fifth', 'of', 'July.']\n",
    "\n",
    "'-'.join('There can only one.'.split())\n",
    ">> 'There-can-only-one.'\n",
    "\n",
    "\n"
   ]
  },
  {
   "cell_type": "raw",
   "id": "40544a52",
   "metadata": {},
   "source": [
    "#9. What are the methods for right-justifying, left-justifying, and centering a string?\n",
    "\n",
    "rjust-it will align the character at given width to right as specified \n",
    "ljust-it will align the character at given width to left as specified \n",
    "center-it will align the character at given width to center as specified \n",
    "\n"
   ]
  },
  {
   "cell_type": "raw",
   "id": "4a8c980b",
   "metadata": {},
   "source": [
    "#10. What is the best way to remove whitespace characters from the start or end?\n",
    "strip()\n",
    "ex- a=\"    h      \"\n",
    "    a.strip()"
   ]
  },
  {
   "cell_type": "code",
   "execution_count": null,
   "id": "c24b1624",
   "metadata": {},
   "outputs": [],
   "source": []
  },
  {
   "cell_type": "code",
   "execution_count": null,
   "id": "014b50a4",
   "metadata": {},
   "outputs": [],
   "source": []
  }
 ],
 "metadata": {
  "kernelspec": {
   "display_name": "Python 3 (ipykernel)",
   "language": "python",
   "name": "python3"
  },
  "language_info": {
   "codemirror_mode": {
    "name": "ipython",
    "version": 3
   },
   "file_extension": ".py",
   "mimetype": "text/x-python",
   "name": "python",
   "nbconvert_exporter": "python",
   "pygments_lexer": "ipython3",
   "version": "3.9.7"
  }
 },
 "nbformat": 4,
 "nbformat_minor": 5
}
