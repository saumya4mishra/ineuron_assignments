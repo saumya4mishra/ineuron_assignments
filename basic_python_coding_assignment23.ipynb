{
 "cells": [
  {
   "cell_type": "code",
   "execution_count": 2,
   "id": "d84cf120",
   "metadata": {},
   "outputs": [
    {
     "name": "stdout",
     "output_type": "stream",
     "text": [
      "True\n",
      "False\n",
      "True\n"
     ]
    }
   ],
   "source": [
    "#Question1:\n",
    "\"\"\"Create a function that takes a number as an argument and returns True or False depending \n",
    "on whether the number is symmetrical or not. A number is symmetrical when it is the same as its reverse.\"\"\"\n",
    "def palindrom(num):\n",
    "    return str(num) == str(num)[::-1]\n",
    "\n",
    "print(palindrom(7227))\n",
    "print(palindrom(4256))\n",
    "print(palindrom(9559))\n",
    "   "
   ]
  },
  {
   "cell_type": "code",
   "execution_count": 6,
   "id": "dd9eb65d",
   "metadata": {},
   "outputs": [
    {
     "name": "stdout",
     "output_type": "stream",
     "text": [
      "24\n",
      "24\n",
      "0\n",
      "-20\n"
     ]
    }
   ],
   "source": [
    "#Question2:\n",
    "\"\"\"Given a string of numbers separated by a comma and space, return the product of the numbers.\"\"\"\n",
    "from functools import reduce\n",
    "def multiply_nums(num):\n",
    "    t_num = eval(num)\n",
    "    mul = reduce(lambda x, y: x*y, t_num)\n",
    "    return mul\n",
    "print(multiply_nums(\"2, 3, 4 \"))\n",
    "print(multiply_nums(\"1, 2, 3, 4\"))\n",
    "print(multiply_nums(\"54, 75, 453, 0\")) \n",
    "print(multiply_nums(\"10, -2\"))"
   ]
  },
  {
   "cell_type": "code",
   "execution_count": 8,
   "id": "e05b623a",
   "metadata": {},
   "outputs": [
    {
     "name": "stdout",
     "output_type": "stream",
     "text": [
      "811181\n",
      "416649\n",
      "9414\n"
     ]
    }
   ],
   "source": [
    "\n",
    "#Question3:\n",
    "\"\"\"Create a function that squares every digit of a number.\"\"\"\n",
    "def sq(num):\n",
    "    \n",
    "    s_num = str(num)\n",
    "    l_sq = list(map(lambda x: str(int(x)**2), s_num))\n",
    "    s_sq = \"\".join(l_sq)\n",
    "    res = int(s_sq)\n",
    "    \n",
    "    return res\n",
    "print(sq(9119))\n",
    "print(sq(2483))\n",
    "print(sq(3212))\n"
   ]
  },
  {
   "cell_type": "markdown",
   "id": "23d25665",
   "metadata": {},
   "source": []
  },
  {
   "cell_type": "code",
   "execution_count": 112,
   "id": "f98bbd44",
   "metadata": {},
   "outputs": [
    {
     "name": "stdout",
     "output_type": "stream",
     "text": [
      "[1, 3, 5]\n",
      "[4]\n",
      "[5, 7, 8, 9, 10, 15]\n"
     ]
    }
   ],
   "source": [
    "#Question4:\n",
    "\"\"\"Create a function that sorts a list and removes all duplicate items from it.\"\"\"\n",
    "def dup(num):\n",
    "    lst = list(set(num))\n",
    "    lst.sort()\n",
    "    return lst\n",
    "    \n",
    "print(dup([1, 3, 3, 5, 5]) )\n",
    "print(dup([4, 4, 4, 4]) )\n",
    "print(dup([5, 7, 8, 9, 10, 15]))"
   ]
  },
  {
   "cell_type": "code",
   "execution_count": 11,
   "id": "a3ef5b76",
   "metadata": {},
   "outputs": [
    {
     "name": "stdout",
     "output_type": "stream",
     "text": [
      "3\n",
      "3\n",
      "6\n"
     ]
    }
   ],
   "source": [
    "from functools import reduce\n",
    "\n",
    "#Question5:\n",
    "\"\"\"Create a function that returns the mean of all digits.\"\"\"\n",
    "def mean(num):\n",
    "    sum_digit = reduce(lambda x, y: int(x) + int(y), str(num))\n",
    "    length = len(str(num))\n",
    "    return int(sum_digit/ length)\n",
    "print(mean(42))\n",
    "print(mean(12345))\n",
    "print(mean(666))"
   ]
  },
  {
   "cell_type": "code",
   "execution_count": null,
   "id": "1910d459",
   "metadata": {},
   "outputs": [],
   "source": []
  }
 ],
 "metadata": {
  "kernelspec": {
   "display_name": "Python 3 (ipykernel)",
   "language": "python",
   "name": "python3"
  },
  "language_info": {
   "codemirror_mode": {
    "name": "ipython",
    "version": 3
   },
   "file_extension": ".py",
   "mimetype": "text/x-python",
   "name": "python",
   "nbconvert_exporter": "python",
   "pygments_lexer": "ipython3",
   "version": "3.9.7"
  }
 },
 "nbformat": 4,
 "nbformat_minor": 5
}
