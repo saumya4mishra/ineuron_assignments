{
 "cells": [
  {
   "cell_type": "raw",
   "id": "83c02182",
   "metadata": {},
   "source": [
    "# Q1. What is the relationship between classes and modules?"
   ]
  },
  {
   "cell_type": "raw",
   "id": "b47969e9",
   "metadata": {},
   "source": [
    "    Modules are about providing methods that you can use across multiple classes. Modules are about functions. You dont instantiate modules(e.g. Math module) you just use methods in them.Module is like library of methods. \n",
    "    Classes are about objects; it can hold its state (by keeping track of instance variables) and be duplicated as many times as you want. "
   ]
  },
  {
   "cell_type": "raw",
   "id": "47c485b9",
   "metadata": {},
   "source": [
    "# Q2. How do you make instances and classes?"
   ]
  },
  {
   "cell_type": "raw",
   "id": "c55bb3a4",
   "metadata": {},
   "source": [
    " To create instances of a class, you call the class using class name and pass in whatever arguments its __init__ method accepts.\n",
    "    \n",
    "    The class statement creates a new class definition. The name of the class immediately follows the keyword class followed by a colon.Explained below "
   ]
  },
  {
   "cell_type": "code",
   "execution_count": null,
   "id": "e4944b7d",
   "metadata": {},
   "outputs": [],
   "source": [
    "class Student:\n",
    "    def __init__(self,name):\n",
    "        self.name = name\n",
    "    \n",
    "    def __str__(self):\n",
    "        return f\"This is {self.name} (an instance of a class Student)\"\n",
    "    \n",
    "student1 = Student(\"Saumya Mishra\")       \n",
    "print(student1)"
   ]
  },
  {
   "cell_type": "raw",
   "id": "67c9cb7e",
   "metadata": {},
   "source": [
    "# Q3. Where and how should be class attributes created?"
   ]
  },
  {
   "cell_type": "raw",
   "id": "e6331b5f",
   "metadata": {},
   "source": [
    "Class attributes belong to the class itself they will be shared by all the instances. Such attributes are defined in the class body parts usually at the top, for legibility.    "
   ]
  },
  {
   "cell_type": "raw",
   "id": "7af792a5",
   "metadata": {},
   "source": [
    "class Student:\n",
    "    class_teacher = 'Patil Sir' # class attribute\n",
    "    \n",
    "    def __init__(self,name, roll_no): # to bind attributes to class when object is created\n",
    "        self.name = name \n",
    "        self.roll_no = roll_no\n",
    "    \n",
    "    def __str__(self):\n",
    "        return f\"This is {self.name} (an instance of a class Student)\"\n",
    "    \n",
    "student1 = Student(\"Saumya Mishra\",29)  \n",
    "\n",
    "print(student1.class_teacher) \n"
   ]
  },
  {
   "cell_type": "raw",
   "id": "494cc85e",
   "metadata": {},
   "source": [
    "# Q4. Where and how are instance attributes created?"
   ]
  },
  {
   "cell_type": "raw",
   "id": "17c80875",
   "metadata": {},
   "source": [
    "Unlike class attributes, instance attributes are not shared by objects. Every object has its own copy of the instance attribute. They are created in __init__ method. How they are created is Explained below::"
   ]
  },
  {
   "cell_type": "code",
   "execution_count": null,
   "id": "55f69f84",
   "metadata": {},
   "outputs": [],
   "source": [
    "class Student:\n",
    "    def __init__(self,name, roll_no): # to bind attributes to class when object is created\n",
    "        self.name = name \n",
    "        self.roll_no = roll_no\n",
    "    \n",
    "    def __str__(self):\n",
    "        return f\"This is {self.name} (an instance of a class Student)\"\n",
    "    \n",
    "student1 = Student(\"Saumya Mishra\",29)  \n",
    "\n",
    "print(student1.name) # attributes are accessed by objects\n",
    "print(student1.roll_no)"
   ]
  },
  {
   "cell_type": "raw",
   "id": "6a686e63",
   "metadata": {},
   "source": [
    "# Q5. What does the term \"self\" in a Python class mean?"
   ]
  },
  {
   "cell_type": "raw",
   "id": "4439d3e7",
   "metadata": {},
   "source": [
    "Self represents the instance of the class. By using the “self” keyword we can access the attributes and methods of the class in python. It binds the attributes with the given arguments.The reason you need to use self. is because Python does not use the @ syntax to refer to instance attributes. Python decided to do methods in a way that makes the instance to which the method belongs be passed automatically, but not received automatically: the first parameter of methods is the instance the method is called on."
   ]
  },
  {
   "cell_type": "raw",
   "id": "e95de526",
   "metadata": {},
   "source": [
    "# Q6. How does a Python class handle operator overloading?"
   ]
  },
  {
   "cell_type": "raw",
   "id": "c9f9f5a0",
   "metadata": {},
   "source": [
    "Operator Overloading means giving extended meaning beyond their predefined operational meaning. For example operator + is used to add two integers as well as join two strings and merge two lists. It is achievable because ‘+’ operator is overloaded by int class and str class. "
   ]
  },
  {
   "cell_type": "raw",
   "id": "34026e1b",
   "metadata": {},
   "source": [
    "# + and * operator is used for different purpose\n",
    "\n",
    "print(1 + 2)\n",
    " \n",
    "# concatenate two strings\n",
    "print(\"abcd\"+\"efg\")\n",
    " \n",
    "# Product two numbers\n",
    "print(13 * 3)\n",
    " \n",
    "# Repeat the String\n",
    "print(\"Ineuron\"*4)"
   ]
  },
  {
   "cell_type": "raw",
   "id": "09367270",
   "metadata": {},
   "source": [
    "# Q7. When do you consider allowing operator overloading of your classes?"
   ]
  },
  {
   "cell_type": "raw",
   "id": "2f2c94cf",
   "metadata": {},
   "source": [
    "Let us assumewe have an object called string1 which is a string object as defined below. Now, when we try to add a string to this string object, the compiler will throw an error. This is because the compiler doesn't know how to add them. "
   ]
  },
  {
   "cell_type": "code",
   "execution_count": 4,
   "id": "9d884995",
   "metadata": {},
   "outputs": [
    {
     "ename": "TypeError",
     "evalue": "unsupported operand type(s) for +: 'String' and 'str'",
     "output_type": "error",
     "traceback": [
      "\u001b[1;31m---------------------------------------------------------------------------\u001b[0m",
      "\u001b[1;31mTypeError\u001b[0m                                 Traceback (most recent call last)",
      "\u001b[1;32m~\\AppData\\Local\\Temp/ipykernel_8280/449315374.py\u001b[0m in \u001b[0;36m<module>\u001b[1;34m\u001b[0m\n\u001b[0;32m      9\u001b[0m \u001b[1;33m\u001b[0m\u001b[0m\n\u001b[0;32m     10\u001b[0m \u001b[1;31m# concatenate String object and a string\u001b[0m\u001b[1;33m\u001b[0m\u001b[1;33m\u001b[0m\u001b[0m\n\u001b[1;32m---> 11\u001b[1;33m \u001b[0mprint\u001b[0m\u001b[1;33m(\u001b[0m\u001b[0mstring1\u001b[0m \u001b[1;33m+\u001b[0m\u001b[1;34m' world'\u001b[0m\u001b[1;33m)\u001b[0m\u001b[1;33m\u001b[0m\u001b[1;33m\u001b[0m\u001b[0m\n\u001b[0m",
      "\u001b[1;31mTypeError\u001b[0m: unsupported operand type(s) for +: 'String' and 'str'"
     ]
    }
   ],
   "source": [
    "# declare our own string class\n",
    "class String:\n",
    "    def __init__(self, str1):\n",
    "            self.str1 = str1         \n",
    "    def __repr__(self):\n",
    "        return 'Object: {}'.format(self.str1)\n",
    "\n",
    "string1 = String('Hello')    \n",
    "\n",
    "# concatenate String object and a string\n",
    "print(string1 +' world')"
   ]
  },
  {
   "cell_type": "raw",
   "id": "06062889",
   "metadata": {},
   "source": [
    "### This error can be avoided by adding the __ add__ method to the String class. This way, we are overloading the + operator to concatenate a string object with a string."
   ]
  },
  {
   "cell_type": "code",
   "execution_count": 5,
   "id": "95fac532",
   "metadata": {},
   "outputs": [
    {
     "name": "stdout",
     "output_type": "stream",
     "text": [
      "Hello world\n"
     ]
    }
   ],
   "source": [
    "# declare our own string class\n",
    "class String:\n",
    "    def __init__(self, str1):\n",
    "            self.str1 = str1         \n",
    "                \n",
    "    def __add__(self, other):\n",
    "          return self.str1 + other\n",
    "            \n",
    "    def __repr__(self):\n",
    "        return 'Object: {}'.format(self.str1)\n",
    "\n",
    "string1 = String('Hello')    \n",
    "\n",
    "# concatenate String object and a string\n",
    "print(string1 +' world')"
   ]
  },
  {
   "cell_type": "raw",
   "id": "662426d8",
   "metadata": {},
   "source": [
    "# Q8. What is the most popular form of operator overloading?"
   ]
  },
  {
   "cell_type": "raw",
   "id": "5f6436ab",
   "metadata": {},
   "source": [
    "I think the most popular form of operator overloading is of addition (+) operator and multiplication (*) operator.\n",
    "\n",
    "When two integers are passed to + operator, it will return the sum of two integers. When two strings are passed to + operator, it will return concatenation of two strings.\n",
    "\n",
    "When two integers are passed to * operator, it will return the multiplication of two integers. When a strings and a integer are passed to * operator, it will return concatenation the repetition of the string by the number passed.\n"
   ]
  },
  {
   "cell_type": "raw",
   "id": "fb8aa2c8",
   "metadata": {},
   "source": [
    "# Q9. What are the two most important concepts to grasp in order to comprehend Python OOP code?"
   ]
  },
  {
   "cell_type": "raw",
   "id": "6cee2828",
   "metadata": {},
   "source": [
    "1. Inheritance."
   ]
  },
  {
   "cell_type": "raw",
   "id": "bb16c768",
   "metadata": {},
   "source": [
    "2. Polymorphism."
   ]
  },
  {
   "cell_type": "code",
   "execution_count": null,
   "id": "ca428a4c",
   "metadata": {},
   "outputs": [],
   "source": []
  },
  {
   "cell_type": "code",
   "execution_count": null,
   "id": "291bbb06",
   "metadata": {},
   "outputs": [],
   "source": []
  }
 ],
 "metadata": {
  "kernelspec": {
   "display_name": "Python 3 (ipykernel)",
   "language": "python",
   "name": "python3"
  },
  "language_info": {
   "codemirror_mode": {
    "name": "ipython",
    "version": 3
   },
   "file_extension": ".py",
   "mimetype": "text/x-python",
   "name": "python",
   "nbconvert_exporter": "python",
   "pygments_lexer": "ipython3",
   "version": "3.9.7"
  }
 },
 "nbformat": 4,
 "nbformat_minor": 5
}
