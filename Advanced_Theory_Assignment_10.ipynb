{
 "cells": [
  {
   "cell_type": "raw",
   "id": "73c10505",
   "metadata": {},
   "source": [
    "# Q1. What is the difference between __getattr__ and __getattribute__?"
   ]
  },
  {
   "cell_type": "raw",
   "id": "33f2d7ef",
   "metadata": {},
   "source": [
    "Normally, if we want to access the attribute of a class, we access it with instance of the class like instance.attribute_name. These attributes are already present in the class.\n",
    "Where as, to access the attribute of class which are not defined in the class, we use __getattr__() method.\n",
    "so asically the difference between them is \n",
    "\n",
    "__getattribute__ gets called “first”(the highest priority), whether or not there’s the attribute.\n",
    "__getattr__ gets called “last”(the lowest priority), if Python cannot find the attribute.\n"
   ]
  },
  {
   "cell_type": "code",
   "execution_count": 1,
   "id": "9a38141c",
   "metadata": {},
   "outputs": [
    {
     "name": "stdout",
     "output_type": "stream",
     "text": [
      "Banglore\n",
      "abcd\n"
     ]
    }
   ],
   "source": [
    "class Sample:\n",
    "    def __init__(self,address):\n",
    "        self.address = address\n",
    "    \n",
    "    def __getattr__(self,name):\n",
    "        return name.lower()\n",
    "    \n",
    "s =Sample('Banglore')\n",
    "print(s.address) # existing attribute\n",
    "print(s.ABCD) # ABCD is non defined in class"
   ]
  },
  {
   "cell_type": "raw",
   "id": "31ce680c",
   "metadata": {},
   "source": [
    "getattribute will look for every attribute, doesn’t matter if the attribute exists or not."
   ]
  },
  {
   "cell_type": "code",
   "execution_count": 2,
   "id": "57099c25",
   "metadata": {},
   "outputs": [
    {
     "name": "stdout",
     "output_type": "stream",
     "text": [
      "New Value\n"
     ]
    }
   ],
   "source": [
    "class A:\n",
    "    \n",
    "    def __getattr__(self, name):\n",
    "        return ('hahaha-'+name)\n",
    "    def __getattribute__(self,name):\n",
    "        return ('jajaja-'+name)\n",
    "\n",
    "a = A()\n",
    "a.ace = 'ace value'\n",
    "\n",
    "print(a.ace)\n",
    "print(a.ace2)\n",
    "print(a.__dict__)\n"
   ]
  },
  {
   "cell_type": "code",
   "execution_count": null,
   "id": "a671e54c",
   "metadata": {},
   "outputs": [],
   "source": [
    "- Even though we assigned a value ‘ace value’ to the attribute ‘ace’, __getattribute__ is invoked first(It “intercepts” every lookup). Python doesn’t even try to find ‘ace’.\n",
    "\n",
    "- ‘ace2’ does not exist. __getattribute__ is also called here, not __getattr__ .\n",
    "\n",
    "- If we see the output of a.__dict__, we again can conclude that __getattribute__ is invoked “first”, the highest priority."
   ]
  },
  {
   "cell_type": "raw",
   "id": "b37a363f",
   "metadata": {},
   "source": [
    "# Q2. What is the difference between properties and descriptors?"
   ]
  },
  {
   "cell_type": "raw",
   "id": "87ee12e7",
   "metadata": {},
   "source": [
    "Descriptors are Python objects that implement a method of the descriptor protocol, which gives you the ability to create objects that have special behavior when they’re accessed as attributes of other objects. Here you can see the correct definition of the descriptor protocol:\n",
    "\n",
    "__get__(self, obj, type=None) -> object\n",
    "__set__(self, obj, value) -> None\n",
    "__delete__(self, obj) -> None\n",
    "__set_name__(self, owner, name)\n",
    "\n",
    "\n"
   ]
  },
  {
   "cell_type": "code",
   "execution_count": 3,
   "id": "09deb47c",
   "metadata": {},
   "outputs": [
    {
     "name": "stdout",
     "output_type": "stream",
     "text": [
      "accessing the attribute to get the value\n",
      "42\n"
     ]
    }
   ],
   "source": [
    "class Verbose_attribute():\n",
    "    def __get__(self, obj, type=None) -> object:\n",
    "        print(\"accessing the attribute to get the value\")\n",
    "        return 42\n",
    "    def __set__(self, obj, value) -> None:\n",
    "        print(\"accessing the attribute to set the value\")\n",
    "        raise AttributeError(\"Cannot change the value\")\n",
    "\n",
    "class Foo():\n",
    "    attribute1 = Verbose_attribute()\n",
    "\n",
    "my_foo_object = Foo()\n",
    "x = my_foo_object.attribute1\n",
    "print(x)"
   ]
  },
  {
   "cell_type": "markdown",
   "id": "4f8d106f",
   "metadata": {},
   "source": [
    "In the example above, Verbose_attribute() implements the descriptor protocol. Once it’s instantiated as an attribute of Foo, it can be considered a descriptor.\n",
    "\n",
    "As a descriptor, it has binding behavior when it’s accessed using dot notation. In this case, the descriptor logs a message on the console every time it’s accessed to get or set a value:\n",
    "\n",
    "When it’s accessed to .__get__() the value, it always returns the value 42.\n",
    "When it’s accessed to .__set__() a specific value, it raises an AttributeError exception, which is the recommended way to implement read-only descriptors."
   ]
  },
  {
   "cell_type": "markdown",
   "id": "b87e167e",
   "metadata": {},
   "source": [
    "If you want to get the same result as the previous example without explicitly using a Python descriptor, then the most straightforward approach is to use a property. The following example uses a property that logs a message to the console when it’s accessed:"
   ]
  },
  {
   "cell_type": "code",
   "execution_count": null,
   "id": "c435dda9",
   "metadata": {},
   "outputs": [],
   "source": [
    "# property_decorator.py\n",
    "class Foo():\n",
    "    @property\n",
    "    def attribute1(self) -> object:\n",
    "        print(\"accessing the attribute to get the value\")\n",
    "        return 42\n",
    "\n",
    "    @attribute1.setter\n",
    "    def attribute1(self, value) -> None:\n",
    "        print(\"accessing the attribute to set the value\")\n",
    "        raise AttributeError(\"Cannot change the value\")\n",
    "\n",
    "my_foo_object = Foo()\n",
    "x = my_foo_object.attribute1\n",
    "print(x)"
   ]
  },
  {
   "cell_type": "markdown",
   "id": "6c159d14",
   "metadata": {},
   "source": [
    "property() returns a property object that implements the descriptor protocol. It uses the parameters fget, fset and fdel for the actual implementation of the three methods of the protocol."
   ]
  },
  {
   "cell_type": "raw",
   "id": "3396f198",
   "metadata": {},
   "source": [
    "# Q3. What are the key differences in functionality between __getattr__ and __getattribute__, as well as properties and descriptors?"
   ]
  },
  {
   "cell_type": "raw",
   "id": "240ab607",
   "metadata": {},
   "source": [
    "To access the attribute of class which are not defined in the class, we use __getattr__() method. But if the attribute does exist, __getattr__ won’t be invoked. __getattribute__ will look for every attribute, doesn’t matter if the attribute exists or not.    \n",
    "\n",
    "In Properties, We can bind getter, setter functions with an attribute name, using the built-in property function. In descriptor, We can bind getter, setter (and deleter) functions into a separate class. We then assign an object of this class to the attribute name."
   ]
  }
 ],
 "metadata": {
  "kernelspec": {
   "display_name": "Python 3 (ipykernel)",
   "language": "python",
   "name": "python3"
  },
  "language_info": {
   "codemirror_mode": {
    "name": "ipython",
    "version": 3
   },
   "file_extension": ".py",
   "mimetype": "text/x-python",
   "name": "python",
   "nbconvert_exporter": "python",
   "pygments_lexer": "ipython3",
   "version": "3.9.7"
  }
 },
 "nbformat": 4,
 "nbformat_minor": 5
}
