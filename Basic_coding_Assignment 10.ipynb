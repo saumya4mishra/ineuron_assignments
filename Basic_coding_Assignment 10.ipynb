{
 "cells": [
  {
   "cell_type": "code",
   "execution_count": 10,
   "id": "4b51b56f",
   "metadata": {},
   "outputs": [
    {
     "name": "stdout",
     "output_type": "stream",
     "text": [
      "38\n"
     ]
    }
   ],
   "source": [
    "\"\"\"1. Write a Python program to find sum of elements in list?\"\"\"\n",
    "def addition(n):\n",
    "    num = 0\n",
    "    for i in n:\n",
    "        num += i\n",
    "    return num\n",
    "l_list = [1,2,3,4,5,6,7,10]\n",
    "print(addition(l_list))\n",
    "\n",
    "    "
   ]
  },
  {
   "cell_type": "code",
   "execution_count": 17,
   "id": "3db66357",
   "metadata": {},
   "outputs": [
    {
     "name": "stdout",
     "output_type": "stream",
     "text": [
      "1200\n"
     ]
    }
   ],
   "source": [
    "\"\"\"2. Write a Python program to Multiply all numbers in the list?\"\"\"\n",
    "def multiplication(n):\n",
    "    mul = 1\n",
    "    for i in n:\n",
    "        mul *= i\n",
    "    return mul\n",
    "l_list = [1,2,3,4,5,10]\n",
    "print(multiplication(l_list))"
   ]
  },
  {
   "cell_type": "code",
   "execution_count": 4,
   "id": "f1efa24d",
   "metadata": {},
   "outputs": [
    {
     "name": "stdout",
     "output_type": "stream",
     "text": [
      "1\n"
     ]
    }
   ],
   "source": [
    "\"\"\"3. Write a Python program to find smallest number in a list?\"\"\"\n",
    "l_list = [1,2,3,4,5,6,7,10]\n",
    "l_list.sort()\n",
    "\n",
    "print(l_list[0])"
   ]
  },
  {
   "cell_type": "code",
   "execution_count": 5,
   "id": "6310af13",
   "metadata": {},
   "outputs": [
    {
     "name": "stdout",
     "output_type": "stream",
     "text": [
      "10\n"
     ]
    }
   ],
   "source": [
    "\"\"\"4. Write a Python program to find largest number in a list?\"\"\"\n",
    "l_list = [1,2,3,4,5,6,7,10]\n",
    "l_list.sort()\n",
    "\n",
    "print(l_list[-1])"
   ]
  },
  {
   "cell_type": "code",
   "execution_count": 6,
   "id": "c1e0caa1",
   "metadata": {},
   "outputs": [
    {
     "name": "stdout",
     "output_type": "stream",
     "text": [
      "7\n"
     ]
    }
   ],
   "source": [
    "\"\"\"5. Write a Python program to find second largest number in a list?\"\"\"\n",
    "l_list = [1,2,3,4,5,6,7,10]\n",
    "l_list.sort()\n",
    "\n",
    "print(l_list[-2])"
   ]
  },
  {
   "cell_type": "code",
   "execution_count": 8,
   "id": "08fcd67c",
   "metadata": {},
   "outputs": [
    {
     "name": "stdout",
     "output_type": "stream",
     "text": [
      "Enter the nth largest number you want : 3\n",
      "6\n"
     ]
    }
   ],
   "source": [
    "\"\"\"6. Write a Python program to find N largest elements from a list?\"\"\"\n",
    "num = int(input(\"Enter the nth largest number you want : \"))\n",
    "l_list = [1,2,3,4,5,6,7,10]\n",
    "l_list.sort()\n",
    "\n",
    "print(l_list[-num])"
   ]
  },
  {
   "cell_type": "code",
   "execution_count": 19,
   "id": "5c2fd847",
   "metadata": {},
   "outputs": [
    {
     "name": "stdout",
     "output_type": "stream",
     "text": [
      "[2, 4, 10]\n"
     ]
    }
   ],
   "source": [
    "\"\"\"7. Write a Python program to print even numbers in a list?\"\"\"\n",
    "def even_num(n):\n",
    "    l_list=[]\n",
    "    for i in n:\n",
    "        if i%2==0:\n",
    "            l_list.append(i)\n",
    "    print(l_list)\n",
    "even_num([1,2,3,4,5,10])"
   ]
  },
  {
   "cell_type": "code",
   "execution_count": 20,
   "id": "f7afb7ad",
   "metadata": {},
   "outputs": [
    {
     "name": "stdout",
     "output_type": "stream",
     "text": [
      "[1, 3, 5]\n"
     ]
    }
   ],
   "source": [
    "\"\"\"8. Write a Python program to print odd numbers in a List?\"\"\"\n",
    "def odd_num(n):\n",
    "    l_list=[]\n",
    "    for i in n:\n",
    "        if i%2!=0:\n",
    "            l_list.append(i)\n",
    "    print(l_list)\n",
    "odd_num([1,2,3,4,5,10])"
   ]
  },
  {
   "cell_type": "code",
   "execution_count": 21,
   "id": "bc90183d",
   "metadata": {},
   "outputs": [
    {
     "name": "stdout",
     "output_type": "stream",
     "text": [
      "[[1, 2, 3, 4], [2, 3, 7, 9]]\n"
     ]
    }
   ],
   "source": [
    "\"\"\"9. Write a Python program to Remove empty List from List?\"\"\"\n",
    "def rem_list(n):\n",
    "    for i in n:\n",
    "        if len(i)==0:\n",
    "            n.remove(i)\n",
    "    print(n)\n",
    "rem_list([[1,2,3,4],[2,3,7,9],[]])           "
   ]
  },
  {
   "cell_type": "code",
   "execution_count": 24,
   "id": "b40c4f15",
   "metadata": {},
   "outputs": [
    {
     "name": "stdout",
     "output_type": "stream",
     "text": [
      "[1, 2, 3, 4]\n",
      "[1, 2, 3, 4]\n"
     ]
    }
   ],
   "source": [
    "\"\"\"10. Write a Python program to Cloning or Copying a list?\"\"\"\n",
    "l_list = [1,2,3,4]\n",
    "l_list1 = l_list.copy()\n",
    "print(l_list)\n",
    "print(l_list1)\n"
   ]
  },
  {
   "cell_type": "code",
   "execution_count": 25,
   "id": "49a346d9",
   "metadata": {},
   "outputs": [
    {
     "name": "stdout",
     "output_type": "stream",
     "text": [
      "3\n"
     ]
    }
   ],
   "source": [
    "\"\"\"11. Write a Python program to Count occurrences of an element in a list?\"\"\"\n",
    "l_list = [1,2,3,4,5,10,5,5]\n",
    "val = l_list.count(5)\n",
    "print(val)"
   ]
  },
  {
   "cell_type": "code",
   "execution_count": null,
   "id": "cdb2f0bd",
   "metadata": {},
   "outputs": [],
   "source": []
  }
 ],
 "metadata": {
  "kernelspec": {
   "display_name": "Python 3 (ipykernel)",
   "language": "python",
   "name": "python3"
  },
  "language_info": {
   "codemirror_mode": {
    "name": "ipython",
    "version": 3
   },
   "file_extension": ".py",
   "mimetype": "text/x-python",
   "name": "python",
   "nbconvert_exporter": "python",
   "pygments_lexer": "ipython3",
   "version": "3.9.7"
  }
 },
 "nbformat": 4,
 "nbformat_minor": 5
}
