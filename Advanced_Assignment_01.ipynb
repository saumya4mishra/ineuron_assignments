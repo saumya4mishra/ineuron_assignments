{
 "cells": [
  {
   "cell_type": "code",
   "execution_count": 31,
   "id": "e0031284",
   "metadata": {},
   "outputs": [
    {
     "data": {
      "text/plain": [
       "0"
      ]
     },
     "execution_count": 31,
     "metadata": {},
     "output_type": "execute_result"
    }
   ],
   "source": [
    "# 1. Write a function that takes a list of lists and returns the value of all of the symbols in it, \n",
    "# where each symbol adds or takes something from the total score.\n",
    "dict1 = {'#' : 5, 'O' : 3, 'X' : 1, '!' : -1, '!!' : -3, '!!!' : -5}\n",
    "def check_score(lists):\n",
    "    sum = 0\n",
    "    for i in range(len(lists)):\n",
    "        for j in range(len(lists[i])):\n",
    "            sum += dict1[lists[i][j]]\n",
    "    if sum > 0:\n",
    "        return sum\n",
    "    else:\n",
    "        return 0\n",
    "check_score([[\"!!!\", \"O\", \"!\"], [\"X\", \"#\", \"!!!\"], [\"!!\", \"X\", \"O\"]]) \n"
   ]
  },
  {
   "cell_type": "code",
   "execution_count": 25,
   "id": "7f3e30a1",
   "metadata": {},
   "outputs": [
    {
     "data": {
      "text/plain": [
       "120"
      ]
     },
     "execution_count": 25,
     "metadata": {},
     "output_type": "execute_result"
    }
   ],
   "source": [
    "# 2. Create a function that takes a variable number of arguments, each argument representing the number of items in a group, \n",
    "# and returns the number of permutations (combinations) of items that you could get by taking one item from each group.\n",
    "def combinations(*numbers):\n",
    "    permutations = 1\n",
    "    for i in numbers:\n",
    "        permutations *= i\n",
    "    return permutations\n",
    "combinations(2, 3, 4, 5)"
   ]
  },
  {
   "cell_type": "code",
   "execution_count": 6,
   "id": "0833e11c",
   "metadata": {},
   "outputs": [
    {
     "data": {
      "text/plain": [
       "'.-...--...-.....--.-......-.-...-...-.--..'"
      ]
     },
     "execution_count": 6,
     "metadata": {},
     "output_type": "execute_result"
    }
   ],
   "source": [
    "# 3. Create a function that takes a string as an argument and returns the Morse code equivalent.\n",
    "MORSE_CODE_DICT = { 'A':'.-', 'B':'-...',\n",
    "   'C':'-.-.', 'D':'-..', 'E':'.',\n",
    "   'F':'..-.', 'G':'--.', 'H':'....',\n",
    "   'I':'..', 'J':'.---', 'K':'-.-',\n",
    "   'L':'.-..', 'M':'--', 'N':'-.',\n",
    "   'O':'---', 'P':'.--.', 'Q':'--.-',\n",
    "   'R':'.-.', 'S':'...', 'T':'-',\n",
    "   'U':'..-', 'V':'...-', 'W':'.--',\n",
    "   'X':'-..-', 'Y':'-.--', 'Z':'--..',\n",
    "   '1':'.----', '2':'..---', '3':'...--',\n",
    "   '4':'....-', '5':'.....', '6':'-....',\n",
    "   '7':'--...', '8':'---..', '9':'----.',\n",
    "   '0':'-----', ', ':'--..--', '.':'.-.-.-',\n",
    "   '?':'..--..', '/':'-..-.', '-':'-....-',\n",
    "   '(':'-.--.', ')':'-.--.-'\n",
    "}\n",
    "def encode_morse(strg):\n",
    "    out = ''\n",
    "    for i in range(len(strg)):\n",
    "        a = MORSE_CODE_DICT[strg[i]]\n",
    "        out += a\n",
    "    return out\n",
    "encode_morse(\"EDABBITCHALLENGE\")"
   ]
  },
  {
   "cell_type": "code",
   "execution_count": 6,
   "id": "a2b536e5",
   "metadata": {},
   "outputs": [
    {
     "data": {
      "text/plain": [
       "False"
      ]
     },
     "execution_count": 6,
     "metadata": {},
     "output_type": "execute_result"
    }
   ],
   "source": [
    "# 4. Write a function that takes a number and returns True if it's a prime; False otherwise.\n",
    "def prime(num):\n",
    "    for n in range(2, num):\n",
    "        if num % n == 0:\n",
    "            return False\n",
    "    else:\n",
    "        return True\n",
    "prime(5151512515524)    "
   ]
  },
  {
   "cell_type": "code",
   "execution_count": 22,
   "id": "b1d2f2e6",
   "metadata": {},
   "outputs": [
    {
     "data": {
      "text/plain": [
       "[False, True, True, False]"
      ]
     },
     "execution_count": 22,
     "metadata": {},
     "output_type": "execute_result"
    }
   ],
   "source": [
    "# 5.  Create a function that converts a word to a bitstring and then to a boolean list based on the following criteria:\n",
    "# 1. Locate the position of the letter in the English alphabet (from 1 to 26).\n",
    "# 2. Odd positions will be represented as 1 and 0 otherwise.\n",
    "# 3. Convert the represented positions to boolean values, 1 for True and 0 for False.\n",
    "# 4. Store the conversions into an array.\n",
    "import string\n",
    "letters = list(string.ascii_lowercase)\n",
    "def to_boolean_list(word):\n",
    "    out = []\n",
    "    for i in range(len(word)):\n",
    "        c = word[i] \n",
    "        if (letters.index(c)+1)%2 == 0:\n",
    "            out.append(False)\n",
    "        else:\n",
    "            out.append(True)\n",
    "    return out\n",
    "to_boolean_list(\"deep\")"
   ]
  },
  {
   "cell_type": "code",
   "execution_count": null,
   "id": "b168571f",
   "metadata": {},
   "outputs": [],
   "source": []
  }
 ],
 "metadata": {
  "kernelspec": {
   "display_name": "Python 3 (ipykernel)",
   "language": "python",
   "name": "python3"
  },
  "language_info": {
   "codemirror_mode": {
    "name": "ipython",
    "version": 3
   },
   "file_extension": ".py",
   "mimetype": "text/x-python",
   "name": "python",
   "nbconvert_exporter": "python",
   "pygments_lexer": "ipython3",
   "version": "3.9.7"
  }
 },
 "nbformat": 4,
 "nbformat_minor": 5
}
