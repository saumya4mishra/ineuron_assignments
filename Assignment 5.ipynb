{
 "cells": [
  {
   "cell_type": "code",
   "execution_count": 3,
   "id": "bd0f31f4",
   "metadata": {},
   "outputs": [
    {
     "name": "stdout",
     "output_type": "stream",
     "text": [
      "Enter the first number : sa\n",
      "invalid literal for int() with base 10: 'sa'\n",
      "Enter the first number : 12\n",
      "Enter the second number : 15\n",
      "60\n"
     ]
    }
   ],
   "source": [
    "\"\"\"1. Write a Python Program to Find LCM?\"\"\"\n",
    "def hcf_of_no(a,b):\n",
    "    lst=[]\n",
    "    c= max([a, b])\n",
    "    for i in range(1,(c+2)//2):\n",
    "        if ((a%i==0) and (b%i==0)):\n",
    "            lst.append(i)\n",
    "    return lst[-1]\n",
    "\n",
    "def lcm_of_no(a,b):\n",
    "    \n",
    "    hcf = hcf_of_no(a, b)\n",
    "    lcm = (a*b)/ hcf\n",
    "    return int(lcm)\n",
    "\n",
    "while 1:   \n",
    "    try:\n",
    "        a=int(input(\"Enter the first number : \"))\n",
    "        b=int(input(\"Enter the second number : \"))\n",
    "        print(lcm_of_no(a,b))\n",
    "    except Exception as e:\n",
    "        print(e)\n",
    "    else:\n",
    "        break\n",
    "        \n",
    "    \n",
    "    "
   ]
  },
  {
   "cell_type": "code",
   "execution_count": 5,
   "id": "7a44ba58",
   "metadata": {},
   "outputs": [
    {
     "name": "stdout",
     "output_type": "stream",
     "text": [
      "1\n"
     ]
    }
   ],
   "source": [
    "\"\"\"2. Write a Python Program to Find HCF?\"\"\"\n",
    "def hcf_of_no(a,b):\n",
    "    lst=[]\n",
    "    c= max([a, b])\n",
    "    for i in range(1,(c+2)//2):\n",
    "        if ((a%i==0) and (b%i==0)):\n",
    "            lst.append(i)\n",
    "    return lst[-1]\n",
    "print(hcf_of_no(4, 5))"
   ]
  },
  {
   "cell_type": "code",
   "execution_count": 23,
   "id": "8c35c585",
   "metadata": {},
   "outputs": [
    {
     "name": "stdout",
     "output_type": "stream",
     "text": [
      "Enter the decimal number :10\n",
      "The binary number is : 0b1010\n",
      "None\n",
      "The Octal number is : 0o12\n",
      "None\n",
      "The Hexadecimal number is : 0xa\n",
      "None\n"
     ]
    }
   ],
   "source": [
    "\"\"\"3. Write a Python Program to Convert Decimal to Binary, Octal and Hexadecimal?\"\"\"\n",
    "def dec_to_bin(a):\n",
    "    print(\"The binary number is :\",bin(a))\n",
    "def dec_to_oct(a):\n",
    "    print(\"The Octal number is :\",oct(a))\n",
    "def dec_to_hexa(a):\n",
    "    print(\"The Hexadecimal number is :\",hex(a))\n",
    "    \n",
    "n=int(input(\"Enter the decimal number :\"))\n",
    "print(dec_to_bin(n))\n",
    "print(dec_to_oct(n))\n",
    "print(dec_to_hexa(n))"
   ]
  },
  {
   "cell_type": "code",
   "execution_count": 28,
   "id": "bbf69922",
   "metadata": {},
   "outputs": [
    {
     "name": "stdout",
     "output_type": "stream",
     "text": [
      "Enter the character : a\n",
      "The ASCII code of given character is : 97\n"
     ]
    }
   ],
   "source": [
    "\"\"\"5. Write a Python Program To Find ASCII value of a character?\"\"\"\n",
    "\n",
    "n=input(\"Enter the character : \")\n",
    "print(\"The ASCII code of given character is :\",ord(n))"
   ]
  },
  {
   "cell_type": "code",
   "execution_count": 31,
   "id": "725152fe",
   "metadata": {},
   "outputs": [
    {
     "name": "stdout",
     "output_type": "stream",
     "text": [
      "Enter the first number : 10\n",
      "Enter the second number : 20\n",
      "The addition of giver number is :  30\n",
      "The subtraction of giver number is :  -10\n",
      "The multiplication of giver number is :  200\n",
      "The division of giver number is :  0.5\n"
     ]
    }
   ],
   "source": [
    "\"\"\"5. Write a Python Program to Make a Simple Calculator with 4 basic mathematical operations?\"\"\"\n",
    "\n",
    "def add(a,b):\n",
    "    return a + b\n",
    "def sub(a,b):\n",
    "    return a - b\n",
    "def mul(a,b):\n",
    "    return a * b\n",
    "def divide(a,b):\n",
    "    return a / b\n",
    "\n",
    "c=int(input(\"Enter the first number : \"))\n",
    "d=int(input(\"Enter the second number : \"))\n",
    "print(\"The addition of giver number is : \",add(c,d))\n",
    "print(\"The subtraction of giver number is : \",sub(c,d))\n",
    "print(\"The multiplication of giver number is : \",mul(c,d))\n",
    "print(\"The division of giver number is : \",divide(c,d))"
   ]
  },
  {
   "cell_type": "code",
   "execution_count": null,
   "id": "dd87fe02",
   "metadata": {},
   "outputs": [],
   "source": []
  }
 ],
 "metadata": {
  "kernelspec": {
   "display_name": "Python 3 (ipykernel)",
   "language": "python",
   "name": "python3"
  },
  "language_info": {
   "codemirror_mode": {
    "name": "ipython",
    "version": 3
   },
   "file_extension": ".py",
   "mimetype": "text/x-python",
   "name": "python",
   "nbconvert_exporter": "python",
   "pygments_lexer": "ipython3",
   "version": "3.9.7"
  }
 },
 "nbformat": 4,
 "nbformat_minor": 5
}
