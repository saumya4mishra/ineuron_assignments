{
 "cells": [
  {
   "cell_type": "code",
   "execution_count": 6,
   "id": "d22a457d",
   "metadata": {},
   "outputs": [
    {
     "name": "stdout",
     "output_type": "stream",
     "text": [
      "Enter the number : 5\n",
      "120\n"
     ]
    }
   ],
   "source": [
    "\"\"\"1. Write a Python Program to Find the Factorial of a Number?\"\"\"\n",
    "from functools import reduce\n",
    "def fac(num):\n",
    "    fact = reduce(lambda x, y: x*y, list(range(1, num+1)))\n",
    "    return fact\n",
    "num=int(input(\"Enter the number : \"))\n",
    "print(fac(num))\n",
    "\n",
    "        "
   ]
  },
  {
   "cell_type": "code",
   "execution_count": 2,
   "id": "7ac0dad2",
   "metadata": {},
   "outputs": [
    {
     "name": "stdout",
     "output_type": "stream",
     "text": [
      "Enter the number : 12\n",
      "12 * 1 = 12\n",
      "12 * 2 = 24\n",
      "12 * 3 = 36\n",
      "12 * 4 = 48\n",
      "12 * 5 = 60\n",
      "12 * 6 = 72\n",
      "12 * 7 = 84\n",
      "12 * 8 = 96\n",
      "12 * 9 = 108\n",
      "12 * 10 = 120\n"
     ]
    }
   ],
   "source": [
    "\"\"\"2. Write a Python Program to Display the multiplication Table?\"\"\"\n",
    "def mul_table(n):\n",
    "    for i in range(1,11):\n",
    "        print('%d %s %d %s %d' %(n,'*',i,'=',n*i))\n",
    "num=int(input(\"Enter the number : \"))\n",
    "mul_table(num)"
   ]
  },
  {
   "cell_type": "code",
   "execution_count": 7,
   "id": "7ff755b6",
   "metadata": {},
   "outputs": [
    {
     "name": "stdout",
     "output_type": "stream",
     "text": [
      "0 1 1 2 3 5 "
     ]
    }
   ],
   "source": [
    "\"\"\"3. Write a Python Program to Print the Fibonacci sequence?\"\"\"\n",
    "def fib(n):\n",
    "    a,b = 0,1\n",
    "    if n==1:\n",
    "        print(a)\n",
    "    else:\n",
    "        print(a, end=\" \")\n",
    "        print(b, end=\" \")\n",
    "        for i in range(2,n):\n",
    "            c = a + b\n",
    "            a = b\n",
    "            b = c\n",
    "            print(c, end=\" \")\n",
    "fib(6)\n",
    "        \n",
    "    "
   ]
  },
  {
   "cell_type": "code",
   "execution_count": 3,
   "id": "9b4decef",
   "metadata": {},
   "outputs": [
    {
     "name": "stdout",
     "output_type": "stream",
     "text": [
      "Enter the number: 153\n",
      "It is a Armstrong number\n"
     ]
    }
   ],
   "source": [
    "\"\"\"4. Write a Python Program to Check Armstrong Number?\"\"\"\n",
    "\n",
    "num =int(input(\"Enter the number: \"))\n",
    "sum=0\n",
    "temp=num\n",
    "order=len(str(num))\n",
    "while temp>0:\n",
    "    a=temp%10\n",
    "    sum+=a**order\n",
    "    temp//=10\n",
    "if num==sum:\n",
    "    print(\"It is a Armstrong number\")\n",
    "else:\n",
    "    print(\"It is not a Armstrong number\")"
   ]
  },
  {
   "cell_type": "code",
   "execution_count": 10,
   "id": "0930b04c",
   "metadata": {},
   "outputs": [
    {
     "name": "stdout",
     "output_type": "stream",
     "text": [
      "153\n"
     ]
    }
   ],
   "source": [
    "\"\"\"5. Write a Python Program to Find Armstrong Number in an Interval\"\"\"\n",
    "def arm_no(a,b):\n",
    "    for i in range(a,b+1):\n",
    "        sum=0\n",
    "        temp=i\n",
    "        order=len(str(i))\n",
    "        while temp>0:\n",
    "            a=temp%10\n",
    "            sum+=a**order\n",
    "            temp//=10\n",
    "        if i==sum:\n",
    "            return i\n",
    "print(arm_no(10,1000))"
   ]
  },
  {
   "cell_type": "code",
   "execution_count": 8,
   "id": "171e0c76",
   "metadata": {},
   "outputs": [
    {
     "name": "stdout",
     "output_type": "stream",
     "text": [
      "55\n"
     ]
    }
   ],
   "source": [
    "\"\"\"6. Write a Python Program to Find the Sum of Natural Numbers?\"\"\"\n",
    "\n",
    "def sm_natural(n):\n",
    "    if n<0:\n",
    "        print(\"Enter the positive number\")\n",
    "    else:\n",
    "        a=0\n",
    "        while n>0:\n",
    "            a+=n\n",
    "            n-=1\n",
    "        return a\n",
    "print(sm_natural(10))"
   ]
  },
  {
   "cell_type": "code",
   "execution_count": null,
   "id": "d80abba7",
   "metadata": {},
   "outputs": [],
   "source": []
  }
 ],
 "metadata": {
  "kernelspec": {
   "display_name": "Python 3 (ipykernel)",
   "language": "python",
   "name": "python3"
  },
  "language_info": {
   "codemirror_mode": {
    "name": "ipython",
    "version": 3
   },
   "file_extension": ".py",
   "mimetype": "text/x-python",
   "name": "python",
   "nbconvert_exporter": "python",
   "pygments_lexer": "ipython3",
   "version": "3.9.7"
  }
 },
 "nbformat": 4,
 "nbformat_minor": 5
}
