{
 "cells": [
  {
   "cell_type": "raw",
   "id": "b71db158",
   "metadata": {},
   "source": [
    "1. Why are functions advantageous to have in your programs?\n",
    "\n",
    "Organization -- As programs grow in complexity, having all the code live inside the main() function becomes increasingly complicated. A function is almost like a mini-program that we can write separately from the main program, without having to think about the rest of the program while we write it. This allows us to reduce a complicated program into smaller, more manageable chunks, which reduces the overall complexity of our program.\n",
    "\n",
    "Reusability -- Once a function is written, it can be called multiple times from within the program. This avoids duplicated code (“Don’t Repeat Yourself”) and minimizes the probability of copy/paste errors. Functions can also be shared with other programs, reducing the amount of code that has to be written from scratch (and retested) each time.\n",
    "\n",
    "Extensibility -- When we need to extend our program to handle a case it didn’t handle before, functions allow us to make the change in one place and have that change take effect every time the function is called.\n",
    "\n",
    "Abstraction -- In order to use a function, you only need to know its name, inputs, outputs, and where it lives. You don’t need to know how it works, or what other code it’s dependent upon to use it. This lowers the amount of knowledge required to use other people’s code (including everything in the standard library).\n",
    "\n"
   ]
  },
  {
   "cell_type": "raw",
   "id": "b5a5097a",
   "metadata": {},
   "source": [
    "2. When does the code in a function run: when it's specified or when it's called?\n",
    "\n",
    "When we define a function the code inside it dosen't execute until and unless it is explicitly called with the required arguments."
   ]
  },
  {
   "cell_type": "raw",
   "id": "3962ad15",
   "metadata": {},
   "source": [
    "3. What statement creates a function?\n",
    "\n",
    "in python the syntax for defining a function is below \n",
    "\n",
    "def my_functon(arg1, arg2,....., argn):\n",
    "    statement 1\n",
    "    statement2\n",
    "\n",
    "here def is the statement to define a function"
   ]
  },
  {
   "cell_type": "raw",
   "id": "5df50dc9",
   "metadata": {},
   "source": [
    "4. What is the difference between a function and a function call?\n",
    "\n",
    "A function is a block of code that does a particular operation and returns a result. It usually accepts inputs as parameters and returns a result. The parameters are not mandatory.\n",
    "\n",
    "E.g:\n",
    "Function add(a,b)\n",
    "return a+ b\n",
    "\n",
    "A function call is the code used to pass control to a function.\n",
    "\n",
    "E.g.:\n",
    "\n",
    "b = add(5,6)"
   ]
  },
  {
   "cell_type": "raw",
   "id": "7c37898e",
   "metadata": {},
   "source": [
    "5. How many global scopes are there in a Python program? How many local scopes?\n",
    "\n",
    "There are 4 types of scopes in python\n",
    "Local scope: The Variables which are defined in the function are a local scope of the variable. Varibles having local scope hold its value till the function ends\n",
    "\n",
    "Global scope: The Variable which can be read from anywhere in the program is known as a global scope. These variables can be accessed inside and outside the function. When we want to use the same variable in the rest of the program, we declare it as global.\n",
    "\n",
    "Enclosed/ Noo local scope: Nonlocal Variable is the variable that is defined in the nested function. It means the variable can be neither in the local scope nor in the global scope. To create a nonlocal variable nonlocal keyword is used.\n",
    "\n",
    "Biult in scope: If a Variable is not defined in local, Enclosed or global scope, then python looks for it in the built-in scope. In the Following Example, 1 from math module pi is imported, and the value of pi is not defined in global, local and enclosed.\n",
    "\n",
    "# Built-in Scope\n",
    "from math import pi"
   ]
  },
  {
   "cell_type": "raw",
   "id": "b52e92bf",
   "metadata": {},
   "source": [
    "6. What happens to variables in a local scope when the function call returns?\n",
    "\n",
    "A local scope is created whenever a function is called. Any variables assigned in this function exist within the local scope. When the function returns, the local scope is destroyed, and these variables are forgotten."
   ]
  },
  {
   "cell_type": "raw",
   "id": "ec9e3c2c",
   "metadata": {},
   "source": [
    "7. What is the concept of a return value? Is it possible to have a return value in an expression?\n",
    "\n",
    "The Python return statement is a special statement that you can use inside a function or method to send the function’s result back to the caller. A return statement consists of the return keyword followed by an optional return value. The return value of a Python function can be any Python object.\n",
    "\n",
    "yes, we can return a value through an expression but, thta express should converge into a value.\n",
    "\n",
    "return 5*4\n",
    "return 6*4 / 3\n",
    "\n",
    "NOTE: above statements are valid"
   ]
  },
  {
   "cell_type": "raw",
   "id": "34636b19",
   "metadata": {},
   "source": [
    "8. If a function does not have a return statement, what is the return value of a call to that function?\n",
    "\n",
    ">>> def add_one(x):\n",
    "...     # No return statement at all\n",
    "...     result = x + 1\n",
    "...\n",
    "\n",
    ">>> value = add_one(5)\n",
    ">>> value\n",
    "\n",
    ">>> print(value)\n",
    "None\n",
    "\n",
    "If you don’t supply an explicit return statement with an explicit return value, then Python will supply an implicit return statement using None as a return value."
   ]
  },
  {
   "cell_type": "raw",
   "id": "2581a0a0",
   "metadata": {},
   "source": [
    "9. How do you make a function variable refer to the global variable?\n",
    "\n",
    "def demo():\n",
    "    global Str\n",
    "    print(Str)\n",
    "    Str = \"You are smart\"\n",
    "    print(Str)\n",
    "    \n",
    "# Global scope\n",
    "Str = \"You are Clever\"\n",
    "demo()\n",
    "print(Str)\n",
    "\n",
    "in order to identify a varible as global it must be explicitly done in the local scopeof a function using 'global' keyword\n",
    "after defining a Str varivale as global any changes made in it will be reflected in the local scope wherever global keyword is used.\n"
   ]
  },
  {
   "cell_type": "raw",
   "id": "d28b4899",
   "metadata": {},
   "source": [
    "10. What is the data type of None?\n",
    "\n",
    "None keyword is an object and is a data type of none type class.\n",
    "None datatype doesn’t contain any value.\n",
    "None keyword is used to define a null variable or object.\n",
    "None keyword is immutable."
   ]
  },
  {
   "cell_type": "raw",
   "id": "b0662f3d",
   "metadata": {},
   "source": [
    "11. What does the sentence import areallyourpetsnamederic do?\n",
    "\n",
    "the above import will give following error\n",
    "ERROR:  ModuleNotFoundError: No module named 'areallyourpetsnamederic'\n",
    "\n",
    "error is coming since there is no predefined module names areallyourpetsnamederic in python built-in library\n",
    "or user defined libraries"
   ]
  },
  {
   "cell_type": "raw",
   "id": "bd52ae08",
   "metadata": {},
   "source": [
    "12. If you had a bacon() feature in a spam module, what would you call it after importing spam?\n",
    "\n",
    "import spam\n",
    "\n",
    "spam.bacon()\n",
    "\n",
    "# NOTE: the above statements will call the whole spam module and then call bacon()\n",
    "\n",
    "or\n",
    "\n",
    "from spam import bacon\n",
    "\n",
    "bacon()\n",
    "\n",
    "# NOTE: the above statements will only import bacon function from spam module, then directly call the function"
   ]
  },
  {
   "cell_type": "raw",
   "id": "df1449f5",
   "metadata": {},
   "source": [
    "13. What can you do to save a programme from crashing if it encounters an error?\n",
    "\n",
    "Error in Python can be of two types i.e. Syntax errors and Exceptions. Errors are the problems in a program due to which the program will stop the execution. On the other hand, exceptions are raised when some internal events occur which changes the normal flow of the program. so in order to prevent our program from such errors / exception we need to do exception handling.\n",
    "One very common way of doing that is using try except statements in our code. \n",
    "\n",
    "The try block is used to check some code for errors i.e the code inside the try block will execute when there is no error in the program. Whereas the code inside the except block will execute whenever the program encounters some error in the preceding try block."
   ]
  },
  {
   "cell_type": "raw",
   "id": "7c53027e",
   "metadata": {},
   "source": [
    "14. What is the purpose of the try clause? What is the purpose of the except clause?\n",
    "\n",
    "The try block is used to check some code for errors i.e the code inside the try block will execute when there is no error in the program. Whereas the code inside the except block will execute whenever the program encounters some error in the preceding try block.\n",
    "\n",
    "try:\n",
    "    # Some Code\n",
    "except:\n",
    "    # Executed if error in the\n",
    "    # try block"
   ]
  }
 ],
 "metadata": {
  "kernelspec": {
   "display_name": "Python 3 (ipykernel)",
   "language": "python",
   "name": "python3"
  },
  "language_info": {
   "codemirror_mode": {
    "name": "ipython",
    "version": 3
   },
   "file_extension": ".py",
   "mimetype": "text/x-python",
   "name": "python",
   "nbconvert_exporter": "python",
   "pygments_lexer": "ipython3",
   "version": "3.9.7"
  }
 },
 "nbformat": 4,
 "nbformat_minor": 5
}
