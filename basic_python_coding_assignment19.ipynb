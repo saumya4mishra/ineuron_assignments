{
 "cells": [
  {
   "cell_type": "code",
   "execution_count": 6,
   "id": "cf283100",
   "metadata": {},
   "outputs": [
    {
     "name": "stdout",
     "output_type": "stream",
     "text": [
      "aaddiittyyaa"
     ]
    }
   ],
   "source": [
    "#Question1 Create a function that takes a string and returns a string in which each character is repeated once.\n",
    "def rept(a):\n",
    "    for i in a:\n",
    "        print(i * 2, end=\"\")\n",
    "rept(\"aditya\")\n"
   ]
  },
  {
   "cell_type": "code",
   "execution_count": 7,
   "id": "e92bbb24",
   "metadata": {
    "scrolled": true
   },
   "outputs": [
    {
     "name": "stdout",
     "output_type": "stream",
     "text": [
      "False\n"
     ]
    }
   ],
   "source": [
    "#Create a function that reverses a boolean value and returns the string \"boolean expected\" if another variable type is given.\n",
    "def revbool(a):\n",
    "    if type(a) == bool:\n",
    "        if a == True:\n",
    "            print(\"False\")\n",
    "        else:\n",
    "            print(\"True\")\n",
    "    else:\n",
    "        print(\"Bool expeceted\")\n",
    "revbool(True)\n",
    "\n"
   ]
  },
  {
   "cell_type": "code",
   "execution_count": 9,
   "id": "e2e26ba8",
   "metadata": {},
   "outputs": [
    {
     "name": "stdout",
     "output_type": "stream",
     "text": [
      "Enter the number of folds: 4\n",
      "0.008\n"
     ]
    }
   ],
   "source": [
    "#Create a function that returns the thickness (in meters) of a piece of paper after folding it n number of times. The paper starts off with a thickness of 0.5mm.\n",
    "def thic(num):\n",
    "    thic = 0.5\n",
    "    \n",
    "    for i in range(1, num + 1):\n",
    "        thic = thic + thic\n",
    "    thic = thic * 0.001\n",
    "    \n",
    "    return thic\n",
    "\n",
    "num = int(input(\"Enter the number of folds: \"))\n",
    "thickness = thic(num)\n",
    "print(thickness)\n"
   ]
  },
  {
   "cell_type": "code",
   "execution_count": 11,
   "id": "3261a7ac",
   "metadata": {},
   "outputs": [
    {
     "name": "stdout",
     "output_type": "stream",
     "text": [
      "[1, 3, 5]\n",
      "[1, 3, 4, 6]\n"
     ]
    }
   ],
   "source": [
    "#Create a function that takes a single string as argument and returns an ordered list containing the indices of all capital letters in the string.\n",
    "def capind(st):\n",
    "    lst = []\n",
    "    for i, char in enumerate(st):\n",
    "        if char.isupper():\n",
    "            lst.append(i)\n",
    "    print(lst)\n",
    "capind(\"eDaBiT\")\n",
    "capind(\"eQuINoX\")\n",
    "\n",
    "    "
   ]
  },
  {
   "cell_type": "code",
   "execution_count": 17,
   "id": "86cc7306",
   "metadata": {},
   "outputs": [
    {
     "name": "stdout",
     "output_type": "stream",
     "text": [
      "[0, 2, 4, 6]\n",
      "[0, 2]\n",
      "[0, 2]\n"
     ]
    }
   ],
   "source": [
    "# Using list comprehensions, create a function that finds all even numbers from 1 to the given number.\n",
    "\n",
    "def even(num):\n",
    "    even_list = [i for i in range(num) if i%2 == 0]\n",
    "    return even_list\n",
    "print(even(8))\n",
    "print(even(4))\n",
    "print(even(3))\n"
   ]
  }
 ],
 "metadata": {
  "kernelspec": {
   "display_name": "Python 3 (ipykernel)",
   "language": "python",
   "name": "python3"
  },
  "language_info": {
   "codemirror_mode": {
    "name": "ipython",
    "version": 3
   },
   "file_extension": ".py",
   "mimetype": "text/x-python",
   "name": "python",
   "nbconvert_exporter": "python",
   "pygments_lexer": "ipython3",
   "version": "3.9.7"
  }
 },
 "nbformat": 4,
 "nbformat_minor": 5
}
