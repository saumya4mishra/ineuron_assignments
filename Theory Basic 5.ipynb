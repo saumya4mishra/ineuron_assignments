{
 "cells": [
  {
   "cell_type": "raw",
   "id": "6bb38ca5",
   "metadata": {},
   "source": [
    "#1. What does an empty dictionary's code look like?\n",
    "\n",
    "dic={}\n"
   ]
  },
  {
   "cell_type": "raw",
   "id": "a88b4aa6",
   "metadata": {},
   "source": [
    "#2. What is the value of a dictionary value with the key 'foo' and the value 42?\n",
    "\n",
    "42\n"
   ]
  },
  {
   "cell_type": "raw",
   "id": "9c4b3f87",
   "metadata": {},
   "source": [
    "#3. What is the most significant distinction between a dictionary and a list?\n",
    "\n",
    "dictionaries are a datatypes with names indexes which we call as keys whereas,\n",
    "lists are having numeric indexes starting from 0\n",
    "\n"
   ]
  },
  {
   "cell_type": "raw",
   "id": "c9b937f6",
   "metadata": {},
   "source": [
    "#4. What happens if you try to access spam['foo'] if spam is {'bar': 100}?\n",
    "\n",
    "key error since 'foo' key dosen't exist in the dictionary\n",
    "\n"
   ]
  },
  {
   "cell_type": "raw",
   "id": "39923a5d",
   "metadata": {},
   "source": [
    "#5. If a dictionary is stored in spam, what is the difference between the expressions 'cat' in spam and 'cat' in spam.keys()?\n",
    "\n",
    "cat in spam\n",
    "\n",
    "and\n",
    "\n",
    "cat in spam.keys()\n",
    "\n",
    "are both same since 'in' statement by defaults finds value in key list of a dictionary.\n",
    "\n",
    "so, in first statement 'in' statement by default finds value in key list of the dictionary whereas,\n",
    "\n",
    "in second statement we explicitly give key list of the dictionary\n",
    "\n",
    "\n"
   ]
  },
  {
   "cell_type": "raw",
   "id": "be0044aa",
   "metadata": {},
   "source": [
    "#6. If a dictionary is stored in spam, what is the difference between the expressions 'cat' in spam and 'cat' in spam.values()?\n",
    "\n",
    "cat in spam\n",
    "\n",
    "and\n",
    "\n",
    "cat in spam.values()\n",
    "\n",
    "are both different since 'in' statement by defaults finds value in key list of a dictionary.\n",
    "\n",
    "so, in first statement 'in' statement by default finds value in key list of the dictionary whereas,\n",
    "\n",
    "in second statement we explicitly give value list of the dictionary so output will be different\n"
   ]
  },
  {
   "cell_type": "raw",
   "id": "72e23819",
   "metadata": {},
   "source": [
    "#7. What is a shortcut for the following code?if 'color' not in spam:spam['color'] = 'black'\n",
    "\n",
    "spam.setdefault('color', 'black')\n"
   ]
  },
  {
   "cell_type": "raw",
   "id": "f8c22557",
   "metadata": {},
   "source": [
    "'''#8. How do you \"pretty print\" dictionary values using which module and function?\n",
    "\n",
    "pprint is a Python module that provides the capability to pretty print Python data types to be more readable. This module also supports pretty-printing dictionary.\n",
    "'''\n",
    "import pprint\n",
    "\n",
    "d_mydict = [{1: 'sam', 2: 'bam', 3: 'ram'}, {1: 'sam', 2: 'bam', 3: 'ram'} ]\n",
    "pprint.pprint(d_mydict)\n",
    "\n",
    "\n"
   ]
  },
  {
   "cell_type": "code",
   "execution_count": null,
   "id": "491130ad",
   "metadata": {},
   "outputs": [],
   "source": []
  }
 ],
 "metadata": {
  "kernelspec": {
   "display_name": "Python 3 (ipykernel)",
   "language": "python",
   "name": "python3"
  },
  "language_info": {
   "codemirror_mode": {
    "name": "ipython",
    "version": 3
   },
   "file_extension": ".py",
   "mimetype": "text/x-python",
   "name": "python",
   "nbconvert_exporter": "python",
   "pygments_lexer": "ipython3",
   "version": "3.9.7"
  }
 },
 "nbformat": 4,
 "nbformat_minor": 5
}
