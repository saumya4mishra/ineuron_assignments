{
 "cells": [
  {
   "cell_type": "code",
   "execution_count": 8,
   "id": "e31b3636",
   "metadata": {},
   "outputs": [
    {
     "name": "stdout",
     "output_type": "stream",
     "text": [
      "[0, 1, 2, 3, 40]\n",
      "[0, 1, 2, 3]\n",
      "[0, 1, 2, 3, 40, 5, 6, 7, 80, 9, 10, 11, 120, 13, 14, 15, 160, 17, 18, 19, 200, 21, 22, 23, 240, 25]\n"
     ]
    }
   ],
   "source": [
    "#Question 1:\n",
    "\"\"\"Create a function that takes an integer and returns a list from 1 to the given number, where:\n",
    "1.\tIf the number can be divided evenly by 4, amplify it by 10 (i.e. return 10 times the number).\n",
    "2.\tIf the number cannot be divided evenly by 4, simply return the number.\n",
    "\"\"\"\n",
    "def ampli(num):\n",
    "    lst = []\n",
    "    for i in range(0, num + 1):\n",
    "        if (i % 4 == 0):\n",
    "            i = i * 10\n",
    "            lst.append(i)\n",
    "        else:\n",
    "            lst.append(i)\n",
    "    return lst\n",
    "print(ampli(4))\n",
    "print(ampli(3))\n",
    "print(ampli(25))\n"
   ]
  },
  {
   "cell_type": "code",
   "execution_count": 15,
   "id": "782d7f34",
   "metadata": {},
   "outputs": [
    {
     "name": "stdout",
     "output_type": "stream",
     "text": [
      "7\n",
      "0.77\n",
      "0\n"
     ]
    }
   ],
   "source": [
    "#Question 2:\n",
    "'''Create a function that takes a list of numbers and return the number that's unique.'''\n",
    "def unique(lst):\n",
    "    for i in lst:\n",
    "        if lst.count(i) == 1:\n",
    "            a = i\n",
    "    return a\n",
    "    \n",
    "    \n",
    "print(unique([3, 3, 3, 7, 3, 3]) )\n",
    "print(unique([0, 0, 0.77, 0, 0]) )\n",
    "print(unique([0, 1, 1, 1, 1, 1, 1, 1])) \n",
    "\n",
    "    "
   ]
  },
  {
   "cell_type": "code",
   "execution_count": 5,
   "id": "0dedffda",
   "metadata": {},
   "outputs": [
    {
     "name": "stdout",
     "output_type": "stream",
     "text": [
      "78.53981633974483\n",
      "31.41592653589793\n"
     ]
    }
   ],
   "source": [
    "#Question 3:\n",
    "'''Your task is to create a Circle constructor that creates a circle with a radius provided by an\n",
    "argument. The circles constructed must have two getters getArea() (PIr^2) and getPerimeter() \n",
    "(2PI*r) which give both respective areas and perimeter (circumference).\n",
    "For help with this class, I have provided you with a Rectangle constructor which you can use \n",
    "as a base example.\n",
    "'''\n",
    "import math\n",
    "class Circle:\n",
    "     \n",
    "    def __init__(self, radius):\n",
    "        self.radius = radius\n",
    "    \n",
    "    def getArea(self):\n",
    "        return math.pi*(self.radius**2)\n",
    "    \n",
    "    def getPerimeter(self):\n",
    "        return 2*math.pi*self.radius\n",
    "    \n",
    "C1 = Circle(5)\n",
    "print(C1.getArea())\n",
    "print(C1.getPerimeter())\n"
   ]
  },
  {
   "cell_type": "code",
   "execution_count": 36,
   "id": "dffc91a4",
   "metadata": {},
   "outputs": [
    {
     "name": "stdout",
     "output_type": "stream",
     "text": [
      "['Apple', 'Google', 'Microsoft']\n",
      "['Raphael', 'Leonardo', 'Donatello', 'Michelangelo']\n",
      "['Jung', 'Turing', 'Einstein']\n"
     ]
    }
   ],
   "source": [
    "#Question 4:\n",
    "'''Create a function that takes a list of strings and return a list, sorted from shortest to longest.'''\n",
    "def StL(lst):\n",
    "    lst.sort(key = len)\n",
    "    return lst\n",
    "    \n",
    "print(StL(([\"Google\", \"Apple\", \"Microsoft\"])))\n",
    "print(StL([\"Leonardo\", \"Michelangelo\", \"Raphael\", \"Donatello\"]))\n",
    "print(StL([\"Turing\", \"Einstein\", \"Jung\"]))"
   ]
  },
  {
   "cell_type": "code",
   "execution_count": 8,
   "id": "25145fa1",
   "metadata": {},
   "outputs": [
    {
     "name": "stdout",
     "output_type": "stream",
     "text": [
      "True\n",
      "True\n",
      "False\n"
     ]
    }
   ],
   "source": [
    "# Question 5:\n",
    "def pythTri(x, y, z):\n",
    "    lst = [x, y, z]\n",
    "    lst.sort()\n",
    "    a = True\n",
    "    return (lst[0]**2) + (lst[1] **2) == (lst[2] ** 2)\n",
    "       \n",
    "        \n",
    "print(pythTri(3, 4, 5) )\n",
    "print(pythTri(13, 5, 12) ) # Given example is wrong in the question\n",
    "print(pythTri(1, 2, 3))"
   ]
  },
  {
   "cell_type": "code",
   "execution_count": null,
   "id": "ec30cc81",
   "metadata": {},
   "outputs": [],
   "source": []
  }
 ],
 "metadata": {
  "kernelspec": {
   "display_name": "Python 3 (ipykernel)",
   "language": "python",
   "name": "python3"
  },
  "language_info": {
   "codemirror_mode": {
    "name": "ipython",
    "version": 3
   },
   "file_extension": ".py",
   "mimetype": "text/x-python",
   "name": "python",
   "nbconvert_exporter": "python",
   "pygments_lexer": "ipython3",
   "version": "3.9.7"
  }
 },
 "nbformat": 4,
 "nbformat_minor": 5
}
