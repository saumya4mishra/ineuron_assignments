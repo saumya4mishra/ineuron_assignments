{
 "cells": [
  {
   "cell_type": "raw",
   "id": "3ce48f62",
   "metadata": {},
   "source": [
    "# Q1. Describe three applications for exception processing."
   ]
  },
  {
   "cell_type": "raw",
   "id": "e2c709ca",
   "metadata": {},
   "source": [
    "Exceptions are raised when the program is syntactically correct, but the code resulted in an error. This error does not stop the execution of the program, however, it changes the normal flow of the program. When a runtime error is encountered the code runs the exception block. There are multiple applications such as:\n",
    "\n",
    "- Taking inputs from user, we can use try - except to ensure right input is given by the user.\n",
    "- handling errors while doing file handling opertaions\n",
    "- handling zero division errors in the calculations we do"
   ]
  },
  {
   "cell_type": "raw",
   "id": "c0ae5605",
   "metadata": {},
   "source": [
    "# Q2. What happens if you don't do something extra to treat an exception?"
   ]
  },
  {
   "cell_type": "raw",
   "id": "c17e870e",
   "metadata": {},
   "source": [
    "Whenever an exception occurs, the program stops the execution, and thus the further code is not executed. Therefore, an exception is the run-time errors that are unable to handle to Python script. An exception is a Python object that represents an error"
   ]
  },
  {
   "cell_type": "raw",
   "id": "86dff1f7",
   "metadata": {},
   "source": [
    "# Q3. What are your options for recovering from an exception in your script?"
   ]
  },
  {
   "cell_type": "raw",
   "id": "b426d19d",
   "metadata": {},
   "source": [
    "In except block, we write a code to handle exception and next set of actions."
   ]
  },
  {
   "cell_type": "code",
   "execution_count": 3,
   "id": "c3ef9867",
   "metadata": {},
   "outputs": [
    {
     "name": "stdout",
     "output_type": "stream",
     "text": [
      "Enter an integer value::sa\n",
      "invalid literal for int() with base 10: 'sa'\n",
      "Please enter an integer value\n",
      "Yayy i always executes!!\n",
      "Enter an integer value::23\n",
      "Yes you have entered an ineger 23\n",
      "Yayy i always executes!!\n"
     ]
    }
   ],
   "source": [
    "def askint():\n",
    "    while True:\n",
    "        try:\n",
    "            a = int(input('Enter an integer value::'))\n",
    "        except ValueError as e:\n",
    "            print(e)\n",
    "            print('Please enter an integer value')\n",
    "            continue\n",
    "        else:\n",
    "            print(f'Yes you have entered an ineger {a}')\n",
    "            break\n",
    "        finally:\n",
    "            print('finally executed')\n",
    "        \n",
    "askint()   "
   ]
  },
  {
   "cell_type": "raw",
   "id": "3c05b047",
   "metadata": {},
   "source": [
    "# Q4. Describe two methods for triggering exceptions in your script?"
   ]
  },
  {
   "cell_type": "raw",
   "id": "0277c503",
   "metadata": {},
   "source": [
    "Try statement – This method throws the exceptions when the code within try is executed.\n",
    "\n",
    "Raise – Triggers an exception manually using custom exceptions.\n",
    "\n",
    "Examples are already explained above."
   ]
  },
  {
   "cell_type": "raw",
   "id": "606a80f6",
   "metadata": {},
   "source": [
    "# Q5. Identify two methods for specifying actions to be executed at termination time, regardless of whether or not an exception exists."
   ]
  },
  {
   "cell_type": "raw",
   "id": "b89645fb",
   "metadata": {},
   "source": [
    "In else block, code is written to handle if no exception is raised by code in try block.\n",
    "\n",
    "In finally block, code executes regardless of whether or not an exception exists.  "
   ]
  }
 ],
 "metadata": {
  "kernelspec": {
   "display_name": "Python 3 (ipykernel)",
   "language": "python",
   "name": "python3"
  },
  "language_info": {
   "codemirror_mode": {
    "name": "ipython",
    "version": 3
   },
   "file_extension": ".py",
   "mimetype": "text/x-python",
   "name": "python",
   "nbconvert_exporter": "python",
   "pygments_lexer": "ipython3",
   "version": "3.9.7"
  }
 },
 "nbformat": 4,
 "nbformat_minor": 5
}
