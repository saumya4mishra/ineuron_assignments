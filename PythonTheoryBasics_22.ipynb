{
 "cells": [
  {
   "cell_type": "raw",
   "id": "a4671f51",
   "metadata": {},
   "source": [
    "# 1. What is the result of the code, and explain?"
   ]
  },
  {
   "cell_type": "code",
   "execution_count": 16,
   "id": "1469ebd7",
   "metadata": {},
   "outputs": [],
   "source": [
    "X = 'iNeuron'"
   ]
  },
  {
   "cell_type": "code",
   "execution_count": 17,
   "id": "b2a971a3",
   "metadata": {},
   "outputs": [],
   "source": [
    "def func():\n",
    "    print(X)"
   ]
  },
  {
   "cell_type": "code",
   "execution_count": 18,
   "id": "c3e2e576",
   "metadata": {},
   "outputs": [
    {
     "name": "stdout",
     "output_type": "stream",
     "text": [
      "iNeuron\n"
     ]
    }
   ],
   "source": [
    "func()"
   ]
  },
  {
   "cell_type": "raw",
   "id": "64fe9922",
   "metadata": {},
   "source": [
    "Here when func() is called it will execute the statement written inside it which print the value of x whose value is assigned as 'ineuron'."
   ]
  },
  {
   "cell_type": "code",
   "execution_count": null,
   "id": "132ce61b",
   "metadata": {},
   "outputs": [],
   "source": [
    "# 2. What is the result of the code, and explain?"
   ]
  },
  {
   "cell_type": "code",
   "execution_count": 12,
   "id": "cda2563a",
   "metadata": {},
   "outputs": [],
   "source": [
    "X = 'iNeuron'"
   ]
  },
  {
   "cell_type": "code",
   "execution_count": 13,
   "id": "11720a75",
   "metadata": {},
   "outputs": [],
   "source": [
    "def func():\n",
    "    X = 'NI!'"
   ]
  },
  {
   "cell_type": "code",
   "execution_count": 14,
   "id": "dc760b55",
   "metadata": {},
   "outputs": [],
   "source": [
    "func()"
   ]
  },
  {
   "cell_type": "code",
   "execution_count": 15,
   "id": "a168fea2",
   "metadata": {},
   "outputs": [
    {
     "name": "stdout",
     "output_type": "stream",
     "text": [
      "iNeuron\n"
     ]
    }
   ],
   "source": [
    "print(X)"
   ]
  },
  {
   "cell_type": "raw",
   "id": "3000811a",
   "metadata": {},
   "source": [
    "Here when func() is called it will execute the statement written inside it which only initialize value of x='NI' but it doesnot return anything(None).So it comes out of the block and doesnot print anything.\n",
    "Again when print(x) is executed it prints the value of X = 'iNeuron'.\n"
   ]
  },
  {
   "cell_type": "raw",
   "id": "f777820c",
   "metadata": {},
   "source": [
    "# 3. What does this code print, and why?"
   ]
  },
  {
   "cell_type": "code",
   "execution_count": 8,
   "id": "23ebac3f",
   "metadata": {},
   "outputs": [],
   "source": [
    "X = 'iNeuron'"
   ]
  },
  {
   "cell_type": "code",
   "execution_count": 9,
   "id": "9ffe4050",
   "metadata": {},
   "outputs": [],
   "source": [
    "def func():\n",
    "    X = 'NI'\n",
    "    print(X)"
   ]
  },
  {
   "cell_type": "code",
   "execution_count": 10,
   "id": "23ea7b52",
   "metadata": {},
   "outputs": [
    {
     "name": "stdout",
     "output_type": "stream",
     "text": [
      "NI\n"
     ]
    }
   ],
   "source": [
    "func()"
   ]
  },
  {
   "cell_type": "code",
   "execution_count": 11,
   "id": "c29a7cfb",
   "metadata": {},
   "outputs": [
    {
     "name": "stdout",
     "output_type": "stream",
     "text": [
      "iNeuron\n"
     ]
    }
   ],
   "source": [
    "print(X)\n"
   ]
  },
  {
   "cell_type": "raw",
   "id": "d65942c4",
   "metadata": {},
   "source": [
    "Here when func() is called it will execute the statement written inside it which initialize value of x='NI' and subsequently print the value of X.The scope of  X = 'NI'is within the block func().\n",
    "But when a print statement i.e print(X) is executed it prints x value as iNeuron.(X is treated as global variable)"
   ]
  },
  {
   "cell_type": "raw",
   "id": "1ca6b014",
   "metadata": {},
   "source": [
    "# 4. What output does this code produce? Why?"
   ]
  },
  {
   "cell_type": "code",
   "execution_count": 4,
   "id": "60c7e25a",
   "metadata": {},
   "outputs": [],
   "source": [
    "X = 'iNeuron'"
   ]
  },
  {
   "cell_type": "code",
   "execution_count": 5,
   "id": "a2ba4311",
   "metadata": {},
   "outputs": [],
   "source": [
    "def func():\n",
    "    global X\n",
    "    X = 'NI'"
   ]
  },
  {
   "cell_type": "code",
   "execution_count": 6,
   "id": "f38b9af5",
   "metadata": {},
   "outputs": [],
   "source": [
    "func()"
   ]
  },
  {
   "cell_type": "code",
   "execution_count": 7,
   "id": "1237b732",
   "metadata": {},
   "outputs": [
    {
     "name": "stdout",
     "output_type": "stream",
     "text": [
      "NI\n"
     ]
    }
   ],
   "source": [
    "print(X)"
   ]
  },
  {
   "cell_type": "raw",
   "id": "3ddc2bd4",
   "metadata": {},
   "source": [
    "Here in func() we have declared X as global variable hence it's previous value i.e 'iNeuron' is overrided and when print(x) is executed it prints latest updated value i.e 'NI'."
   ]
  },
  {
   "cell_type": "raw",
   "id": "094d6742",
   "metadata": {},
   "source": [
    "# 5. What about this code—what’s the output, and why?"
   ]
  },
  {
   "cell_type": "code",
   "execution_count": null,
   "id": "d9bb6c2f",
   "metadata": {},
   "outputs": [],
   "source": [
    "X = 'iNeuron'\n",
    "def func():\n",
    "    X = 'NI'\n",
    "def nested():\n",
    "    print(X)\n",
    "nested()"
   ]
  },
  {
   "cell_type": "code",
   "execution_count": null,
   "id": "1dc23e33",
   "metadata": {},
   "outputs": [],
   "source": [
    "func()"
   ]
  },
  {
   "cell_type": "code",
   "execution_count": null,
   "id": "5673bfb6",
   "metadata": {},
   "outputs": [],
   "source": [
    "X"
   ]
  },
  {
   "cell_type": "raw",
   "id": "486f79dd",
   "metadata": {},
   "source": [
    "Here when nested() is called it prints X = 'iNeuron'(Global variable).\n",
    "In func(), X = 'NI' the scope of X is within func() as it is a local variable."
   ]
  },
  {
   "cell_type": "raw",
   "id": "e16c2ac8",
   "metadata": {},
   "source": [
    "# 6. How about this code: what is its output in Python 3, and explain?"
   ]
  },
  {
   "cell_type": "code",
   "execution_count": 22,
   "id": "56b4d6ee",
   "metadata": {},
   "outputs": [
    {
     "name": "stdout",
     "output_type": "stream",
     "text": [
      "Spam\n"
     ]
    }
   ],
   "source": [
    "def func():\n",
    "    X = 'NI'\n",
    "    def nested():\n",
    "        nonlocal X\n",
    "        X = 'Spam'\n",
    "    nested()\n",
    "    print(X)\n",
    "func()"
   ]
  },
  {
   "cell_type": "raw",
   "id": "7a3c1ad4",
   "metadata": {},
   "source": [
    "nonlocal is used to define scope for nested functions, andy varible defined with this scope holds its value even inside the main function inside which the local scope of the nonlocal variable. Unlike global it dosen't make the scope for the entire program.\n",
    "\n",
    "A variable if we want to access outside the block as well as within the block should be declared as global."
   ]
  }
 ],
 "metadata": {
  "kernelspec": {
   "display_name": "Python 3 (ipykernel)",
   "language": "python",
   "name": "python3"
  },
  "language_info": {
   "codemirror_mode": {
    "name": "ipython",
    "version": 3
   },
   "file_extension": ".py",
   "mimetype": "text/x-python",
   "name": "python",
   "nbconvert_exporter": "python",
   "pygments_lexer": "ipython3",
   "version": "3.9.7"
  }
 },
 "nbformat": 4,
 "nbformat_minor": 5
}
