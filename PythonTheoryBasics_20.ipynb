{
 "cells": [
  {
   "cell_type": "raw",
   "id": "2f503aa1",
   "metadata": {},
   "source": [
    "# 1. Set the variable test1 to the string 'This is a test of the emergency text system,' and save test1 to a file named test.txt."
   ]
  },
  {
   "cell_type": "code",
   "execution_count": 2,
   "id": "7cd5b8a2",
   "metadata": {},
   "outputs": [],
   "source": [
    " test1 = 'This is a test of the emergency text system'"
   ]
  },
  {
   "cell_type": "code",
   "execution_count": 3,
   "id": "ff2d2131",
   "metadata": {},
   "outputs": [],
   "source": [
    "with open('test.txt', 'w') as outfile:\n",
    "    outfile.write(test1)"
   ]
  },
  {
   "cell_type": "raw",
   "id": "6a6f690c",
   "metadata": {},
   "source": [
    "# 2. Read the contents of the file test.txt into the variable test2. Is there a difference between test 1 and test 2?"
   ]
  },
  {
   "cell_type": "code",
   "execution_count": 4,
   "id": "217e0cf0",
   "metadata": {},
   "outputs": [],
   "source": [
    "with open('test.txt', 'rt') as infile:\n",
    "    test2 = infile.read()"
   ]
  },
  {
   "cell_type": "code",
   "execution_count": 5,
   "id": "64dfafc4",
   "metadata": {},
   "outputs": [
    {
     "data": {
      "text/plain": [
       "43"
      ]
     },
     "execution_count": 5,
     "metadata": {},
     "output_type": "execute_result"
    }
   ],
   "source": [
    "len(test2)"
   ]
  },
  {
   "cell_type": "code",
   "execution_count": 6,
   "id": "60b21432",
   "metadata": {},
   "outputs": [
    {
     "data": {
      "text/plain": [
       "True"
      ]
     },
     "execution_count": 6,
     "metadata": {},
     "output_type": "execute_result"
    }
   ],
   "source": [
    "test1 == test2"
   ]
  },
  {
   "cell_type": "raw",
   "id": "cbbc49d0",
   "metadata": {},
   "source": [
    "# 3. Create a CSV file called books.csv by using these lines:\n",
    "title,author,year\n",
    "The Weirdstone of Brisingamen,Alan Garner,1960\n",
    "Perdido Street Station,China Miéville,2000\n",
    "Thud!,Terry Pratchett,2005\n",
    "The Spellman Files,Lisa Lutz,2007\n",
    "Small Gods,Terry Pratchett,1992"
   ]
  },
  {
   "cell_type": "code",
   "execution_count": 7,
   "id": "2f92b0d5",
   "metadata": {},
   "outputs": [],
   "source": [
    "text='''title,author,year\n",
    "The Weirdstone of Brisingamen,Alan Garner,1960\n",
    "Perdido Street Station,China Miéville,2000\n",
    "Thud!,Terry Pratchett,2005\n",
    "The Spellman Files,Lisa Lutz,2007\n",
    "Small Gods,Terry Pratchett,1992'''\n"
   ]
  },
  {
   "cell_type": "code",
   "execution_count": 8,
   "id": "43198d40",
   "metadata": {},
   "outputs": [],
   "source": [
    "with open('books.csv', 'wt') as outfile:\n",
    "    outfile.write(text)"
   ]
  },
  {
   "cell_type": "raw",
   "id": "2e9487bf",
   "metadata": {},
   "source": [
    "# 4. Use the sqlite3 module to create a SQLite database called books.db, and a table called books with these fields: title (text), author (text), and year (integer)."
   ]
  },
  {
   "cell_type": "code",
   "execution_count": 9,
   "id": "46a94c73",
   "metadata": {},
   "outputs": [],
   "source": [
    "import sqlite3"
   ]
  },
  {
   "cell_type": "code",
   "execution_count": 10,
   "id": "826f62ce",
   "metadata": {},
   "outputs": [],
   "source": [
    "db = sqlite3.connect('books.db')"
   ]
  },
  {
   "cell_type": "code",
   "execution_count": 11,
   "id": "759b92b8",
   "metadata": {},
   "outputs": [],
   "source": [
    "curs = db.cursor()"
   ]
  },
  {
   "cell_type": "code",
   "execution_count": 14,
   "id": "d2b26120",
   "metadata": {},
   "outputs": [
    {
     "data": {
      "text/plain": [
       "<sqlite3.Cursor at 0x281f258b3b0>"
      ]
     },
     "execution_count": 14,
     "metadata": {},
     "output_type": "execute_result"
    }
   ],
   "source": [
    "curs.execute('drop table book')"
   ]
  },
  {
   "cell_type": "code",
   "execution_count": 15,
   "id": "ef51f715",
   "metadata": {},
   "outputs": [],
   "source": [
    "db.commit()"
   ]
  },
  {
   "cell_type": "code",
   "execution_count": 16,
   "id": "9939dd6a",
   "metadata": {},
   "outputs": [
    {
     "data": {
      "text/plain": [
       "<sqlite3.Cursor at 0x281f258b3b0>"
      ]
     },
     "execution_count": 16,
     "metadata": {},
     "output_type": "execute_result"
    }
   ],
   "source": [
    "curs.execute('''create table book (title text, author text, year int)''')"
   ]
  },
  {
   "cell_type": "code",
   "execution_count": 17,
   "id": "a957a35a",
   "metadata": {},
   "outputs": [],
   "source": [
    "db.commit()"
   ]
  },
  {
   "cell_type": "raw",
   "id": "28d71508",
   "metadata": {},
   "source": [
    "# 5. Read books.csv and insert its data into the book table."
   ]
  },
  {
   "cell_type": "code",
   "execution_count": 18,
   "id": "3493eaad",
   "metadata": {},
   "outputs": [],
   "source": [
    "import csv"
   ]
  },
  {
   "cell_type": "code",
   "execution_count": 19,
   "id": "dd9fbb98",
   "metadata": {},
   "outputs": [],
   "source": [
    "import sqlite3"
   ]
  },
  {
   "cell_type": "code",
   "execution_count": 20,
   "id": "8d091575",
   "metadata": {},
   "outputs": [],
   "source": [
    "ins_str = 'insert into book values(?, ?, ?)'"
   ]
  },
  {
   "cell_type": "code",
   "execution_count": 21,
   "id": "bff192da",
   "metadata": {},
   "outputs": [],
   "source": [
    "with open('books.csv', 'rt') as infile:\n",
    "    books = csv.DictReader(infile)\n",
    "    for book in books:\n",
    "        curs.execute(ins_str, (book['title'], book['author'], book['year']))"
   ]
  },
  {
   "cell_type": "code",
   "execution_count": 22,
   "id": "8318c45c",
   "metadata": {},
   "outputs": [],
   "source": [
    "db.commit()"
   ]
  },
  {
   "cell_type": "raw",
   "id": "1660b87e",
   "metadata": {},
   "source": [
    "# 6. Select and print the title column from the book table in alphabetical order."
   ]
  },
  {
   "cell_type": "code",
   "execution_count": 27,
   "id": "472c269f",
   "metadata": {},
   "outputs": [],
   "source": [
    "sql = 'select * from book order by title asc'"
   ]
  },
  {
   "cell_type": "code",
   "execution_count": 28,
   "id": "a9be000e",
   "metadata": {},
   "outputs": [
    {
     "name": "stdout",
     "output_type": "stream",
     "text": [
      "('Perdido Street Station', 'China Miéville', 2000)\n",
      "('Small Gods', 'Terry Pratchett', 1992)\n",
      "('The Spellman Files', 'Lisa Lutz', 2007)\n",
      "('The Weirdstone of Brisingamen', 'Alan Garner', 1960)\n",
      "('Thud!', 'Terry Pratchett', 2005)\n"
     ]
    }
   ],
   "source": [
    "for row in db.execute(sql):\n",
    "    print(row)"
   ]
  },
  {
   "cell_type": "raw",
   "id": "e0cda9d4",
   "metadata": {},
   "source": [
    "# 7. From the book table, select and print all columns in the order of publication."
   ]
  },
  {
   "cell_type": "code",
   "execution_count": 26,
   "id": "1e476c29",
   "metadata": {},
   "outputs": [
    {
     "name": "stdout",
     "output_type": "stream",
     "text": [
      "('The Weirdstone of Brisingamen', 'Alan Garner', 1960)\n",
      "('Small Gods', 'Terry Pratchett', 1992)\n",
      "('Perdido Street Station', 'China Miéville', 2000)\n",
      "('Thud!', 'Terry Pratchett', 2005)\n",
      "('The Spellman Files', 'Lisa Lutz', 2007)\n"
     ]
    }
   ],
   "source": [
    "for row in db.execute('select * from book order by year'):\n",
    "    print(row)"
   ]
  },
  {
   "cell_type": "raw",
   "id": "2ac23000",
   "metadata": {},
   "source": [
    "# 8. Use the sqlalchemy module to connect to the sqlite3 database books.db that you just made in exercise 6."
   ]
  },
  {
   "cell_type": "code",
   "execution_count": 30,
   "id": "376a8da9",
   "metadata": {},
   "outputs": [],
   "source": [
    "import sqlalchemy"
   ]
  },
  {
   "cell_type": "code",
   "execution_count": 31,
   "id": "86931304",
   "metadata": {},
   "outputs": [],
   "source": [
    "conn = sqlalchemy.create_engine('sqlite:///books.db')"
   ]
  },
  {
   "cell_type": "code",
   "execution_count": 32,
   "id": "4722be4e",
   "metadata": {},
   "outputs": [],
   "source": [
    "sql = 'select title from book order by title asc'\n"
   ]
  },
  {
   "cell_type": "code",
   "execution_count": 33,
   "id": "6fb98e84",
   "metadata": {},
   "outputs": [],
   "source": [
    "rows = conn.execute(sql)"
   ]
  },
  {
   "cell_type": "code",
   "execution_count": 34,
   "id": "027a77a5",
   "metadata": {},
   "outputs": [
    {
     "name": "stdout",
     "output_type": "stream",
     "text": [
      "('Perdido Street Station',)\n",
      "('Small Gods',)\n",
      "('The Spellman Files',)\n",
      "('The Weirdstone of Brisingamen',)\n",
      "('Thud!',)\n"
     ]
    }
   ],
   "source": [
    "for row in rows:\n",
    "     print(row)"
   ]
  },
  {
   "cell_type": "raw",
   "id": "9b8a7eeb",
   "metadata": {},
   "source": [
    "# 9. Install the Redis server and the Python redis library (pip install redis) on your computer. Create a Redis hash called test with the fields count (1) and name ('Fester Bestertester'). Print all the fields for test."
   ]
  },
  {
   "cell_type": "code",
   "execution_count": null,
   "id": "4ad9fc76",
   "metadata": {},
   "outputs": [],
   "source": [
    "!pip install redis\n",
    "\n",
    "import redis\n",
    "conn = redis.Redis()\n",
    "conn.delete('test')\n",
    "1\n",
    "conn.hmset('test', {'count': 1, 'name': 'Fester Bestertester'})\n",
    "True\n",
    "conn.hgetall('test')\n",
    "{b'name': b'Fester Bestertester', b'count': b'1'}"
   ]
  },
  {
   "cell_type": "raw",
   "id": "f8f6a426",
   "metadata": {},
   "source": [
    "# 10. Increment the count field of test and print it."
   ]
  },
  {
   "cell_type": "code",
   "execution_count": null,
   "id": "29fbd4da",
   "metadata": {},
   "outputs": [],
   "source": []
  },
  {
   "cell_type": "code",
   "execution_count": null,
   "id": "2c3f4944",
   "metadata": {},
   "outputs": [],
   "source": [
    "conn.hincrby('test', 'count', 3)\n",
    "4\n",
    "conn.hget('test', 'count')\n",
    "b'4'"
   ]
  }
 ],
 "metadata": {
  "kernelspec": {
   "display_name": "Python 3 (ipykernel)",
   "language": "python",
   "name": "python3"
  },
  "language_info": {
   "codemirror_mode": {
    "name": "ipython",
    "version": 3
   },
   "file_extension": ".py",
   "mimetype": "text/x-python",
   "name": "python",
   "nbconvert_exporter": "python",
   "pygments_lexer": "ipython3",
   "version": "3.9.7"
  }
 },
 "nbformat": 4,
 "nbformat_minor": 5
}
