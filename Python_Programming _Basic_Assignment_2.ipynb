{
 "cells": [
  {
   "cell_type": "code",
   "execution_count": 3,
   "id": "790e2b2c",
   "metadata": {},
   "outputs": [
    {
     "name": "stdout",
     "output_type": "stream",
     "text": [
      "enter distance in KM12\n",
      " distance in miles 7.5\n"
     ]
    }
   ],
   "source": [
    "''' 1.\tWrite a Python program to convert kilometers to miles?'''\n",
    "\n",
    "distance_km = int(input('enter distance in KM'))\n",
    "distance_miles = distance_km/1.6\n",
    "print(' distance in miles {}'.format(distance_miles))"
   ]
  },
  {
   "cell_type": "code",
   "execution_count": 4,
   "id": "32a4d935",
   "metadata": {},
   "outputs": [
    {
     "name": "stdout",
     "output_type": "stream",
     "text": [
      "enter temperature in celsius37\n",
      " temperature in ferenheit is 98.60000000000001\n"
     ]
    }
   ],
   "source": [
    "''' 2.\tWrite a Python program to convert Celsius to Fahrenheit?'''\n",
    "\n",
    "temp_celsius = float(input('enter temperature in celsius'))\n",
    "temp_ferenheit = (temp_celsius * 1.8) + 32\n",
    "print(' temperature in ferenheit is {}'.format(temp_ferenheit))"
   ]
  },
  {
   "cell_type": "code",
   "execution_count": 5,
   "id": "b02bb916",
   "metadata": {},
   "outputs": [
    {
     "name": "stdout",
     "output_type": "stream",
     "text": [
      "                                  2022\n",
      "\n",
      "      January                   February                   March\n",
      "Mo Tu We Th Fr Sa Su      Mo Tu We Th Fr Sa Su      Mo Tu We Th Fr Sa Su\n",
      "                1  2          1  2  3  4  5  6          1  2  3  4  5  6\n",
      " 3  4  5  6  7  8  9       7  8  9 10 11 12 13       7  8  9 10 11 12 13\n",
      "10 11 12 13 14 15 16      14 15 16 17 18 19 20      14 15 16 17 18 19 20\n",
      "17 18 19 20 21 22 23      21 22 23 24 25 26 27      21 22 23 24 25 26 27\n",
      "24 25 26 27 28 29 30      28                        28 29 30 31\n",
      "31\n",
      "\n",
      "       April                      May                       June\n",
      "Mo Tu We Th Fr Sa Su      Mo Tu We Th Fr Sa Su      Mo Tu We Th Fr Sa Su\n",
      "             1  2  3                         1             1  2  3  4  5\n",
      " 4  5  6  7  8  9 10       2  3  4  5  6  7  8       6  7  8  9 10 11 12\n",
      "11 12 13 14 15 16 17       9 10 11 12 13 14 15      13 14 15 16 17 18 19\n",
      "18 19 20 21 22 23 24      16 17 18 19 20 21 22      20 21 22 23 24 25 26\n",
      "25 26 27 28 29 30         23 24 25 26 27 28 29      27 28 29 30\n",
      "                          30 31\n",
      "\n",
      "        July                     August                  September\n",
      "Mo Tu We Th Fr Sa Su      Mo Tu We Th Fr Sa Su      Mo Tu We Th Fr Sa Su\n",
      "             1  2  3       1  2  3  4  5  6  7                1  2  3  4\n",
      " 4  5  6  7  8  9 10       8  9 10 11 12 13 14       5  6  7  8  9 10 11\n",
      "11 12 13 14 15 16 17      15 16 17 18 19 20 21      12 13 14 15 16 17 18\n",
      "18 19 20 21 22 23 24      22 23 24 25 26 27 28      19 20 21 22 23 24 25\n",
      "25 26 27 28 29 30 31      29 30 31                  26 27 28 29 30\n",
      "\n",
      "      October                   November                  December\n",
      "Mo Tu We Th Fr Sa Su      Mo Tu We Th Fr Sa Su      Mo Tu We Th Fr Sa Su\n",
      "                1  2          1  2  3  4  5  6                1  2  3  4\n",
      " 3  4  5  6  7  8  9       7  8  9 10 11 12 13       5  6  7  8  9 10 11\n",
      "10 11 12 13 14 15 16      14 15 16 17 18 19 20      12 13 14 15 16 17 18\n",
      "17 18 19 20 21 22 23      21 22 23 24 25 26 27      19 20 21 22 23 24 25\n",
      "24 25 26 27 28 29 30      28 29 30                  26 27 28 29 30 31\n",
      "31\n",
      "\n"
     ]
    }
   ],
   "source": [
    "''' 3.\tWrite a Python program to display calendar? '''\n",
    "\n",
    "import calendar\n",
    "year = 2022\n",
    "print(calendar.calendar(year))"
   ]
  },
  {
   "cell_type": "code",
   "execution_count": 23,
   "id": "bcd3e351",
   "metadata": {},
   "outputs": [
    {
     "name": "stdout",
     "output_type": "stream",
     "text": [
      "Enter vaue of a 1\n",
      "Enter vaue of b -6\n",
      "Enter vaue of c 12\n",
      "root 1 (3+1.7320508075688772j)\n",
      "root 2 (3-1.7320508075688772j)\n"
     ]
    }
   ],
   "source": [
    "'''4.\tWrite a Python program to solve quadratic equation?'''\n",
    "import math\n",
    "import cmath\n",
    "a = float(input('Enter vaue of a '))\n",
    "b = float(input('Enter vaue of b '))\n",
    "c = float(input('Enter vaue of c '))\n",
    "\n",
    "determinent = b**2 - 4*a*c\n",
    "if determinent >= 0:\n",
    "    root1  = (-b + math.sqrt(determinent))/ 2*a\n",
    "    root2  = (-b - math.sqrt(determinent))/ 2*a\n",
    "    print('root 1 {}'.format(root1))\n",
    "    print('root 2 {}'.format(root2))\n",
    "else:\n",
    "    root1  = (-b + cmath.sqrt(determinent))/ 2*a\n",
    "    root2  = (-b - cmath.sqrt(determinent))/ 2*a\n",
    "    print('root 1 {}'.format(root1))\n",
    "    print('root 2 {}'.format(root2)) \n"
   ]
  },
  {
   "cell_type": "code",
   "execution_count": 15,
   "id": "6c086c5c",
   "metadata": {},
   "outputs": [
    {
     "name": "stdout",
     "output_type": "stream",
     "text": [
      "15\n",
      "20\n"
     ]
    }
   ],
   "source": [
    "''' 5.\tWrite a Python program to swap two variables without temp variable?'''\n",
    "\n",
    "x = 20\n",
    "y = 15\n",
    "x = x + y\n",
    "y= x - y\n",
    "x = x - y\n",
    "print(x)\n",
    "print(y)"
   ]
  },
  {
   "cell_type": "code",
   "execution_count": null,
   "id": "04c8c3b7",
   "metadata": {},
   "outputs": [],
   "source": []
  }
 ],
 "metadata": {
  "kernelspec": {
   "display_name": "Python 3 (ipykernel)",
   "language": "python",
   "name": "python3"
  },
  "language_info": {
   "codemirror_mode": {
    "name": "ipython",
    "version": 3
   },
   "file_extension": ".py",
   "mimetype": "text/x-python",
   "name": "python",
   "nbconvert_exporter": "python",
   "pygments_lexer": "ipython3",
   "version": "3.9.7"
  }
 },
 "nbformat": 4,
 "nbformat_minor": 5
}
