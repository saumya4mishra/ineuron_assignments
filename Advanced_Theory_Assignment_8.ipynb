{
 "cells": [
  {
   "cell_type": "raw",
   "id": "d5d15426",
   "metadata": {},
   "source": [
    "# Q1. What are the two latest user-defined exception constraints in Python 3.X?"
   ]
  },
  {
   "cell_type": "raw",
   "id": "6d9b6405",
   "metadata": {},
   "source": [
    "1. raise statement -  This is used to raise an inbuilt exception explicitly.\n",
    "2. assert statement - when condition in assert statement is true, program is executed normally. When condition is false, program gives an AssertionError."
   ]
  },
  {
   "cell_type": "raw",
   "id": "5f9fe266",
   "metadata": {},
   "source": [
    "# Q2. How are class-based exceptions that have been raised matched to handlers?"
   ]
  },
  {
   "cell_type": "raw",
   "id": "184e8450",
   "metadata": {},
   "source": [
    "When exceptions are raised, then the exception is handled by the same class mentioned in except statement or its base classes. \"Exception\" is the base class(Superclass) for all other exception classes."
   ]
  },
  {
   "cell_type": "raw",
   "id": "77702493",
   "metadata": {},
   "source": [
    "# Q3. Describe two methods for attaching context information to exception artefacts."
   ]
  },
  {
   "cell_type": "raw",
   "id": "fd367f9f",
   "metadata": {},
   "source": [
    "1. By using logging.exception() method, we can log log messages with level ERROR on the logger. I will store the information like type of error, line number, file name and path.\n",
    "2. By using raise keyword. It will also display Traceback of the recent exception raised."
   ]
  },
  {
   "cell_type": "raw",
   "id": "934f7221",
   "metadata": {},
   "source": [
    "import logging\n",
    "  \n",
    "try: \n",
    "    4/0\n",
    "except Exception as e: \n",
    "    logging.exception(e)\n",
    "    raise"
   ]
  },
  {
   "cell_type": "raw",
   "id": "0663ac8e",
   "metadata": {},
   "source": [
    "# Q4. Describe two methods for specifying the text of an exception object's error message."
   ]
  },
  {
   "cell_type": "raw",
   "id": "e7e435c4",
   "metadata": {},
   "source": [
    "1. We can print the text of an exception, by using the object of an Exception class which is a parent class for all types of exceptions . We can access different attributes like messgae, args, traceback from that object.\n",
    "2. By using logging.error() method"
   ]
  },
  {
   "cell_type": "code",
   "execution_count": null,
   "id": "26466767",
   "metadata": {},
   "outputs": [],
   "source": [
    "try:\n",
    "    a = 'xyz'\n",
    "    b = 2    \n",
    "    c = a+b\n",
    "except TypeError as e:\n",
    "    print(e)"
   ]
  },
  {
   "cell_type": "code",
   "execution_count": null,
   "id": "4b7cd352",
   "metadata": {},
   "outputs": [],
   "source": [
    "try:\n",
    "    file = open('xyz.txt','r')\n",
    "except Exception as e:\n",
    "    logging.error(e)"
   ]
  },
  {
   "cell_type": "raw",
   "id": "78c7b51f",
   "metadata": {},
   "source": [
    "# Q5. Why do you no longer use string-based exceptions?"
   ]
  },
  {
   "cell_type": "raw",
   "id": "936f50c2",
   "metadata": {},
   "source": [
    "In Python versions 1.5 and earlier, Exceptions were strings and not classes. Now all exceptions are classes, derived from the superclass BaseException. With classes it is more efficiently handled as classes have many useful features."
   ]
  }
 ],
 "metadata": {
  "kernelspec": {
   "display_name": "Python 3 (ipykernel)",
   "language": "python",
   "name": "python3"
  },
  "language_info": {
   "codemirror_mode": {
    "name": "ipython",
    "version": 3
   },
   "file_extension": ".py",
   "mimetype": "text/x-python",
   "name": "python",
   "nbconvert_exporter": "python",
   "pygments_lexer": "ipython3",
   "version": "3.9.7"
  }
 },
 "nbformat": 4,
 "nbformat_minor": 5
}
