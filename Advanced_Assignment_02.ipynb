{
 "cells": [
  {
   "cell_type": "code",
   "execution_count": 1,
   "id": "2ef4012b",
   "metadata": {},
   "outputs": [],
   "source": [
    "# 1. Write a function that takes a positive integer num and calculates how many dots exist \n",
    "# in a pentagonal shape around the center dot on the Nth iteration.\n",
    "def pentagonal(n):\n",
    "    return (5*n*n-5*n+2)//2"
   ]
  },
  {
   "cell_type": "code",
   "execution_count": 2,
   "id": "bd390476",
   "metadata": {},
   "outputs": [
    {
     "data": {
      "text/plain": [
       "141"
      ]
     },
     "execution_count": 2,
     "metadata": {},
     "output_type": "execute_result"
    }
   ],
   "source": [
    "pentagonal(8)"
   ]
  },
  {
   "cell_type": "code",
   "execution_count": 3,
   "id": "d682c439",
   "metadata": {},
   "outputs": [
    {
     "data": {
      "text/plain": [
       "'k0r3baca'"
      ]
     },
     "execution_count": 3,
     "metadata": {},
     "output_type": "execute_result"
    }
   ],
   "source": [
    "# 2.  Make a function that encrypts a given input with these steps:\n",
    "# Input: \"apple\"\n",
    "# Step 1: Reverse the input: \"elppa\"\n",
    "# Step 2: Replace all vowels using the following chart:\n",
    "# a => 0\n",
    "# e => 1\n",
    "# i => 2\n",
    "# o => 2\n",
    "# u => 3\n",
    "# Step 3: Add \"aca\" to the end of the word: \"1lpp0aca\"\n",
    "\n",
    "chart = {'a': '0', 'e': '1', 'i': '2', 'o': '2', 'u': '3'} \n",
    "def encrypt(word):\n",
    "    list1 = list(word)\n",
    "    # step 1\n",
    "    out_one = list1[::-1]\n",
    "    # step 2\n",
    "    for s in out_one:\n",
    "        if s in 'aeiou':\n",
    "            i = out_one.index(s)\n",
    "            out_one[i] = chart[s]    \n",
    "    # step 3\n",
    "    output = ''\n",
    "    for c in out_one:\n",
    "        output += c\n",
    "    return output + 'aca'\n",
    "encrypt(\"burak\")"
   ]
  },
  {
   "cell_type": "code",
   "execution_count": 10,
   "id": "3ceef983",
   "metadata": {},
   "outputs": [
    {
     "name": "stdout",
     "output_type": "stream",
     "text": [
      "False\n"
     ]
    }
   ],
   "source": [
    "# 3. Given the month and year as numbers, return whether that month contains a Friday 13th.\n",
    "# (i.e You can check Python's datetime module)\n",
    "import datetime\n",
    "\n",
    "def has_friday_13(month,year,date=13):\n",
    "    \n",
    "    time = datetime.datetime(year, month, 13)\n",
    "    day =  time.strftime(\"%A\")\n",
    "    if str(day) == 'Friday':\n",
    "        return True\n",
    "    else:\n",
    "        return False\n",
    "\n",
    "print(has_friday_13(1, 1985))    "
   ]
  },
  {
   "cell_type": "code",
   "execution_count": null,
   "id": "1a052a67",
   "metadata": {},
   "outputs": [],
   "source": [
    "# 4. Write a regular expression that will help us count how many bad cookies are produced every day. \n",
    "# You must use RegEx negative lookbehind.\n",
    "\n"
   ]
  },
  {
   "cell_type": "code",
   "execution_count": 12,
   "id": "6140dc40",
   "metadata": {},
   "outputs": [
    {
     "data": {
      "text/plain": [
       "['pig', 'cows']"
      ]
     },
     "execution_count": 12,
     "metadata": {},
     "output_type": "execute_result"
    }
   ],
   "source": [
    "# 5. Given a list of words in the singular form, return a set of those words in the plural form \n",
    "# if they appear more than once in the list.\n",
    "def pluralize(sequence):\n",
    "    out = []\n",
    "    for i in sequence:\n",
    "        n = sequence.count(i)\n",
    "        if n == 1:\n",
    "            out.append(i)\n",
    "    else:\n",
    "        out.append(i + 's')\n",
    "    return out\n",
    "pluralize([\"cow\", \"pig\", \"cow\", \"cow\"])"
   ]
  },
  {
   "cell_type": "code",
   "execution_count": null,
   "id": "e5dd2559",
   "metadata": {},
   "outputs": [],
   "source": []
  }
 ],
 "metadata": {
  "kernelspec": {
   "display_name": "Python 3 (ipykernel)",
   "language": "python",
   "name": "python3"
  },
  "language_info": {
   "codemirror_mode": {
    "name": "ipython",
    "version": 3
   },
   "file_extension": ".py",
   "mimetype": "text/x-python",
   "name": "python",
   "nbconvert_exporter": "python",
   "pygments_lexer": "ipython3",
   "version": "3.9.7"
  }
 },
 "nbformat": 4,
 "nbformat_minor": 5
}
