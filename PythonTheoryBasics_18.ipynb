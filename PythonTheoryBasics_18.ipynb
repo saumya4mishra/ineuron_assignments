{
 "cells": [
  {
   "cell_type": "raw",
   "id": "85e7f148",
   "metadata": {},
   "source": [
    "# 1. Create a zoo.py file first. Define the hours() function, which prints the string 'Open 9-5 daily'. Then, use the interactive interpreter to import the zoo module and call its hours() function."
   ]
  },
  {
   "cell_type": "code",
   "execution_count": null,
   "id": "f07cb9ae",
   "metadata": {},
   "outputs": [],
   "source": [
    "import zoo"
   ]
  },
  {
   "cell_type": "code",
   "execution_count": null,
   "id": "0904cbdd",
   "metadata": {},
   "outputs": [],
   "source": [
    "zoo.hours()"
   ]
  },
  {
   "cell_type": "raw",
   "id": "85f61213",
   "metadata": {},
   "source": [
    "# 2. In the interactive interpreter, import the zoo module as menagerie and call its hours() function."
   ]
  },
  {
   "cell_type": "code",
   "execution_count": null,
   "id": "bd51f12b",
   "metadata": {},
   "outputs": [],
   "source": [
    "import zoo as menagerie"
   ]
  },
  {
   "cell_type": "code",
   "execution_count": null,
   "id": "fafbe01b",
   "metadata": {},
   "outputs": [],
   "source": [
    "menagerie.hours()"
   ]
  },
  {
   "cell_type": "raw",
   "id": "b0dd6e90",
   "metadata": {},
   "source": [
    "# 3. Using the interpreter, explicitly import and call the hours() function from zoo."
   ]
  },
  {
   "cell_type": "code",
   "execution_count": null,
   "id": "8af08463",
   "metadata": {},
   "outputs": [],
   "source": [
    "from zoo import hours"
   ]
  },
  {
   "cell_type": "code",
   "execution_count": null,
   "id": "5e7bcffc",
   "metadata": {},
   "outputs": [],
   "source": [
    "hours()"
   ]
  },
  {
   "cell_type": "raw",
   "id": "64100dfa",
   "metadata": {},
   "source": [
    "# 4. Import the hours() function as info and call it."
   ]
  },
  {
   "cell_type": "code",
   "execution_count": null,
   "id": "ae1d28c2",
   "metadata": {},
   "outputs": [],
   "source": [
    "from zoo import hours as info"
   ]
  },
  {
   "cell_type": "code",
   "execution_count": null,
   "id": "9839d93e",
   "metadata": {},
   "outputs": [],
   "source": [
    "info()"
   ]
  },
  {
   "cell_type": "raw",
   "id": "b7a84710",
   "metadata": {},
   "source": [
    "# 5. Create a plain dictionary with the key-value pairs 'a': 1, 'b': 2, and 'c': 3, and print it out."
   ]
  },
  {
   "cell_type": "code",
   "execution_count": 7,
   "id": "73b60f14",
   "metadata": {},
   "outputs": [],
   "source": [
    "plain = {'b': 2, 'a': 1, 'c': 3}"
   ]
  },
  {
   "cell_type": "raw",
   "id": "20e5932f",
   "metadata": {},
   "source": [
    "# 6.Make an OrderedDict called fancy from the same pairs listed in 5 and print it. Did it print in the same order as plain?"
   ]
  },
  {
   "cell_type": "code",
   "execution_count": 4,
   "id": "ee0276d4",
   "metadata": {},
   "outputs": [],
   "source": [
    "from collections import OrderedDict"
   ]
  },
  {
   "cell_type": "code",
   "execution_count": 11,
   "id": "b6d5ec7c",
   "metadata": {},
   "outputs": [],
   "source": [
    "fancy = OrderedDict([('b', 2), ('a', 1), ('c', 3)])"
   ]
  },
  {
   "cell_type": "code",
   "execution_count": 12,
   "id": "a711eee8",
   "metadata": {},
   "outputs": [
    {
     "data": {
      "text/plain": [
       "OrderedDict([('b', 2), ('a', 1), ('c', 3)])"
      ]
     },
     "execution_count": 12,
     "metadata": {},
     "output_type": "execute_result"
    }
   ],
   "source": [
    "fancy "
   ]
  },
  {
   "cell_type": "raw",
   "id": "db7d79ae",
   "metadata": {},
   "source": [
    "# both OrderedDict and regular dictionary are returning the values in same order."
   ]
  },
  {
   "cell_type": "raw",
   "id": "af7faeb6",
   "metadata": {},
   "source": [
    "# 7. Make a default dictionary called dict_of_lists and pass it the argument list. Make the list dict_of_lists['a'] and append the value 'something for a' to it in one assignment. Print dict_of_lists['a']."
   ]
  },
  {
   "cell_type": "code",
   "execution_count": 14,
   "id": "8aa591a7",
   "metadata": {},
   "outputs": [],
   "source": [
    "from collections import defaultdict"
   ]
  },
  {
   "cell_type": "code",
   "execution_count": 15,
   "id": "5896211c",
   "metadata": {},
   "outputs": [],
   "source": [
    "dict_of_lists = defaultdict(list)"
   ]
  },
  {
   "cell_type": "code",
   "execution_count": 17,
   "id": "d11fb4f2",
   "metadata": {},
   "outputs": [],
   "source": [
    " dict_of_lists['a'].append('something for a')"
   ]
  },
  {
   "cell_type": "code",
   "execution_count": 18,
   "id": "4ce36dbd",
   "metadata": {},
   "outputs": [
    {
     "data": {
      "text/plain": [
       "defaultdict(list, {'a': ['something for a']})"
      ]
     },
     "execution_count": 18,
     "metadata": {},
     "output_type": "execute_result"
    }
   ],
   "source": [
    "dict_of_lists"
   ]
  },
  {
   "cell_type": "code",
   "execution_count": null,
   "id": "aa8d5d13",
   "metadata": {},
   "outputs": [],
   "source": [
    "dict_of_lists['a']"
   ]
  }
 ],
 "metadata": {
  "kernelspec": {
   "display_name": "Python 3 (ipykernel)",
   "language": "python",
   "name": "python3"
  },
  "language_info": {
   "codemirror_mode": {
    "name": "ipython",
    "version": 3
   },
   "file_extension": ".py",
   "mimetype": "text/x-python",
   "name": "python",
   "nbconvert_exporter": "python",
   "pygments_lexer": "ipython3",
   "version": "3.9.7"
  }
 },
 "nbformat": 4,
 "nbformat_minor": 5
}
