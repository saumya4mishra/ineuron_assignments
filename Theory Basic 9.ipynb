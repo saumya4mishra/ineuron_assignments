{
 "cells": [
  {
   "cell_type": "raw",
   "id": "e252642a",
   "metadata": {},
   "source": [
    "'''\n",
    "1. To what does a relative path refer?\n",
    "\n",
    "Relative path means the path of a certain file relative to the current working directory.\n",
    "For example, if the current working directory is C:\\PythonProjects\\Tutorials, \n",
    "\n",
    "the path.py file’s relative path would be \n",
    "\n",
    "Paths\\paths.py\n",
    "'''"
   ]
  },
  {
   "cell_type": "raw",
   "id": "d9e88dff",
   "metadata": {},
   "source": [
    "'''\n",
    "2. What does an absolute path start with your operating system?\n",
    "\n",
    "An absolute path refers to the complete details needed to locate a file or folder, starting from the root element and ending with the other subdirectories. therefore, absolute path starts with / since / represents root of the current drive.\n",
    "'''"
   ]
  },
  {
   "cell_type": "raw",
   "id": "7fb744a1",
   "metadata": {},
   "source": [
    "'''\n",
    "3. What do the functions os.getcwd() and os.chdir() do?\n",
    "\n",
    "To find the current working directory in Python, use os.getcwd(), and to change the current working directory, use os.chdir(path).\n",
    "'''"
   ]
  },
  {
   "cell_type": "raw",
   "id": "6f2ca82a",
   "metadata": {},
   "source": [
    "'''\n",
    "4. What are the . and .. folders?\n",
    "\n",
    "/ is the root of the current drive;\n",
    "./ is the current directory;\n",
    "../ is the parent of the current directory.\n",
    "\n",
    "'''"
   ]
  },
  {
   "cell_type": "raw",
   "id": "7ac41ffc",
   "metadata": {},
   "source": [
    "'''\n",
    "5. In C:\\bacon\\eggs\\spam.txt, which part is the dir name, and which part is the base name?\n",
    "\n",
    "C:\\bacon\\eggs is the dir name, while spam.txt is the base name.\n",
    "'''"
   ]
  },
  {
   "cell_type": "raw",
   "id": "58a44d0b",
   "metadata": {},
   "source": [
    "'''\n",
    "6. What are the three “mode” arguments that can be passed to the open() function?\n",
    "\n",
    "* r: Opens the file in read-only mode. Starts reading from the beginning of the file and is the default mode for the open() function.\n",
    "* w: Opens in write-only mode.\n",
    "* ab: Opens a file for appending in binary mode\n",
    "\n",
    "'''"
   ]
  },
  {
   "cell_type": "raw",
   "id": "cfb78f1e",
   "metadata": {},
   "source": [
    "'''\n",
    "7. What happens if an existing file is opened in write mode?\n",
    "\n",
    "When mode “w” is specified, it creates an empty file for output operations.\n",
    "If a file with the same name already exists, its contents are discarded and the file is treated as a new empty file.\n",
    "\n",
    "'''"
   ]
  },
  {
   "cell_type": "raw",
   "id": "4374997c",
   "metadata": {},
   "source": [
    "'''\n",
    "8. How do you tell the difference between read() and readlines()?\n",
    "\n",
    "read() will read the whole file at once and then print out the first characters\n",
    "readline() that will read and print out only the first characters \n",
    "'''"
   ]
  },
  {
   "cell_type": "code",
   "execution_count": 1,
   "id": "4f8033a8",
   "metadata": {},
   "outputs": [],
   "source": [
    "'''\n",
    "9. What data structure does a shelf value resemble?\n",
    "\n",
    "A shelf value resembles a dictionary value; it has keys and values, along with keys() and values() methods that work similarly to the dictionary methods of the same names\n",
    "'''\n",
    "\n",
    "import shelve\n",
    "sh = shelve.open(\"student\")\n",
    "sh['name'] = \"Prachee\"\n",
    "sh['age'] = 21\n",
    "sh['marks'] = 95\n",
    "sh.close()"
   ]
  },
  {
   "cell_type": "code",
   "execution_count": 2,
   "id": "d99a693c",
   "metadata": {},
   "outputs": [
    {
     "data": {
      "text/plain": [
       "21"
      ]
     },
     "execution_count": 2,
     "metadata": {},
     "output_type": "execute_result"
    }
   ],
   "source": [
    "sh=shelve.open('student')\n",
    "sh['age']"
   ]
  },
  {
   "cell_type": "code",
   "execution_count": null,
   "id": "8aadb888",
   "metadata": {},
   "outputs": [],
   "source": []
  }
 ],
 "metadata": {
  "kernelspec": {
   "display_name": "Python 3 (ipykernel)",
   "language": "python",
   "name": "python3"
  },
  "language_info": {
   "codemirror_mode": {
    "name": "ipython",
    "version": 3
   },
   "file_extension": ".py",
   "mimetype": "text/x-python",
   "name": "python",
   "nbconvert_exporter": "python",
   "pygments_lexer": "ipython3",
   "version": "3.9.7"
  }
 },
 "nbformat": 4,
 "nbformat_minor": 5
}
