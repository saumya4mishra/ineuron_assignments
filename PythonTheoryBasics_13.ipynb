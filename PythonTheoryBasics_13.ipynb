{
 "cells": [
  {
   "cell_type": "raw",
   "id": "7ad4961d",
   "metadata": {},
   "source": [
    "# 1. What advantages do Excel spreadsheets have over CSV spreadsheets?\n",
    "In Excel, spreadsheets can have values of data types other than strings; cells can have different fonts, sizes, or color settings; cells can have varying widths and heights; adjacent cells can be merged; and you can embed images and charts."
   ]
  },
  {
   "cell_type": "raw",
   "id": "61440b02",
   "metadata": {},
   "source": [
    "# 2.What do you pass to csv.reader() and csv.writer() to create reader and writer objects?\n",
    "You pass a File object, obtained from a call to open()."
   ]
  },
  {
   "cell_type": "raw",
   "id": "80181dff",
   "metadata": {},
   "source": [
    "# 3. What modes do File objects for reader and writer objects need to be opened in?\n",
    " File objects need to be opened in read-binary ('rb') for reader objects and write-binary ('wb') for writer objects."
   ]
  },
  {
   "cell_type": "raw",
   "id": "2ec69722",
   "metadata": {},
   "source": [
    "# 4. What method takes a list argument and writes it to a CSV file?\n",
    "\n",
    "The writerow() method"
   ]
  },
  {
   "cell_type": "raw",
   "id": "2dcce855",
   "metadata": {},
   "source": [
    "# 5. What do the keyword arguments delimiter and line terminator do?\n",
    "\n",
    "The delimiter argument changes the string used to separate cells in a row. The lineterminator argument changes the string used to separate rows."
   ]
  },
  {
   "cell_type": "raw",
   "id": "71a28139",
   "metadata": {},
   "source": [
    "# 6. What function takes a string of JSON data and returns a Python data structure?\n",
    "\n",
    "json.loads()\n"
   ]
  },
  {
   "cell_type": "code",
   "execution_count": 2,
   "id": "533b5a34",
   "metadata": {},
   "outputs": [
    {
     "name": "stdout",
     "output_type": "stream",
     "text": [
      "{'id': '09', 'name': 'Nitin', 'department': 'Finance'}\n"
     ]
    }
   ],
   "source": [
    "import json\n",
    "# JSON string\n",
    "employee = '{\"id\":\"09\", \"name\": \"Nitin\", \"department\":\"Finance\"}'\n",
    "  \n",
    "# Convert string to Python dict\n",
    "employee_dict = json.loads(employee)\n",
    "print(employee_dict)"
   ]
  },
  {
   "cell_type": "raw",
   "id": "ad34d081",
   "metadata": {},
   "source": [
    "# 7. What function takes a Python data structure and returns a string of JSON data?\n",
    "\n",
    "json.dumps()\n"
   ]
  },
  {
   "cell_type": "code",
   "execution_count": 3,
   "id": "9de97da6",
   "metadata": {},
   "outputs": [
    {
     "name": "stdout",
     "output_type": "stream",
     "text": [
      "{\n",
      "    \"id\": \"09\",\n",
      "    \"name\": \"Nitin\",\n",
      "    \"department\": \"Finance\"\n",
      "}\n",
      "<class 'str'>\n"
     ]
    }
   ],
   "source": [
    "json_object = json.dumps(employee_dict, indent=4)\n",
    "print(json_object)\n",
    "print(type(json_object))"
   ]
  },
  {
   "cell_type": "code",
   "execution_count": null,
   "id": "7b757349",
   "metadata": {},
   "outputs": [],
   "source": []
  }
 ],
 "metadata": {
  "kernelspec": {
   "display_name": "Python 3 (ipykernel)",
   "language": "python",
   "name": "python3"
  },
  "language_info": {
   "codemirror_mode": {
    "name": "ipython",
    "version": 3
   },
   "file_extension": ".py",
   "mimetype": "text/x-python",
   "name": "python",
   "nbconvert_exporter": "python",
   "pygments_lexer": "ipython3",
   "version": "3.9.7"
  }
 },
 "nbformat": 4,
 "nbformat_minor": 5
}
