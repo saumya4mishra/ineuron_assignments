{
 "cells": [
  {
   "cell_type": "raw",
   "id": "a9f19c05",
   "metadata": {},
   "source": [
    "# Q1. What is the meaning of multiple inheritance?"
   ]
  },
  {
   "cell_type": "raw",
   "id": "cee85d79",
   "metadata": {},
   "source": [
    "When a class is derived from more than one base class it is called multiple Inheritance. The derived class inherits all the features of the base case."
   ]
  },
  {
   "cell_type": "raw",
   "id": "3c0fbb44",
   "metadata": {},
   "source": [
    "# Q2. What is the concept of delegation?"
   ]
  },
  {
   "cell_type": "raw",
   "id": "eab9fbff",
   "metadata": {},
   "source": [
    "the delegation pattern is an object-oriented design pattern that allows object composition to achieve the same code reuse as inheritance. delegation design pattern achieves the same task by using __getattr__() function which gets called when a non existent attribute or method is called from an object.\n",
    "\n",
    "class Microwave:\n",
    "  def __init__(self):\n",
    "    pass\n",
    "\n",
    "  def heat_up_food(self):\n",
    "    print(\"Food is being microwaved\")\n",
    "\n",
    "class Dishwasher:\n",
    "  def __init__(self):\n",
    "    pass\n",
    "\n",
    "  def wash_dishes(self):\n",
    "    print(\"Dishwasher starting\")\n",
    "\n",
    "class Kitchen:\n",
    "  def __init__(self):\n",
    "    self.microwave = Microwave()\n",
    "    self.dishwasher = Dishwasher()\n",
    "    self.microwave_methods = [f for f in dir(Microwave) if not f.startswith('_')]\n",
    "    self.dishwasher_methods = [f for f in dir(Dishwasher) if not f.startswith('_')]\n",
    "  \n",
    "  \n",
    "  def __getattr__(self, func):\n",
    "    def method(*args):\n",
    "      if func in self.microwave_methods:\n",
    "        return getattr(self.microwave, func)(*args)\n",
    "      elif func in self.dishwasher_methods:\n",
    "        return getattr(self.dishwasher, func)(*args)\n",
    "      else:\n",
    "        raise AttributeError\n",
    "    return method\n",
    "\n",
    ">>> from kitchen import *\n",
    ">>> kitchen = Kitchen()\n",
    ">>> kitchen.heat_up_food()\n",
    "Food is being microwaved\n",
    ">>> kitchen.wash_dishes()\n",
    "Dishwasher is starting\n",
    "\n",
    "\n"
   ]
  },
  {
   "cell_type": "raw",
   "id": "c61e9269",
   "metadata": {},
   "source": [
    "# Q3. What is the concept of composition?"
   ]
  },
  {
   "cell_type": "raw",
   "id": "5cbeba15",
   "metadata": {},
   "source": [
    "It is one of the fundamental concepts of Object-Oriented Programming. A class that references to one or more objects of other classes as an Instance variable. Here, by using the class name or by creating the object we can access the members of one class inside another class. It enables creating complex types by combining objects of different classes. It means that a class Composite can contain an object of another class Component. This type of relationship is known as Has-A Relation.\n",
    "\n",
    "class Microwave:\n",
    "  def __init__(self):\n",
    "    pass\n",
    "\n",
    "  def heat_up_food(self):\n",
    "    print(\"Food is being microwaved\")\n",
    "\n",
    "class Dishwasher:\n",
    "  def __init__(self):\n",
    "    pass\n",
    "\n",
    "  def wash_dishes(self):\n",
    "    print(\"Dishwasher starting\")\n",
    "\n",
    "class Kitchen:\n",
    "  def __init__(self):\n",
    "    self.microwave = Microwave()\n",
    "    self.dishwasher = Dishwasher()\n",
    "    \n",
    "\n",
    "\n"
   ]
  },
  {
   "cell_type": "raw",
   "id": "73055f6c",
   "metadata": {},
   "source": [
    "# Q4. What are bound methods and how do we use them?"
   ]
  },
  {
   "cell_type": "raw",
   "id": "9d183afd",
   "metadata": {},
   "source": [
    "A bound method is the one which is dependent on the instance of the class as the first argument. It passes the instance as the first argument which is used to access the variables and functions. All functions in the class are by default bound methods."
   ]
  },
  {
   "cell_type": "raw",
   "id": "71ac489d",
   "metadata": {},
   "source": [
    "class Sample:\n",
    "    def fun(self, some_value):\n",
    "        self.some_value = some_value\n",
    "    \n",
    "s = Sample()\n",
    "\n",
    "print(s.fun)"
   ]
  },
  {
   "cell_type": "raw",
   "id": "2ed02882",
   "metadata": {},
   "source": [
    "# Q5. What is the purpose of pseudoprivate attributes?"
   ]
  },
  {
   "cell_type": "raw",
   "id": "c4d80ce8",
   "metadata": {},
   "source": [
    "In Python, there is no concept of \"private\" as such. When naming properties and methods at the level, some special processing is actually done to the name, making it inaccessible to the outside world. "
   ]
  },
  {
   "cell_type": "code",
   "execution_count": 1,
   "id": "9d912b8a",
   "metadata": {},
   "outputs": [
    {
     "name": "stdout",
     "output_type": "stream",
     "text": [
      "1\n",
      "2\n",
      "4\n"
     ]
    }
   ],
   "source": [
    "class Test:\n",
    "    def __init__(self, a, b, c, d):\n",
    "        self.__a = a # __ means pseudo private variable\n",
    "        self.b = b\n",
    "        self.c = c\n",
    "        self.d = d\n",
    "\n",
    "    def custom(self, v):\n",
    "        return v - self.__a\n",
    "\n",
    "t = Test(1,2,3,4)    \n",
    "print(t._Test__a) # this is the way to access Pseudo private  attribute\n",
    "print(t.b)\n",
    "print(t.custom(5))"
   ]
  },
  {
   "cell_type": "code",
   "execution_count": null,
   "id": "d5e306d6",
   "metadata": {},
   "outputs": [],
   "source": []
  }
 ],
 "metadata": {
  "kernelspec": {
   "display_name": "Python 3 (ipykernel)",
   "language": "python",
   "name": "python3"
  },
  "language_info": {
   "codemirror_mode": {
    "name": "ipython",
    "version": 3
   },
   "file_extension": ".py",
   "mimetype": "text/x-python",
   "name": "python",
   "nbconvert_exporter": "python",
   "pygments_lexer": "ipython3",
   "version": "3.9.7"
  }
 },
 "nbformat": 4,
 "nbformat_minor": 5
}
