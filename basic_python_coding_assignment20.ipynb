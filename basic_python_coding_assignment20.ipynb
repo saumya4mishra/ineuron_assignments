{
 "cells": [
  {
   "cell_type": "code",
   "execution_count": 2,
   "id": "5fc561f6",
   "metadata": {},
   "outputs": [
    {
     "name": "stdout",
     "output_type": "stream",
     "text": [
      "[1, 2, 3, 4]\n"
     ]
    }
   ],
   "source": [
    "#Create a function that takes a list of strings and integers, and filters out the list so that it \n",
    "#returns a list of integers only\n",
    "\n",
    "def integ( lst ):\n",
    "    \n",
    "    lst2 = []\n",
    "    for i in lst:\n",
    "        if type(i) == int:\n",
    "            lst2.append(i)\n",
    "    \n",
    "    return lst2\n",
    "\n",
    "lst = [1, 2, 3, \"a\", \"b\", 4]\n",
    "int_list = integ(lst)\n",
    "print(int_list)"
   ]
  },
  {
   "cell_type": "code",
   "execution_count": 4,
   "id": "f000e925",
   "metadata": {},
   "outputs": [
    {
     "name": "stdout",
     "output_type": "stream",
     "text": [
      "[0, 1, 2, 3, 4]\n"
     ]
    }
   ],
   "source": [
    "#Given a list of numbers, create a function which returns the list but with each element's\n",
    "#index in the list added to itself. This means you add 0 to the number at index 0, add 1 to the number at index 1, etc..\n",
    "def numind(lst):\n",
    "    \n",
    "    lst1 = []\n",
    "    for ind, elem in enumerate(lst):\n",
    "        a = ind\n",
    "        b = elem\n",
    "        sum = a + b\n",
    "        lst1.append(sum)\n",
    "        # sum = a = b = 0\n",
    "        \n",
    "    return lst1\n",
    "        \n",
    "print(numind([0,0,0,0,0]))\n"
   ]
  },
  {
   "cell_type": "code",
   "execution_count": 5,
   "id": "67ffa2a9",
   "metadata": {},
   "outputs": [
    {
     "name": "stdout",
     "output_type": "stream",
     "text": [
      "12.56636\n"
     ]
    }
   ],
   "source": [
    "#Create a function that takes the height and radius of a cone as arguments and returns the volume of the cone rounded to the\n",
    "#nearest hundredth. See the resources tab for the formula.\n",
    "def volcone(height, radius):\n",
    "    \n",
    "    volume = (3.14159) * (radius ** 2) * ((height) / 3)\n",
    "    return volume\n",
    "    \n",
    "print(volcone(3, 2))\n"
   ]
  },
  {
   "cell_type": "code",
   "execution_count": 7,
   "id": "46b9841d",
   "metadata": {},
   "outputs": [
    {
     "name": "stdout",
     "output_type": "stream",
     "text": [
      "6\n"
     ]
    }
   ],
   "source": [
    "#This Triangular Number Sequence is generated from a pattern of dots that form a triangle. The first 5 numbers of the\n",
    "#sequence, or dots, are:\n",
    "\n",
    "def triangle_seq(num):\n",
    "    sum = 0\n",
    "    while num > 0:\n",
    "        sum = sum + num\n",
    "        num = num - 1\n",
    "    return sum\n",
    "\n",
    "print(triangle_seq(3))\n",
    "\n"
   ]
  },
  {
   "cell_type": "code",
   "execution_count": 8,
   "id": "1738dabc",
   "metadata": {},
   "outputs": [
    {
     "name": "stdout",
     "output_type": "stream",
     "text": [
      "5\n"
     ]
    }
   ],
   "source": [
    "#Create a function that takes a list of numbers between 1 and 10 (excluding one number) and returns the missing number.\n",
    "def missing(lst):\n",
    "    lst.sort()\n",
    "    for i in range(1, 11):\n",
    "        if i in lst:\n",
    "            pass\n",
    "        else:\n",
    "            return i\n",
    "            \n",
    "print(missing([1, 2, 3, 4, 6, 7, 8, 9, 10]))\n"
   ]
  }
 ],
 "metadata": {
  "kernelspec": {
   "display_name": "Python 3 (ipykernel)",
   "language": "python",
   "name": "python3"
  },
  "language_info": {
   "codemirror_mode": {
    "name": "ipython",
    "version": 3
   },
   "file_extension": ".py",
   "mimetype": "text/x-python",
   "name": "python",
   "nbconvert_exporter": "python",
   "pygments_lexer": "ipython3",
   "version": "3.9.7"
  }
 },
 "nbformat": 4,
 "nbformat_minor": 5
}
