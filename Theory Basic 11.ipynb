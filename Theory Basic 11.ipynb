{
 "cells": [
  {
   "cell_type": "raw",
   "id": "71428d0e",
   "metadata": {},
   "source": [
    "\"\"\"\n",
    "1. Create an assert statement that throws an AssertionError if the variable spam is a negative integer.\n",
    "\"\"\"\n",
    "#Answer\n",
    "try:\n",
    "    num = int(input(\"Enter the number : \"))\n",
    "    assert num >=0\n",
    "    print(\"Entered number is positive\")\n",
    "except AssertionError:\n",
    "    print(\"Enter the positive number\")"
   ]
  },
  {
   "cell_type": "raw",
   "id": "8bad3d86",
   "metadata": {},
   "source": [
    "\"\"\"\n",
    "2. Write an assert statement that triggers an AssertionError if the variables eggs and bacon contain strings that are the same as each other, even if their cases are different (that is, 'hello' and 'hello' are considered the same, and 'goodbye' and 'GOODbye' are also considered the same).\n",
    "\"\"\"\n",
    "#Answer\n",
    "try:\n",
    "    eggs = input(\"Enter the string 1 : \")\n",
    "    bacon = input(\"Enter the string 2 : \")\n",
    "    assert eggs.lower == bacon.lower() or eggs.upper == bacon.upper()\n",
    "except AssertionError:\n",
    "    print(\"It has an error\")\n",
    "    "
   ]
  },
  {
   "cell_type": "raw",
   "id": "9c55e62f",
   "metadata": {},
   "source": [
    "\"\"\"\n",
    "3. Create an assert statement that throws an AssertionError every time.\n",
    "\"\"\"\n",
    "#Answer\n",
    "try:\n",
    "    assert False\n",
    "except AssertionError:\n",
    "    print(\"It has a error\")"
   ]
  },
  {
   "cell_type": "raw",
   "id": "6ee83bad",
   "metadata": {},
   "source": [
    "\"\"\"\n",
    "4. What are the two lines that must be present in your software in order to call logging.debug()?\n",
    "\"\"\"\n",
    "#Answer\n",
    "\"\"\"\n",
    "1. import logging\n",
    "2. logging.basicconfig(filename='app.log', filemode='w', format='%(name)s - %(levelname)s - %(message)s')\n",
    "   logging.warning('This will get logged to a file')\n",
    "\"\"\"\n"
   ]
  },
  {
   "cell_type": "raw",
   "id": "c822824a",
   "metadata": {},
   "source": [
    "\"\"\"\n",
    "5. What are the two lines that your program must have in order to have logging.debug() send a logging message to a file named programLog.txt?\n",
    "\"\"\"\n",
    "#Answer\n",
    "\"\"\"\n",
    "1. import logging\n",
    "2. logging.basicconfig(filename='programLog.txt', filemode='w', format='%(name)s - %(levelname)s - %(message)s')\n",
    "   logging.warning('This will get logged to a file')\n",
    "\"\"\""
   ]
  },
  {
   "cell_type": "raw",
   "id": "9754a3b3",
   "metadata": {},
   "source": [
    "\"\"\"\n",
    "6. What are the five levels of logging?\n",
    "\"\"\"\n",
    "#Answer\n",
    "\"\"\"\n",
    "1. DEBUG\n",
    "2. INFO\n",
    "3. WARNING\n",
    "4. ERROR\n",
    "5. CRITICAL\n",
    "\"\"\""
   ]
  },
  {
   "cell_type": "raw",
   "id": "1707750c",
   "metadata": {},
   "source": [
    "\"\"\"\n",
    "7. What line of code would you add to your software to disable all logging messages?\n",
    "\"\"\"\n",
    "#Answer\n",
    "\"\"\"\n",
    "logger = logging.getLogger()\n",
    "logger.disabled = True\n",
    "\n",
    "\"\"\""
   ]
  },
  {
   "cell_type": "raw",
   "id": "d4ba1176",
   "metadata": {},
   "source": [
    "\"\"\"\n",
    "8.Why is using logging messages better than using print() to display the same message?\n",
    "\"\"\"\n",
    "#Answer\n",
    "\"\"\"\n",
    "It is the way to display useful message to the user of your code about thing that would add more context to the user in understanding what is happening in the code\n",
    "\"\"\"\n"
   ]
  },
  {
   "cell_type": "raw",
   "id": "f9b6885e",
   "metadata": {},
   "source": [
    "\"\"\"\n",
    "9. What are the differences between the Step Over, Step In, and Step Out buttons in the debugger?\n",
    "\"\"\"\n",
    "#Answer\n",
    "\"\"\"\n",
    "a) Step over : An action to take in the debugger that will step over a given line. If the line contains a function the function will ve executed and the result returned without debugging each line\n",
    "b) Step into : An action to take in the debugger if the line does not contain a function it behaves the same as \"step over\" but if is does the debugger will enter the called function and continue line-by-line debugging\n",
    "c) Step out :  An action to take in the debugger that returns to the line where the current function was called.\n",
    "\"\"\""
   ]
  },
  {
   "cell_type": "raw",
   "id": "dfaf60d8",
   "metadata": {},
   "source": [
    "\"\"\"\n",
    "10.After you click Continue, when will the debugger stop ?\n",
    "\"\"\"\n",
    "#Answer\n",
    "\"\"\"\n",
    "Continue - An action to take in the debugger that will continue execution until the next breakpoint is reached or the program exits.\n",
    "\"\"\""
   ]
  },
  {
   "cell_type": "raw",
   "id": "270707ea",
   "metadata": {},
   "source": [
    "\"\"\"\n",
    "11. What is the concept of a breakpoint?\n",
    "\"\"\"\n",
    "#Answer\n",
    "\"\"\"\n",
    "Breakpoint - A line number of interest in your program. When the debugger is runnin it halts execution of the program at any line\n",
    "\"\"\""
   ]
  }
 ],
 "metadata": {
  "kernelspec": {
   "display_name": "Python 3 (ipykernel)",
   "language": "python",
   "name": "python3"
  },
  "language_info": {
   "codemirror_mode": {
    "name": "ipython",
    "version": 3
   },
   "file_extension": ".py",
   "mimetype": "text/x-python",
   "name": "python",
   "nbconvert_exporter": "python",
   "pygments_lexer": "ipython3",
   "version": "3.9.7"
  }
 },
 "nbformat": 4,
 "nbformat_minor": 5
}
