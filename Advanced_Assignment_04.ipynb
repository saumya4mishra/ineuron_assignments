{
 "cells": [
  {
   "cell_type": "code",
   "execution_count": 4,
   "id": "74472cee",
   "metadata": {},
   "outputs": [
    {
     "data": {
      "text/plain": [
       "55"
      ]
     },
     "execution_count": 4,
     "metadata": {},
     "output_type": "execute_result"
    }
   ],
   "source": [
    "# 1. The function fastFib(num) returns the fibonacci number Fn, of the given num as an argument.\n",
    "def fib_fast(num):\n",
    "    x = 0\n",
    "    y = 1\n",
    "    if num == 1:\n",
    "        return x\n",
    "    elif num == 2:\n",
    "        return y\n",
    "    else:\n",
    "        for n in range(3,num+2):\n",
    "            z = x+y\n",
    "            x,y = y,z\n",
    "        return z\n",
    "fib_fast(10)    "
   ]
  },
  {
   "cell_type": "code",
   "execution_count": 3,
   "id": "995d323a",
   "metadata": {},
   "outputs": [
    {
     "name": "stdout",
     "output_type": "stream",
     "text": [
      "104\n",
      "0x68\n",
      "101\n",
      "0x65\n",
      "108\n",
      "0x6c\n",
      "108\n",
      "0x6c\n",
      "111\n",
      "0x6f\n",
      "32\n",
      "0x20\n",
      "119\n",
      "0x77\n",
      "111\n",
      "0x6f\n",
      "114\n",
      "0x72\n",
      "108\n",
      "0x6c\n",
      "100\n",
      "0x64\n"
     ]
    },
    {
     "data": {
      "text/plain": [
       "'68 65 6c 6c 6f 20 77 6f 72 6c 64 '"
      ]
     },
     "execution_count": 3,
     "metadata": {},
     "output_type": "execute_result"
    }
   ],
   "source": [
    "# 2. Create a function that takes a strings characters as ASCII and returns each characters hexadecimal value as a string.\n",
    "def convert_to_hex(str1):\n",
    "    out = ''\n",
    "    for i in range(len(str1)):\n",
    "        ch = str1[i]\n",
    "        intg = ord(ch)\n",
    "        hexa = hex(intg)\n",
    "        out += hexa[2:] + ' '\n",
    "    return out\n",
    "convert_to_hex(\"hello world\") "
   ]
  },
  {
   "cell_type": "code",
   "execution_count": 14,
   "id": "432ea211",
   "metadata": {},
   "outputs": [
    {
     "data": {
      "text/plain": [
       "'Where did my vowels go?'"
      ]
     },
     "execution_count": 14,
     "metadata": {},
     "output_type": "execute_result"
    }
   ],
   "source": [
    "# 3. Someone has attempted to censor my strings by replacing every vowel with a *, l*k* th*s. \n",
    "# Luckily, I've been able to find the vowels that were removed.\n",
    "# Given a censored string and a string of the censored vowels, return the original uncensored string.\n",
    "def uncensor(str1, str2):\n",
    "    out = ''\n",
    "    count = 0\n",
    "    for i in range(len(str1)):\n",
    "        if str1[i] == '*':\n",
    "            out += str2[count]\n",
    "            count += 1\n",
    "        else:\n",
    "            out += str1[i]\n",
    "    return out\n",
    "uncensor(\"Wh*r* d*d my v*w*ls g*?\", \"eeioeo\") "
   ]
  },
  {
   "cell_type": "code",
   "execution_count": 48,
   "id": "03076a79",
   "metadata": {},
   "outputs": [],
   "source": [
    "\n",
    "# 4. Write a function that takes an IP address and returns the domain name using PTR DNS records.\n",
    "import socket\n",
    "def get_domain(IP):\n",
    "    x = socket.gethostbyaddr(IP)\n",
    "    return x[0]\n",
    "get_domain(\"8.8.8.8\")"
   ]
  },
  {
   "cell_type": "code",
   "execution_count": 10,
   "id": "4686ffc8",
   "metadata": {},
   "outputs": [
    {
     "data": {
      "text/plain": [
       "34560"
      ]
     },
     "execution_count": 10,
     "metadata": {},
     "output_type": "execute_result"
    }
   ],
   "source": [
    "# 5. Create a function that takes an integer n and returns the factorial of factorials.\n",
    "def fact_of_fact(num):\n",
    "    fact = 1\n",
    "    if num == 0:\n",
    "        return 1\n",
    "    else:\n",
    "        for i in range(1,num+1):\n",
    "            for j in range(1,i+1):\n",
    "                fact *= j\n",
    "        return fact\n",
    "fact_of_fact(5)"
   ]
  },
  {
   "cell_type": "code",
   "execution_count": null,
   "id": "c6de11d3",
   "metadata": {},
   "outputs": [],
   "source": []
  }
 ],
 "metadata": {
  "kernelspec": {
   "display_name": "Python 3 (ipykernel)",
   "language": "python",
   "name": "python3"
  },
  "language_info": {
   "codemirror_mode": {
    "name": "ipython",
    "version": 3
   },
   "file_extension": ".py",
   "mimetype": "text/x-python",
   "name": "python",
   "nbconvert_exporter": "python",
   "pygments_lexer": "ipython3",
   "version": "3.9.7"
  }
 },
 "nbformat": 4,
 "nbformat_minor": 5
}
