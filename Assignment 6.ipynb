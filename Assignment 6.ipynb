{
 "cells": [
  {
   "cell_type": "code",
   "execution_count": 3,
   "id": "9d6320a3",
   "metadata": {},
   "outputs": [
    {
     "name": "stdout",
     "output_type": "stream",
     "text": [
      "0 1 1 2 3 5 "
     ]
    }
   ],
   "source": [
    "\"\"\"1. Write a Python Program to Display Fibonacci Sequence Using Recursion?\"\"\"\n",
    "\n",
    "def feb_rec(num, x=0, y=1):\n",
    "    if num ==0:\n",
    "        return\n",
    "    \n",
    "    print(x, end=\" \")\n",
    "    feb_rec(num-1,y,x+y)\n",
    "\n",
    "        \n",
    "feb_rec(6)\n",
    "\n"
   ]
  },
  {
   "cell_type": "code",
   "execution_count": 4,
   "id": "5df2c094",
   "metadata": {},
   "outputs": [
    {
     "name": "stdout",
     "output_type": "stream",
     "text": [
      "120\n"
     ]
    }
   ],
   "source": [
    "\"\"\"2. Write a Python Program to Find Factorial of Number Using Recursion?\"\"\"\n",
    "def fact(n):\n",
    "    if n==1:\n",
    "        return 1\n",
    "    else:\n",
    "        return n * fact(n-1)\n",
    "print(fact(5))\n"
   ]
  },
  {
   "cell_type": "code",
   "execution_count": 5,
   "id": "fd1d9291",
   "metadata": {},
   "outputs": [
    {
     "name": "stdout",
     "output_type": "stream",
     "text": [
      "0.025\n"
     ]
    }
   ],
   "source": [
    "\"\"\"3. Write a Python Program to calculate your Body Mass Index?\"\"\"\n",
    "def body_mass_index(a,b):\n",
    "    bmi=a/(b**2)\n",
    "    return bmi\n",
    "\n",
    "print(body_mass_index(10, 20))\n"
   ]
  },
  {
   "cell_type": "code",
   "execution_count": 32,
   "id": "a8126590",
   "metadata": {},
   "outputs": [
    {
     "name": "stdout",
     "output_type": "stream",
     "text": [
      "Enter the number : 5\n",
      "1.6096048031347887\n"
     ]
    }
   ],
   "source": [
    "\"\"\"4. Write a Python Program to calculate the natural logarithm of any number?\"\"\"\n",
    "import math\n",
    "a = int(input(\"Enter the number : \"))\n",
    "num = math.log(a,2.718)\n",
    "print(num)"
   ]
  },
  {
   "cell_type": "code",
   "execution_count": 26,
   "id": "71146281",
   "metadata": {},
   "outputs": [
    {
     "name": "stdout",
     "output_type": "stream",
     "text": [
      "Enter the number : 10\n",
      "3025\n"
     ]
    }
   ],
   "source": [
    "\"\"\"5. Write a Python Program for cube sum of first n natural numbers?\"\"\"\n",
    "def cubic_sum(n):\n",
    "    num = 0\n",
    "    for i in range(1,n+1): \n",
    "        num += i*i*i\n",
    "    return num\n",
    "a=int(input(\"Enter the number : \"))\n",
    "print(cubic_sum(a))"
   ]
  },
  {
   "cell_type": "code",
   "execution_count": null,
   "id": "2afecf9d",
   "metadata": {},
   "outputs": [],
   "source": []
  }
 ],
 "metadata": {
  "kernelspec": {
   "display_name": "Python 3 (ipykernel)",
   "language": "python",
   "name": "python3"
  },
  "language_info": {
   "codemirror_mode": {
    "name": "ipython",
    "version": 3
   },
   "file_extension": ".py",
   "mimetype": "text/x-python",
   "name": "python",
   "nbconvert_exporter": "python",
   "pygments_lexer": "ipython3",
   "version": "3.9.7"
  }
 },
 "nbformat": 4,
 "nbformat_minor": 5
}
