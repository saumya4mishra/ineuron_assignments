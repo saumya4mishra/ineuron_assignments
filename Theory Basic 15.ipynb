{
 "cells": [
  {
   "cell_type": "raw",
   "id": "92a39185",
   "metadata": {},
   "source": [
    "#Question1\n",
    "\"\"\"How many seconds are in an hour? Use the interactive interpreter as a calculator and multiply the number of seconds in a\n",
    "minute (60) by the number of minutes in an hour (also 60).\"\"\"\n",
    "\n",
    "#Answer\n",
    "\n",
    "\"\"\"\n",
    "    60 * 60\n",
    "    \n",
    "\"\"\"\n"
   ]
  },
  {
   "cell_type": "raw",
   "id": "7c69a98e",
   "metadata": {},
   "source": [
    "#Question 2\n",
    "\"\"\"Assign the result from the previous task (seconds in an hour) to a variable called seconds_per_hour.\"\"\"\n",
    "\n",
    "#Answer\n",
    "\n",
    "\"\"\"\n",
    "    seconds_per_hour = 60 * 60\n",
    "\n",
    "\"\"\""
   ]
  },
  {
   "cell_type": "raw",
   "id": "95e53b02",
   "metadata": {},
   "source": [
    "#Question 3\n",
    "\"\"\"How many seconds do you think there are in a day? Make use of the variables seconds per hour and minutes per hour.\"\"\"\n",
    "\n",
    "#Answer\n",
    "\n",
    "\"\"\"\n",
    "    60 *60 * 24\n",
    " \n",
    "\"\"\""
   ]
  },
  {
   "cell_type": "raw",
   "id": "54fcc171",
   "metadata": {},
   "source": [
    "#Question 4\n",
    "\"\"\"Calculate seconds per day again, but this time save the result in a variable called seconds_per_day\"\"\"\n",
    "\n",
    "#Answer\n",
    "\n",
    "\"\"\"\n",
    "    seconds_per_day = 60 * 60 * 24\n",
    "\n",
    "\"\"\""
   ]
  },
  {
   "cell_type": "raw",
   "id": "f6cbd1bc",
   "metadata": {},
   "source": [
    "#Question 5\n",
    "\"\"\"Divide seconds_per_day by seconds_per_hour. Use floating-point (/) division.\"\"\"\n",
    "\n",
    "#Answer\n",
    "\n",
    "\"\"\"\" \n",
    "    seconds_per_day / seconds_per_hour\n",
    "\n",
    "\"\"\"\"\n"
   ]
  },
  {
   "cell_type": "raw",
   "id": "f0b686dd",
   "metadata": {},
   "source": [
    "#Question 6\n",
    "\"\"\"Divide seconds_per_day by seconds_per_hour, using integer (//) division. Did this number agree with the floating-point \n",
    "value from the previous question, aside from the final .0?\"\"\"\n",
    "\n",
    "#Answer\n",
    "\n",
    "\"\"\"\n",
    "econds_per_day // seconds_per_hour\n",
    "\n",
    "Yes, number agree with the floating-point  value from the previous question, aside from the final .0\n",
    "\n",
    "\"\"\"\n",
    "\n"
   ]
  },
  {
   "cell_type": "code",
   "execution_count": 5,
   "id": "78ded0b5",
   "metadata": {},
   "outputs": [
    {
     "data": {
      "text/plain": [
       "2"
      ]
     },
     "execution_count": 5,
     "metadata": {},
     "output_type": "execute_result"
    }
   ],
   "source": [
    "#Question 7\n",
    "\"\"\"Write a generator, genPrimes, that returns the sequence of prime numbers on successive calls to its next()\n",
    "method: 2, 3, 5, 7, 11, ...\"\"\"\n",
    "\n",
    "#Answer\n",
    "\n",
    "def genPrimes(n):\n",
    "    for num in range(0, n+1):\n",
    "        if num > 1:\n",
    "            for i in range(2, num):\n",
    "                if (num % i) == 0:\n",
    "                    break\n",
    "            else:\n",
    "                yield num\n",
    "        else:\n",
    "            pass\n",
    "gen = genPrimes(100)\n",
    "\n"
   ]
  },
  {
   "cell_type": "code",
   "execution_count": 8,
   "id": "c90b5ff1",
   "metadata": {},
   "outputs": [
    {
     "data": {
      "text/plain": [
       "7"
      ]
     },
     "execution_count": 8,
     "metadata": {},
     "output_type": "execute_result"
    }
   ],
   "source": [
    "next(gen)"
   ]
  },
  {
   "cell_type": "code",
   "execution_count": null,
   "id": "543eb388",
   "metadata": {},
   "outputs": [],
   "source": []
  }
 ],
 "metadata": {
  "kernelspec": {
   "display_name": "Python 3 (ipykernel)",
   "language": "python",
   "name": "python3"
  },
  "language_info": {
   "codemirror_mode": {
    "name": "ipython",
    "version": 3
   },
   "file_extension": ".py",
   "mimetype": "text/x-python",
   "name": "python",
   "nbconvert_exporter": "python",
   "pygments_lexer": "ipython3",
   "version": "3.9.7"
  }
 },
 "nbformat": 4,
 "nbformat_minor": 5
}
