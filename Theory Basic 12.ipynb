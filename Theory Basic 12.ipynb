{
 "cells": [
  {
   "cell_type": "raw",
   "id": "a2fa0c8b",
   "metadata": {},
   "source": [
    "\"\"\"\n",
    "1. In what modes should the PdfFileReader() and PdfFileWriter() File objects will be opened?\n",
    "\"\"\"\n",
    "#Answer\n",
    "\"\"\"\n",
    "This files will be opened in binary mode. read binary mode(rb) for PdfFileReader() and write binary mode(wb) for PdfFileWriter()\n",
    "\"\"\"\n"
   ]
  },
  {
   "cell_type": "raw",
   "id": "215c2c40",
   "metadata": {},
   "source": [
    "\"\"\"\n",
    "2. From a PdfFileReader object, how do you get a Page object for page 5?\n",
    "\"\"\"\n",
    "#Answer\n",
    "\"\"\"\n",
    "You can get a Page object by calling the getPage() method. for page 5, we need to pass 4 in getPage() method because for page one we will pass 0\n",
    "\"\"\"\n"
   ]
  },
  {
   "cell_type": "raw",
   "id": "dfebb1c3",
   "metadata": {},
   "source": [
    "\"\"\"\n",
    "3. What PdfFileReader variable stores the number of pages in the PDF document?\n",
    "\"\"\"\n",
    "#Answer\n",
    "\"\"\"\n",
    "The total number of pages in the document is stored in the numPages attribute of a PdfFileReader object \"\"\"\n"
   ]
  },
  {
   "cell_type": "raw",
   "id": "c98311b7",
   "metadata": {},
   "source": [
    "\"\"\"\n",
    "4. If a PdfFileReader object’s PDF is encrypted with the password swordfish, what must you do before you can obtain Page objects from it?\n",
    "\"\"\"\n",
    "#Answer\n",
    "\"\"\"\n",
    "To read an encrypted PDF, call the decrypt() function and pass the password as a string. After you call decrypt() with the correct password, you’ll see that calling getPage() no longer causes an error. \n",
    "\"\"\"\n"
   ]
  },
  {
   "cell_type": "raw",
   "id": "39c94d68",
   "metadata": {},
   "source": [
    "\"\"\"\n",
    "5. What methods do you use to rotate a page?\n",
    "\"\"\"\n",
    "#Answer\n",
    "\"\"\"\n",
    "The pages of a PDF can also be rotated in 90-degree increments with the rotateClockwise() and rotateCounterClockwise() methods. Pass one of the integers 90, 180, or 270 to these methods.\n",
    "\"\"\""
   ]
  },
  {
   "cell_type": "raw",
   "id": "c43b003b",
   "metadata": {},
   "source": [
    "\"\"\"\n",
    "6. What is the difference between a Run object and a Paragraph object?\n",
    "\"\"\"\n",
    "#Answer\n",
    "\"\"\"\n",
    " A Run object is a contiguous run of text with the same style. A new Run object is needed whenever the text style changes.\n",
    " Paragraph objects contains a list of one or more Run objects.\n",
    "\"\"\""
   ]
  },
  {
   "cell_type": "raw",
   "id": "a4460468",
   "metadata": {},
   "source": [
    "\"\"\"\n",
    "7. How do you obtain a list of Paragraph objects for a Document object that’s stored in a variable named doc?\n",
    "\"\"\"\n",
    "#Answer\n",
    "\"\"\"\n",
    "When we call len() on doc.paragraphs, which tells us that there are number of Paragraph objects in this document\n",
    "\"\"\""
   ]
  },
  {
   "cell_type": "raw",
   "id": "fad1988e",
   "metadata": {},
   "source": [
    "\"\"\"\n",
    "8. What type of object has bold, underline, italic, strike, and outline variables?\n",
    "\"\"\"\n",
    "#Answer\n",
    "\"\"\"\n",
    "Run object has bold, underline, italic, strike, and outline variables\n",
    "\"\"\""
   ]
  },
  {
   "cell_type": "raw",
   "id": "b7a6e6f6",
   "metadata": {},
   "source": [
    "\"\"\"\n",
    "9. What is the difference between False, True, and None for the bold variable?\n",
    "\"\"\"\n",
    "#Answer\n",
    "\"\"\"\n",
    "Runs can be further styled using text attributes. Each attribute can be set to one of three values: \n",
    "True (The attribute is always enabled, no matter what other styles are applied to the run\n",
    "False (the attribute is always disabled)\n",
    "None (defaults to whatever the run's style is set to)\n",
    "\"\"\"\n"
   ]
  },
  {
   "cell_type": "raw",
   "id": "9c0c1b99",
   "metadata": {},
   "source": [
    "\"\"\"\n",
    "10. How do you create a Document object for a new Word document?\n",
    "\"\"\"\n",
    "#Answer\n",
    "\"\"\"\n",
    "by calling the docx.Document() function.\n",
    "\"\"\""
   ]
  },
  {
   "cell_type": "raw",
   "id": "95258b24",
   "metadata": {},
   "source": [
    "\"\"\"\n",
    "11. How do you add a paragraph with the text 'Hello, there!' to a Document object stored in a variable named doc?\n",
    "\"\"\"\n",
    "#Answer\n",
    "\"\"\"\n",
    "by calling add_paragraph() function\n",
    "\n",
    "import docx\n",
    "doc = docx.Document()\n",
    "doc.add_paragraph('Hello')\n",
    "doc.save('hello.docx')\n",
    "\"\"\""
   ]
  },
  {
   "cell_type": "raw",
   "id": "e6506360",
   "metadata": {},
   "source": [
    "\"\"\"\n",
    "12. What integers represent the levels of headings available in Word documents?\n",
    "\"\"\"\n",
    "#Answer\n",
    "\"\"\"\n",
    "there is range 0 to 4 integers to represent the level of headings. the integer 0 makes the heading the title style and integer from 1 to 4 for various heading level \n",
    "\"\"\"\n"
   ]
  }
 ],
 "metadata": {
  "kernelspec": {
   "display_name": "Python 3 (ipykernel)",
   "language": "python",
   "name": "python3"
  },
  "language_info": {
   "codemirror_mode": {
    "name": "ipython",
    "version": 3
   },
   "file_extension": ".py",
   "mimetype": "text/x-python",
   "name": "python",
   "nbconvert_exporter": "python",
   "pygments_lexer": "ipython3",
   "version": "3.9.7"
  }
 },
 "nbformat": 4,
 "nbformat_minor": 5
}
