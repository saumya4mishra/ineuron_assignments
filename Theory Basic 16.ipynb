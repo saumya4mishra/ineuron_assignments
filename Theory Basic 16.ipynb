{
 "cells": [
  {
   "cell_type": "code",
   "execution_count": 17,
   "id": "07a47fc0",
   "metadata": {},
   "outputs": [
    {
     "data": {
      "text/plain": [
       "''"
      ]
     },
     "execution_count": 17,
     "metadata": {},
     "output_type": "execute_result"
    }
   ],
   "source": [
    "# Question1\n",
    "\n",
    "\"\"\"\n",
    "Create a list called years_list, starting with the year of your birth, and each year thereafter\n",
    "until the year of your fifth birthday. For example, if you were born in 1980. the list would be\n",
    "years_list = [1980, 1981, 1982, 1983, 1984, 1985].\n",
    "\n",
    "\"\"\"\n",
    "\n",
    "#Answer\n",
    "\n",
    "\"\"\"\n",
    "l_year = [1997, 1998, 1999, 2000, 2001]\n",
    "\n",
    "\"\"\"\n"
   ]
  },
  {
   "cell_type": "code",
   "execution_count": 2,
   "id": "cdd522ef",
   "metadata": {},
   "outputs": [],
   "source": [
    "# Question2\n",
    "\n",
    "\"\"\"\n",
    "In which year in years_list was your third birthday? Remember, you were 0 years of age for your first year.\n",
    "\n",
    "\"\"\"\n",
    "\n",
    "#Answer\n",
    "\"\"\"\n",
    "2000\n",
    "\n",
    "\"\"\""
   ]
  },
  {
   "cell_type": "code",
   "execution_count": 3,
   "id": "d3787ec5",
   "metadata": {},
   "outputs": [],
   "source": [
    "# Question3\n",
    "\n",
    "\"\"\"\n",
    "In the years list, which year were you the oldest?\n",
    "\n",
    "\"\"\"\n",
    "\n",
    "#Answer\n",
    "\n",
    "\"\"\"\n",
    "2001\n",
    "\n",
    "\"\"\""
   ]
  },
  {
   "cell_type": "code",
   "execution_count": 4,
   "id": "00de2fdb",
   "metadata": {},
   "outputs": [],
   "source": [
    "# Question4\n",
    "\n",
    "\"\"\"\n",
    "\n",
    "Make a list called things with these three strings as elements: \"mozzarella\", \"cinderella\", \"salmonella\".\n",
    "\n",
    "\n",
    "\"\"\"\n",
    "\n",
    "#Answer\n",
    "\n",
    "\"\"\"\n",
    "l_ella = [ \"mozzarella\", \"cinderella\", \"salmonella\"]\n",
    "\n",
    "\"\"\""
   ]
  },
  {
   "cell_type": "code",
   "execution_count": 5,
   "id": "547c3a0a",
   "metadata": {},
   "outputs": [],
   "source": [
    "# Question5\n",
    "\n",
    "\"\"\"\n",
    "Capitalize the element in things that refers to a person and then print the list. Did it change the element in the list?\n",
    "\n",
    "\"\"\"\n",
    "\n",
    "#Answer\n",
    "\n",
    "\"\"\"\n",
    "Yes, it change the element in the list\n",
    "\n",
    "before:\n",
    "person = [brush, watch]\n",
    "\n",
    "after:\n",
    "person = [Brush, Watch]\n",
    "\"\"\""
   ]
  },
  {
   "cell_type": "code",
   "execution_count": 6,
   "id": "3a8d0614",
   "metadata": {},
   "outputs": [],
   "source": [
    "# Question6\n",
    "\n",
    "\"\"\"\n",
    "Make a surprise list with the elements \"Groucho,\" \"Chico,\" and \"Harpo.\"\n",
    "\n",
    "\"\"\"\n",
    "\n",
    "#Answer\n",
    "\n",
    "\n",
    "\"\"\"\n",
    "surprise = [\"Groucho,\" \"Chico,\" and \"Harpo.\"]\n",
    "\n",
    "\"\"\""
   ]
  },
  {
   "cell_type": "code",
   "execution_count": 21,
   "id": "6a5a25e9",
   "metadata": {},
   "outputs": [
    {
     "name": "stdout",
     "output_type": "stream",
     "text": [
      "['Aditya', 'UNOS']\n"
     ]
    }
   ],
   "source": [
    "# Question7\n",
    "\n",
    "\"\"\"\n",
    "Lowercase the last element of the surprise list, reverse it, and then capitalize it.\n",
    "\n",
    "\"\"\"\n",
    "\n",
    "#Answer\n",
    "\n",
    "def lower(l_list):\n",
    "    s_lower = [i.lower() for i in l_list[-1]]\n",
    "    s_lower.reverse()\n",
    "    s_upper = [i.upper() for i in s_lower]\n",
    "    l_list.insert(-1, \"\".join(s_upper))\n",
    "    l_list.pop(-1)\n",
    "    return l_list\n",
    "try:\n",
    "    print(lower([\"Aditya\", \"Sonu\", \"loki\"], 89))\n",
    "\n",
    "except Exception as R:\n",
    "    print(R, \". please Enter a valid input\")\n",
    "\n"
   ]
  },
  {
   "cell_type": "code",
   "execution_count": 8,
   "id": "0c933b70",
   "metadata": {},
   "outputs": [],
   "source": [
    "# Question8\n",
    "\n",
    "\"\"\"\n",
    "Make an English-to-French dictionary called e2f and print it. Here are your starter words: dog is chien, cat is chat,\n",
    "and walrus is morse.\n",
    "\n",
    "\"\"\"\n",
    "\n",
    "#Answer\n",
    "\n",
    "\" e2f = {\"dog\" : \"chien\", \"cat\" : \"chat\", \"walrus\" : \"morse\"}\""
   ]
  },
  {
   "cell_type": "code",
   "execution_count": 22,
   "id": "5afe5f18",
   "metadata": {},
   "outputs": [
    {
     "data": {
      "text/plain": [
       "'\\nprint(e2f[\"walrus\"])\\n\\n'"
      ]
     },
     "execution_count": 22,
     "metadata": {},
     "output_type": "execute_result"
    }
   ],
   "source": [
    "# Question9\n",
    "\n",
    "\"\"\"\n",
    "Write the French word for walrus in your three-word dictionary e2f.\n",
    "\n",
    "\"\"\"\n",
    "\n",
    "#Answer\n",
    "\n",
    "\"\"\"\n",
    "print(e2f[\"walrus\"])\n",
    "\n",
    "\"\"\"\n"
   ]
  },
  {
   "cell_type": "code",
   "execution_count": 10,
   "id": "b5b98e65",
   "metadata": {},
   "outputs": [],
   "source": [
    "# Question10\n",
    "\n",
    "\"\"\"\n",
    "Make a French-to-English dictionary called f2e from e2f. Use the items method.\n",
    "\n",
    "\"\"\"\n",
    "\n",
    "#Answer\n",
    "\n",
    "\"\"\"\n",
    "f2e = {\"chien\" : \"dog\"  , \"chat\" : \"cat\" , \"morse\" : \"walrus\"  }\n",
    "\n",
    "\"\"\""
   ]
  },
  {
   "cell_type": "code",
   "execution_count": 11,
   "id": "d4a49c28",
   "metadata": {},
   "outputs": [],
   "source": [
    "# Question11\n",
    "\n",
    "\"\"\"\n",
    "Print the English version of the French word chien using f2e.\n",
    "\n",
    "\"\"\"\n",
    "\n",
    "#Answer\n",
    "\n",
    "\"\"\"\n",
    "print(f2e[\"chien\"])\n",
    "\n",
    "\"\"\""
   ]
  },
  {
   "cell_type": "code",
   "execution_count": 12,
   "id": "c32c6174",
   "metadata": {},
   "outputs": [],
   "source": [
    "# Question12\n",
    "\n",
    "\"\"\"\n",
    "Make and print a set of English words from the keys in e2f.\n",
    "\n",
    "\"\"\"\n",
    "\n",
    "#Answer\n",
    "\n",
    "\"\"\"\n",
    "set_e2f = e2f.keys()\n",
    "set_e2f = set(set_e2f)\n",
    "print(set_e2f)\n",
    "\n",
    "\"\"\""
   ]
  },
  {
   "cell_type": "code",
   "execution_count": 4,
   "id": "82b5d74b",
   "metadata": {},
   "outputs": [],
   "source": [
    "# Question13\n",
    "\n",
    "\"\"\"\n",
    "Make a multilevel dictionary called life. Use these strings for the topmost keys: 'animals', 'plants', and 'other'. \n",
    "Make the 'animals' key refer to another dictionary with the keys 'cats', 'octopi', and 'emus'. Make the 'cats' key refer\n",
    "to a list of strings with the values 'Henri', 'Grumpy', and 'Lucy'. Make all the other keys refer to empty dictionaries.\n",
    "\n",
    "\"\"\"\n",
    "\n",
    "#Answer\n",
    "\n",
    "life = {'animals': {\n",
    "    'cats': ['Henri', 'Grumpy', 'Lucy'],\n",
    "    'octopi': [],\n",
    "    'emus' : [],\n",
    "},\n",
    "       'plants': [],\n",
    "       'othres': []}\n"
   ]
  },
  {
   "cell_type": "code",
   "execution_count": 14,
   "id": "ed9d1034",
   "metadata": {},
   "outputs": [],
   "source": [
    "# Question14\n",
    "\n",
    "\"\"\"\n",
    "Print the top-level keys of life.\n",
    "\n",
    "\"\"\"\n",
    "\n",
    "#Answer\n",
    "\n",
    "\" 'animals', 'plants', and 'other'\""
   ]
  },
  {
   "cell_type": "code",
   "execution_count": 15,
   "id": "7cb3e3d1",
   "metadata": {},
   "outputs": [],
   "source": [
    "# Question15\n",
    "\n",
    "\"\"\"\n",
    " Print the keys for life['animals'].\n",
    " \n",
    "\"\"\"\n",
    "\n",
    "#Answer\n",
    "\n",
    "\"cats', 'octopi', and 'emus'\""
   ]
  },
  {
   "cell_type": "code",
   "execution_count": 16,
   "id": "f2599b93",
   "metadata": {},
   "outputs": [],
   "source": [
    "# Question16\n",
    "\n",
    "\"\"\"\n",
    "Print the values for life['animals']['cats']\n",
    "\n",
    "\"\"\"\n",
    "\n",
    "#Answer\n",
    "\n",
    "\"'Henri', 'Grumpy', and 'Lucy'.\""
   ]
  },
  {
   "cell_type": "code",
   "execution_count": null,
   "id": "f64bb5c7",
   "metadata": {},
   "outputs": [],
   "source": []
  }
 ],
 "metadata": {
  "kernelspec": {
   "display_name": "Python 3 (ipykernel)",
   "language": "python",
   "name": "python3"
  },
  "language_info": {
   "codemirror_mode": {
    "name": "ipython",
    "version": 3
   },
   "file_extension": ".py",
   "mimetype": "text/x-python",
   "name": "python",
   "nbconvert_exporter": "python",
   "pygments_lexer": "ipython3",
   "version": "3.9.7"
  }
 },
 "nbformat": 4,
 "nbformat_minor": 5
}
