{
 "cells": [
  {
   "cell_type": "code",
   "execution_count": null,
   "id": "af55bc8a",
   "metadata": {},
   "outputs": [],
   "source": [
    "#Write a function that takes a list and a number as arguments. Add the number to the end of the list, then remove the first element of the list. The function should then return the\n",
    "#updated list"
   ]
  },
  {
   "cell_type": "code",
   "execution_count": 1,
   "id": "2cafb44e",
   "metadata": {},
   "outputs": [
    {
     "name": "stdout",
     "output_type": "stream",
     "text": [
      "[6, 7, 8, 9, 1]\n",
      "[6, 3, 23, 17, 10]\n",
      "[10, 20, 42, 6]\n",
      "No list has been selected\n"
     ]
    }
   ],
   "source": [
    "''' Question1\n",
    "Write a function that takes a list and a number as arguments. Add the number to the end of the list, then remove the first element of the list. The function should then return the updated list.\n",
    "'''\n",
    "\n",
    "def edit(lst, num):\n",
    "    if len(lst) == 0 :\n",
    "        return \"No list has been selected\"\n",
    "    else:\n",
    "        lst.pop([0][0])\n",
    "        lst.append(num)\n",
    "        return lst\n",
    "    \n",
    "print(edit([5, 6, 7, 8, 9], 1))\n",
    "print(edit([7, 6, 3, 23, 17], 10))\n",
    "print(edit([1, 10, 20, 42 ], 6))\n",
    "print(edit([], 6))\n"
   ]
  },
  {
   "cell_type": "code",
   "execution_count": 2,
   "id": "5bb2b4f2",
   "metadata": {},
   "outputs": [
    {
     "name": "stdout",
     "output_type": "stream",
     "text": [
      "65700\n"
     ]
    }
   ],
   "source": [
    "#Create the function that takes a list of dictionaries and returns the sum of people's budgets.\n",
    "\n",
    "def budget(budget):\n",
    "    total = 0\n",
    "    for i in range(0, len(budget)):\n",
    "        total = total + budget[i][\"budget\"]\n",
    "    \n",
    "    return total\n",
    "\n",
    "print(budget(([\n",
    "\n",
    "{ \"name\": \"John\", \"age\": 21, \"budget\": 23000 },\n",
    "\n",
    "{ \"name\": \"Steve\", \"age\": 32, \"budget\": 40000 },\n",
    "\n",
    "{ \"name\": \"Martin\", \"age\": 16, \"budget\": 2700 }\n",
    "\n",
    "])))\n",
    "\n"
   ]
  },
  {
   "cell_type": "code",
   "execution_count": 4,
   "id": "803becba",
   "metadata": {},
   "outputs": [
    {
     "name": "stdout",
     "output_type": "stream",
     "text": [
      "ehllo\n"
     ]
    }
   ],
   "source": [
    "#Create a function that takes a string and returns a string with its letters in alphabetical order.\n",
    "def order(alpa):\n",
    "   \n",
    "    lst = list(alpa)\n",
    "    lst.sort()\n",
    "    res = ''.join(lst)\n",
    "    \n",
    "    return res\n",
    "        \n",
    "        \n",
    "print(order(\"hello\"))\n"
   ]
  },
  {
   "cell_type": "code",
   "execution_count": 6,
   "id": "9dad2e08",
   "metadata": {},
   "outputs": [
    {
     "name": "stdout",
     "output_type": "stream",
     "text": [
      "116.44\n"
     ]
    }
   ],
   "source": [
    "'''  Suppose that you invest $10,000 for 10 years at an interest rate of 6% compounded monthly. What will be the value of your investment at the end of the 10 year period?\n",
    "Create a function that accepts the principal p, the term in years t, the interest rate r, and the number of compounding periods per year n. The function returns the value at the end of term rounded to the nearest cent.\n",
    "'''\n",
    "\n",
    "\n",
    "def CI(p, r, n, t):\n",
    "    \n",
    "    CI = p * ((1 + (r / n))**(n * t))\n",
    "    return round(CI, 2)\n",
    "    print(\"The compound intrest is: \",round(CI, 2))\n",
    "    \n",
    "print(CI(100, 1, 0.05, 1))\n"
   ]
  },
  {
   "cell_type": "code",
   "execution_count": 7,
   "id": "729354a4",
   "metadata": {},
   "outputs": [
    {
     "name": "stdout",
     "output_type": "stream",
     "text": [
      "[9, 2, 16]\n"
     ]
    }
   ],
   "source": [
    "\n",
    "#Write a function that takes a list of elements and returns only the integers\n",
    "def onlyint(lst):\n",
    "    lst1 = []\n",
    "    for i in lst:\n",
    "        if type(i) == int:\n",
    "            lst1.append(i)\n",
    "    return lst1\n",
    "\n",
    "print(onlyint([9, 2, \"space\", \"car\", \"lion\", 16]))\n"
   ]
  },
  {
   "cell_type": "code",
   "execution_count": null,
   "id": "f4178ea9",
   "metadata": {},
   "outputs": [],
   "source": []
  }
 ],
 "metadata": {
  "kernelspec": {
   "display_name": "Python 3 (ipykernel)",
   "language": "python",
   "name": "python3"
  },
  "language_info": {
   "codemirror_mode": {
    "name": "ipython",
    "version": 3
   },
   "file_extension": ".py",
   "mimetype": "text/x-python",
   "name": "python",
   "nbconvert_exporter": "python",
   "pygments_lexer": "ipython3",
   "version": "3.9.7"
  }
 },
 "nbformat": 4,
 "nbformat_minor": 5
}
