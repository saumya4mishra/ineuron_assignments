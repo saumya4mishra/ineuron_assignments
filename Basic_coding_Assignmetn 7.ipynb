{
 "cells": [
  {
   "cell_type": "code",
   "execution_count": 12,
   "id": "3db954e8",
   "metadata": {},
   "outputs": [
    {
     "name": "stdout",
     "output_type": "stream",
     "text": [
      "23\n"
     ]
    }
   ],
   "source": [
    "\"\"\"1. Write a Python Program to find sum of array?\"\"\"\n",
    "l_list = [1,2,3,4,6,7]\n",
    "sum = 0\n",
    "for i_num in l_list:\n",
    "    sum += i_num\n",
    "print(sum)"
   ]
  },
  {
   "cell_type": "code",
   "execution_count": 13,
   "id": "54645895",
   "metadata": {},
   "outputs": [
    {
     "name": "stdout",
     "output_type": "stream",
     "text": [
      "7\n"
     ]
    }
   ],
   "source": [
    "\"\"\"2. Write a Python Program to find largest element in an array?\"\"\"\n",
    "l_list = [1,2,3,4,6,7]\n",
    "print(max(l_list))"
   ]
  },
  {
   "cell_type": "code",
   "execution_count": 6,
   "id": "10f946aa",
   "metadata": {},
   "outputs": [
    {
     "name": "stdout",
     "output_type": "stream",
     "text": [
      "Enter the number of interger : 3\n",
      "[4, 6, 7, 1, 2, 3]\n"
     ]
    }
   ],
   "source": [
    "\"\"\"3. Write a Python Program for array rotation?\"\"\"\n",
    "def arr_rotation(arr1,n):\n",
    "    for i in range(1,n+1):\n",
    "        arr1.pop(0)\n",
    "        arr1.append(i)\n",
    "    print(arr1)\n",
    " \n",
    "arr1 = [1,2,3,4,6,7]\n",
    "n = int(input(\"Enter the number of interger : \"))\n",
    "arr_rotation(arr1,n)\n",
    "    "
   ]
  },
  {
   "cell_type": "code",
   "execution_count": 16,
   "id": "f5690a6d",
   "metadata": {},
   "outputs": [
    {
     "name": "stdout",
     "output_type": "stream",
     "text": [
      "[1 2 3 4 5 6 7]\n",
      "[1 2 3 4 5 6 7 1 2 3 4]\n"
     ]
    }
   ],
   "source": [
    "\"\"\"4. Write a Python Program to Split the array and add the first part to the end?\"\"\"\n",
    "import numpy as np\n",
    "arr = np.array([1, 2, 3, 4, 5, 6, 7])\n",
    "arr1 = np.concatenate(np.array_split(arr,2), axis=0)\n",
    "# print(arr1)\n",
    "arr3 = np.concatenate((arr1,np.array_split(arr,2)[0]),axis=0)\n",
    "print(arr3)\n",
    "\n"
   ]
  },
  {
   "cell_type": "code",
   "execution_count": 14,
   "id": "cce0b195",
   "metadata": {
    "scrolled": true
   },
   "outputs": [
    {
     "data": {
      "text/plain": [
       "True"
      ]
     },
     "execution_count": 14,
     "metadata": {},
     "output_type": "execute_result"
    }
   ],
   "source": [
    "\"\"\"5. Write a Python Program to check if given array is Monotonic?\"\"\"\n",
    "def monotronic(l_list):\n",
    "    l_list1 = l_list\n",
    "    l_list.sort()\n",
    "    if l_list1==l_list:\n",
    "        return True\n",
    "    elif l_list==l_list.reverse():\n",
    "        return True\n",
    "    return False\n",
    "monotronic([1, 3, 2, 4, 5])\n",
    "\n",
    "\n",
    "\"\"\"doubt\"\"\"\n",
    "\n",
    "\n",
    "\n",
    "        "
   ]
  },
  {
   "cell_type": "code",
   "execution_count": 12,
   "id": "3cf316ad",
   "metadata": {},
   "outputs": [
    {
     "data": {
      "text/plain": [
       "True"
      ]
     },
     "execution_count": 12,
     "metadata": {},
     "output_type": "execute_result"
    }
   ],
   "source": [
    "def monotronic(l_list):\n",
    "    l_list_asc = sorted(l_list)\n",
    "    l_list_desc = sorted(l_list, reverse=True)\n",
    "    \n",
    "    if l_list == l_list_asc or l_list == l_list_desc:\n",
    "        return True\n",
    "    else:\n",
    "        return False\n",
    "   \n",
    "\n",
    "monotronic([1, 3, 2, 4, 5])"
   ]
  },
  {
   "cell_type": "code",
   "execution_count": 17,
   "id": "90f706dd",
   "metadata": {},
   "outputs": [
    {
     "name": "stdout",
     "output_type": "stream",
     "text": [
      "[1, 2, 3, 4, 5, 6]\n"
     ]
    }
   ],
   "source": [
    "\n",
    "lst = [1, 2, 3, 4, 5]\n",
    "\n",
    "lst1 = lst\n",
    "\n",
    "lst1.append(6)\n",
    "\n",
    "print(lst)"
   ]
  },
  {
   "cell_type": "code",
   "execution_count": 18,
   "id": "1fd48c2a",
   "metadata": {},
   "outputs": [
    {
     "name": "stdout",
     "output_type": "stream",
     "text": [
      "10\n"
     ]
    }
   ],
   "source": [
    "a = 10\n",
    "b = a\n",
    "\n",
    "b = 11\n",
    "\n",
    "print(a)"
   ]
  },
  {
   "cell_type": "code",
   "execution_count": 28,
   "id": "9fbaaf88",
   "metadata": {},
   "outputs": [
    {
     "name": "stdout",
     "output_type": "stream",
     "text": [
      "[[1, 2], [3, 4, 5]]\n",
      "[[1, 6, 2], [3, 4, 5]]\n"
     ]
    }
   ],
   "source": [
    "from copy import deepcopy, copy\n",
    "\n",
    "lst = [[1, 2], [3, 4, 5]]\n",
    "\n",
    "lst1 = deepcopy(lst)\n",
    "lst1[0].insert(1, 6)\n",
    "\n",
    "print(lst)\n",
    "print(lst1)"
   ]
  },
  {
   "cell_type": "code",
   "execution_count": null,
   "id": "0862446e",
   "metadata": {},
   "outputs": [],
   "source": []
  }
 ],
 "metadata": {
  "kernelspec": {
   "display_name": "Python 3 (ipykernel)",
   "language": "python",
   "name": "python3"
  },
  "language_info": {
   "codemirror_mode": {
    "name": "ipython",
    "version": 3
   },
   "file_extension": ".py",
   "mimetype": "text/x-python",
   "name": "python",
   "nbconvert_exporter": "python",
   "pygments_lexer": "ipython3",
   "version": "3.9.7"
  }
 },
 "nbformat": 4,
 "nbformat_minor": 5
}
