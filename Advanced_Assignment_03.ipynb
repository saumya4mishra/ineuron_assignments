{
 "cells": [
  {
   "cell_type": "code",
   "execution_count": 34,
   "id": "0c091131",
   "metadata": {},
   "outputs": [
    {
     "name": "stdout",
     "output_type": "stream",
     "text": [
      "['12', '//', '0']\n"
     ]
    },
    {
     "data": {
      "text/plain": [
       "-1"
      ]
     },
     "execution_count": 34,
     "metadata": {},
     "output_type": "execute_result"
    }
   ],
   "source": [
    "# 1. Create a function to perform basic arithmetic operations that \n",
    "# includes addition, subtraction, multiplication and division on a string number\n",
    "def arithmetic_operation(string_num):\n",
    "    a = string_num.split()\n",
    "    print(a)\n",
    "    out = 0\n",
    "    if a[1] == '+':\n",
    "        out += int(a[0]) + int(a[2])\n",
    "    elif a[1] == '-':\n",
    "        out += int(a[0]) - int(a[2])\n",
    "    elif a[1] == '*':\n",
    "        out += int(a[0]) * int(a[2])\n",
    "    elif a[1] == '//' and int(a[2]) != 0:\n",
    "        out += int(a[0]) // int(a[2])\n",
    "    elif a[1] == '//' and int(a[2]) == 0:\n",
    "        out -= 1\n",
    "    else:\n",
    "        pass\n",
    "    return out\n",
    "arithmetic_operation(\"12 // 0\")"
   ]
  },
  {
   "cell_type": "code",
   "execution_count": 41,
   "id": "157a8259",
   "metadata": {},
   "outputs": [
    {
     "data": {
      "text/plain": [
       "3.414213562373095"
      ]
     },
     "execution_count": 41,
     "metadata": {},
     "output_type": "execute_result"
    }
   ],
   "source": [
    "# 2. Write a function that takes the coordinates of three points in the form of a 2d array and returns the perimeter of the triangle. \n",
    "# The given points are the vertices of a triangle on a two-dimensional plane.\n",
    "import math\n",
    "def perimeter(coordinates):\n",
    "    s1 = math.sqrt(((coordinates[1][0] - coordinates[0][0])**2) + ((coordinates[1][1] - coordinates[0][1])**2))\n",
    "    s2 = math.sqrt(((coordinates[2][0] - coordinates[1][0])**2) + ((coordinates[2][1] - coordinates[1][1])**2))\n",
    "    s3 = math.sqrt(((coordinates[0][0] - coordinates[2][0])**2) + ((coordinates[0][1] - coordinates[2][1])**2))\n",
    "    return s1 + s2 + s3\n",
    "perimeter( [ [0, 0], [0, 1], [1, 0] ] )"
   ]
  },
  {
   "cell_type": "code",
   "execution_count": 29,
   "id": "aa81e327",
   "metadata": {},
   "outputs": [
    {
     "data": {
      "text/plain": [
       "3"
      ]
     },
     "execution_count": 29,
     "metadata": {},
     "output_type": "execute_result"
    }
   ],
   "source": [
    "# 3. Create a function that takes a skyline (2-D list of 0's and 1's) and returns the height of the tallest skyscraper.\n",
    "\n",
    "def tallest_skyscraper(buildings):\n",
    "    max_height = 0\n",
    "    for e_col in zip(*buildings):\n",
    "        print(e_col)\n",
    "        height = sum(e_col)\n",
    "        print(height)\n",
    "        if height > max_height:\n",
    "            max_height = height\n",
    "    return max_height\n",
    "        \n",
    "tallest_skyscraper([\n",
    "[0, 0, 0, 0],\n",
    "[0, 1, 0, 0],\n",
    "[0, 1, 1, 0],\n",
    "[1, 1, 1, 1]\n",
    "])"
   ]
  },
  {
   "cell_type": "code",
   "execution_count": 11,
   "id": "e73e5ef6",
   "metadata": {},
   "outputs": [
    {
     "name": "stdout",
     "output_type": "stream",
     "text": [
      "(0, 0, 0, 1)\n",
      "1\n",
      "(0, 1, 1, 1)\n",
      "3\n",
      "(0, 0, 1, 1)\n",
      "2\n",
      "(0, 0, 0, 1)\n",
      "1\n"
     ]
    },
    {
     "data": {
      "text/plain": [
       "3"
      ]
     },
     "execution_count": 11,
     "metadata": {},
     "output_type": "execute_result"
    }
   ],
   "source": []
  },
  {
   "cell_type": "code",
   "execution_count": null,
   "id": "9cdbe712",
   "metadata": {},
   "outputs": [],
   "source": []
  },
  {
   "cell_type": "code",
   "execution_count": 17,
   "id": "6d7c2aea",
   "metadata": {},
   "outputs": [
    {
     "data": {
      "text/plain": [
       "8200"
      ]
     },
     "execution_count": 17,
     "metadata": {},
     "output_type": "execute_result"
    }
   ],
   "source": [
    "# 4. Write a function to read the billable days of an employee and return the bonus he/she has obtained in that quarter.\n",
    "def bonus(total_days):\n",
    "    amount = 0\n",
    "    threshold_target = 32\n",
    "    excess = total_days - threshold_target\n",
    "    if excess == 0 or excess < 0:\n",
    "        amount = 32 * 0\n",
    "    elif 0 < excess <= 8:\n",
    "        amount += 325 * excess\n",
    "    elif 8 < excess <= 16:\n",
    "        amount += 325 * 8 + 550 * (excess - 8)\n",
    "    else:\n",
    "        amount += 325 * 8 + 550 * 8 + 600 * (excess - 16)\n",
    "    return amount \n",
    "bonus(50)"
   ]
  },
  {
   "cell_type": "code",
   "execution_count": 11,
   "id": "fd948c83",
   "metadata": {},
   "outputs": [
    {
     "data": {
      "text/plain": [
       "True"
      ]
     },
     "execution_count": 11,
     "metadata": {},
     "output_type": "execute_result"
    }
   ],
   "source": [
    "# 5. A number is said to be Disarium if the sum of its digits raised to their respective positions is the number itself.\n",
    "def is_disarium(num):\n",
    "    str_num = str(num)\n",
    "    out = 0\n",
    "    for i in range(len(str_num)):\n",
    "        out += int(str_num[i])**(i+1)\n",
    "    if out == num:\n",
    "        return True\n",
    "    else:\n",
    "        return False\n",
    "is_disarium(135)"
   ]
  }
 ],
 "metadata": {
  "kernelspec": {
   "display_name": "Python 3 (ipykernel)",
   "language": "python",
   "name": "python3"
  },
  "language_info": {
   "codemirror_mode": {
    "name": "ipython",
    "version": 3
   },
   "file_extension": ".py",
   "mimetype": "text/x-python",
   "name": "python",
   "nbconvert_exporter": "python",
   "pygments_lexer": "ipython3",
   "version": "3.9.7"
  }
 },
 "nbformat": 4,
 "nbformat_minor": 5
}
