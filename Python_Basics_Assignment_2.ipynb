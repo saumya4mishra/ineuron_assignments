{
 "cells": [
  {
   "cell_type": "raw",
   "id": "72e02883",
   "metadata": {},
   "source": [
    " '''\n",
    " 1. What are the two values of the Boolean data type? How do you write them?\n",
    " \n",
    " Python boolean type is one of the built-in data types provided by Python, which represents one of the two values \n",
    " i.e. True or False.\n",
    " \n",
    " synax for writing booean data type\n",
    " a = True\n",
    " b = False\n",
    " \n",
    " '''"
   ]
  },
  {
   "cell_type": "raw",
   "id": "a2a65cf1",
   "metadata": {},
   "source": [
    "2. What are the three different types of Boolean operators?\n",
    "\n",
    "not    operator will negate whatever boolean input is given to it\n",
    "        for e.g not True   is False\n",
    "        not False   is True\n",
    "        \n",
    "or     it taken two boolean input and returns true if any one of the input is True\n",
    "        True or False      True\n",
    "        False or True      True\n",
    "        False or False     False\n",
    "        True or True       True\n",
    "\n",
    "and      it taken two boolean input and returns true only if both the inputs are True \n",
    "        True or False      False\n",
    "        False or True      False\n",
    "        False or False     False\n",
    "        True or True       True"
   ]
  },
  {
   "cell_type": "code",
   "execution_count": 2,
   "id": "8f248686",
   "metadata": {},
   "outputs": [],
   "source": [
    "''' 3. Make a list of each Boolean operator's truth tables (i.e. every possible combination of Boolean values for the \n",
    "operator and what it evaluate ).'''\n",
    "\n",
    "b_not =  [[True, False], [False, True]]\n",
    "b_or = [[True, True, True], [True, False, True], [False, True, True], [False, False, False]]\n",
    "b_and = [[True, True, True], [True, False, False], [False, True, False], [False, False, False]]\n"
   ]
  },
  {
   "cell_type": "code",
   "execution_count": 9,
   "id": "0f600831",
   "metadata": {},
   "outputs": [
    {
     "data": {
      "text/plain": [
       "False"
      ]
     },
     "execution_count": 9,
     "metadata": {},
     "output_type": "execute_result"
    }
   ],
   "source": [
    "''' 4. What are the values of the following expressions? '''\n",
    "\n",
    "(5 > 4) and (3 == 5)"
   ]
  },
  {
   "cell_type": "code",
   "execution_count": 10,
   "id": "0f027755",
   "metadata": {},
   "outputs": [
    {
     "data": {
      "text/plain": [
       "False"
      ]
     },
     "execution_count": 10,
     "metadata": {},
     "output_type": "execute_result"
    }
   ],
   "source": [
    "not (5 > 4)"
   ]
  },
  {
   "cell_type": "code",
   "execution_count": 5,
   "id": "f8762fe5",
   "metadata": {},
   "outputs": [
    {
     "data": {
      "text/plain": [
       "True"
      ]
     },
     "execution_count": 5,
     "metadata": {},
     "output_type": "execute_result"
    }
   ],
   "source": [
    "(5 > 4) or (3 == 5)"
   ]
  },
  {
   "cell_type": "code",
   "execution_count": 6,
   "id": "a91d53d9",
   "metadata": {},
   "outputs": [
    {
     "data": {
      "text/plain": [
       "False"
      ]
     },
     "execution_count": 6,
     "metadata": {},
     "output_type": "execute_result"
    }
   ],
   "source": [
    "not ((5 > 4) or (3 == 5))"
   ]
  },
  {
   "cell_type": "code",
   "execution_count": 7,
   "id": "7efe2b86",
   "metadata": {},
   "outputs": [
    {
     "data": {
      "text/plain": [
       "False"
      ]
     },
     "execution_count": 7,
     "metadata": {},
     "output_type": "execute_result"
    }
   ],
   "source": [
    "(True and True) and (True == False)"
   ]
  },
  {
   "cell_type": "code",
   "execution_count": 8,
   "id": "aa20650e",
   "metadata": {},
   "outputs": [
    {
     "data": {
      "text/plain": [
       "True"
      ]
     },
     "execution_count": 8,
     "metadata": {},
     "output_type": "execute_result"
    }
   ],
   "source": [
    "(not False) or (not True)"
   ]
  },
  {
   "cell_type": "raw",
   "id": "a1e0e9e7",
   "metadata": {},
   "source": [
    "5. What are the six comparison operators?\n",
    "\n",
    "==\t     If the values of two operands are equal, then the condition becomes true.\t(a == b) is not true.\n",
    "!=\t     If values of two operands are not equal, then condition becomes true.\t(a != b) is true.\n",
    ">\t     If the value of left operand is greater than the value of right operand, then condition becomes true.\t                          (a > b) is not true.\n",
    "<\t     If the value of left operand is less than the value of right operand, then condition becomes true.\t(a < b) is true.\n",
    ">=\t     If the value of left operand is greater than or equal to the value of right operand, then condition becomes true.\t           (a >= b) is not true.\n",
    "<=\t     If the value of left operand is less than or equal to the value of right operand, then condition becomes true.\t                  (a <= b) is true."
   ]
  },
  {
   "cell_type": "raw",
   "id": "0f1ad76e",
   "metadata": {},
   "source": [
    "6. How do you tell the difference between the equal to and assignment operators?Describe a condition and when you would use one.\n",
    "\n",
    "equal operator  is ==  it compares the value of the two operands and return a boolean True or False\n",
    "\n",
    "name = 'saumya'\n",
    "name == 'saumya'\n",
    "\n",
    "now the above statement will return true since both its operands are equal\n",
    "\n",
    "assignment operator is =   it is used to assign value to any variable such as\n",
    " \n",
    "name = 'saumya'\n",
    "so now name varible has value i.e 'saumya'"
   ]
  },
  {
   "cell_type": "code",
   "execution_count": 11,
   "id": "f6adb8a3",
   "metadata": {},
   "outputs": [
    {
     "name": "stdout",
     "output_type": "stream",
     "text": [
      "ham\n",
      "spam\n",
      "spam\n"
     ]
    }
   ],
   "source": [
    "''' 7. Identify the three blocks in this code: '''\n",
    "\n",
    "spam = 0\n",
    "if spam == 10:\n",
    "    print('eggs')\n",
    "if spam > 5:\n",
    "    print('bacon')\n",
    "else:\n",
    "    print('ham')\n",
    "    print('spam')\n",
    "    print('spam')\n"
   ]
  },
  {
   "cell_type": "code",
   "execution_count": 19,
   "id": "4cd4887a",
   "metadata": {},
   "outputs": [
    {
     "name": "stdout",
     "output_type": "stream",
     "text": [
      "2\n",
      "Howdy\n"
     ]
    }
   ],
   "source": [
    "''' 8. Write code that prints Hello if 1 is stored in spam, prints Howdy if 2 is stored in spam, and prints Greetings! if anything else is stored in spam.'''\n",
    "\n",
    "spam = input()\n",
    "if spam == str(1):\n",
    "    print('Hello')\n",
    "elif spam == str(2):\n",
    "    print('Howdy')\n",
    "else:\n",
    "    print('Greetings!')"
   ]
  },
  {
   "cell_type": "raw",
   "id": "11537f98",
   "metadata": {},
   "source": [
    "9.If your programme is stuck in an endless loop, what keys you’ll press?\n",
    "\n",
    "Esc + i i"
   ]
  },
  {
   "cell_type": "raw",
   "id": "4de6ae0d",
   "metadata": {},
   "source": [
    "10. How can you tell the difference between break and continue?\n",
    "\n",
    "The break is used to terminate the execution of the statements and iteration of the loop. It will move to the next statement after the loop and execute statements after the loop. The break statement will allow control to move out of loop skipping the execution of the remaining statements of loop \n",
    "\n",
    "continue will allow the control to remain inside the loop by moving 1 iteration ahead. once the interpreter encounters continue statement it'll skip all the statements after continue in the loop for that pertcular iteration, it'll not come out of the loop unlike break statements\n"
   ]
  },
  {
   "cell_type": "raw",
   "id": "f7d22b50",
   "metadata": {},
   "source": [
    "11. In a for loop, what is the difference between range(10), range(0, 10), and range(0, 10, 1)?\n",
    "\n",
    "execution wise all three gives the same result\n",
    "\n",
    "range(stop) -> range object\n",
    "range(start, stop[, step]) -> range object\n",
    "\n",
    "when range(10) is called it uses function overloading to call function with following definition\n",
    "range(stop) -> range object\n",
    "\n",
    "when range(0, 10) is called it uses function overloading to call function with following definition\n",
    "range(start, stop[, step]) -> range object\n",
    "where step informtion is not given so it uses default value of 1\n",
    "\n",
    "when range(0, 10, 1) is called it uses\n",
    "range(start, stop[, step]) -> range object\n",
    "where explicitly we give step value as 1\n"
   ]
  },
  {
   "cell_type": "code",
   "execution_count": 20,
   "id": "02b33cd0",
   "metadata": {},
   "outputs": [
    {
     "name": "stdout",
     "output_type": "stream",
     "text": [
      "1\n",
      "2\n",
      "3\n",
      "4\n",
      "5\n",
      "6\n",
      "7\n",
      "8\n",
      "9\n",
      "10\n"
     ]
    }
   ],
   "source": [
    "''' 12. Write a short program that prints the numbers 1 to 10 using a for loop.\n",
    "Then write an equivalent program that prints the numbers 1 to 10 using a while loop. '''\n",
    "\n",
    "for i in range(10):\n",
    "    print(i+1)"
   ]
  },
  {
   "cell_type": "code",
   "execution_count": 21,
   "id": "6b92dd22",
   "metadata": {},
   "outputs": [
    {
     "name": "stdout",
     "output_type": "stream",
     "text": [
      "1\n",
      "2\n",
      "3\n",
      "4\n",
      "5\n",
      "6\n",
      "7\n",
      "8\n",
      "9\n",
      "10\n"
     ]
    }
   ],
   "source": [
    "i = 1\n",
    "while i <= 10:\n",
    "    print(i)\n",
    "    i = i+1\n",
    "    "
   ]
  },
  {
   "cell_type": "raw",
   "id": "4f1582cf",
   "metadata": {},
   "source": [
    "13. If you had a function named bacon() inside a module named spam, how would you call it after importing spam?\n",
    "\n",
    "import spam\n",
    "spam.bacon()\n",
    "\n",
    "or \n",
    "\n",
    "from spam import bacon\n",
    "bacon()\n"
   ]
  }
 ],
 "metadata": {
  "kernelspec": {
   "display_name": "Python 3 (ipykernel)",
   "language": "python",
   "name": "python3"
  },
  "language_info": {
   "codemirror_mode": {
    "name": "ipython",
    "version": 3
   },
   "file_extension": ".py",
   "mimetype": "text/x-python",
   "name": "python",
   "nbconvert_exporter": "python",
   "pygments_lexer": "ipython3",
   "version": "3.9.7"
  }
 },
 "nbformat": 4,
 "nbformat_minor": 5
}
