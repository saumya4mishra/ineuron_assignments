{
 "cells": [
  {
   "cell_type": "code",
   "execution_count": 5,
   "id": "76bf543e",
   "metadata": {},
   "outputs": [
    {
     "name": "stdout",
     "output_type": "stream",
     "text": [
      "[3, 6, 9]\n",
      "[8]\n",
      "[]\n"
     ]
    }
   ],
   "source": [
    "#Question1\n",
    "\"\"\"Create a function that takes three parameters where:\n",
    "•\tx is the start of the range (inclusive).\n",
    "•\ty is the end of the range (inclusive).\n",
    "•\tn is the divisor to be checked against.\n",
    "Return an ordered list with numbers in the range that are divisible by the third parameter n. Return an empty list\n",
    "if there are no numbers that are divisible by n.\n",
    "\"\"\"\n",
    "def divn(x, y, z):\n",
    "    lst = []\n",
    "    for i in range(x, y + 1):\n",
    "        if i % z == 0:\n",
    "            lst.append(i)\n",
    "    return lst\n",
    "print(divn(1, 10, 3))\n",
    "print(divn(7, 9, 2))\n",
    "print(divn(15, 20, 7))\n",
    "    "
   ]
  },
  {
   "cell_type": "code",
   "execution_count": 83,
   "id": "5939cfd8",
   "metadata": {},
   "outputs": [
    {
     "name": "stdout",
     "output_type": "stream",
     "text": [
      "True\n",
      "False\n",
      "True\n",
      "False\n"
     ]
    }
   ],
   "source": [
    "#Qustion2\n",
    "\"\"\"Create a function that takes in two lists and returns True if the second \n",
    "list follows the first list by one element, and False otherwise. \n",
    "In other words, determine if the second list is the first list shifted to \n",
    "the right by 1.\"\"\"\n",
    "def shiftRight(lst1, lst2):\n",
    "    if lst1[0] == lst2[1]:\n",
    "        return True\n",
    "    elif lst1[0] != lst2[1]:\n",
    "        return False\n",
    "print(shiftRight([1, 2], [5, 1]))\n",
    "print(shiftRight([1, 2], [5, 5]))\n",
    "print(shiftRight([1, 2, 3, 4, 5], [0, 1, 2, 3, 4])) \n",
    "print(shiftRight([1, 2, 3, 4, 5], [5, 5, 1, 2, 3]))\n"
   ]
  },
  {
   "cell_type": "code",
   "execution_count": 24,
   "id": "7e1d0c4c",
   "metadata": {},
   "outputs": [
    {
     "name": "stdout",
     "output_type": "stream",
     "text": [
      "ehnss\n",
      "ciirz\n",
      "aos\n",
      "CJMPRR\n"
     ]
    }
   ],
   "source": [
    "#Question 3:\n",
    "\"\"\"A group of friends have decided to start a secret society. The name will be the first letter of each of their names,\n",
    "sorted in alphabetical order.Create a function that takes in a list of names and returns the name of the secret society.\n",
    "\"\"\"\n",
    "def name(lst):\n",
    "    lst1 = []\n",
    "    for i in lst:\n",
    "        lst1.append(i[0])\n",
    "    lst1.sort()\n",
    "    a = \"\".join(lst1)\n",
    "    return a\n",
    "print(name([\"naruto\", \"sakura\", \"eno\", \"hinata\", \"shikamaru\"]))\n",
    "print(name([\"ichigo\", \"chad\", \"rukia\", \"zangatsu\", \"izen\"]))\n",
    "print(name([\"oneplus\", \"apple\", \"samsung\"]))\n",
    "print(name(([\"Phoebe\", \"Chandler\", \"Rachel\", \"Ross\", \"Monica\", \"Joey\"])))"
   ]
  },
  {
   "cell_type": "code",
   "execution_count": 97,
   "id": "ac2c6104",
   "metadata": {},
   "outputs": [
    {
     "name": "stdout",
     "output_type": "stream",
     "text": [
      "True\n",
      "False\n",
      "False\n"
     ]
    }
   ],
   "source": [
    "#Question 4:\n",
    "\"\"\"An isogram is a word that has no duplicate letters. Create a function that takes a string and returns either True or False\n",
    "depending on whether or not it's an \"isogram\".\"\"\"\n",
    "\n",
    "#ERROR\n",
    "def dupli(word):\n",
    "    x = word.casefold()\n",
    "    flag = True\n",
    "    for i in x:\n",
    "        num = x.count(i)\n",
    "       #print(i, num)\n",
    "        if num > 1:\n",
    "            flag = False\n",
    "            break\n",
    "            \n",
    "        else:\n",
    "            flag = True\n",
    "    return flag\n",
    "            \n",
    "print(dupli(\"Algorism\"))\n",
    "print(dupli(\"PasSword\"))\n",
    "print(dupli(\"Consecutive\"))\n",
    "    "
   ]
  },
  {
   "cell_type": "code",
   "execution_count": 139,
   "id": "bb5ebb94",
   "metadata": {
    "scrolled": true
   },
   "outputs": [
    {
     "name": "stdout",
     "output_type": "stream",
     "text": [
      "True\n",
      "False\n",
      "True\n",
      "True\n"
     ]
    }
   ],
   "source": [
    "#Question5:\n",
    "\"\"\"Create a function that takes a string and returns True or False, depending on whether the characters are in order or not.\"\"\"\n",
    "def inOrder(inp):\n",
    "    a = False\n",
    "    lst1 = list(inp)\n",
    "    lst2 = lst1.copy()\n",
    "    lst2.sort()\n",
    "    if lst1 == lst2:\n",
    "        a = True\n",
    "    return a\n",
    "print(inOrder(\"acc\"))\n",
    "print(inOrder(\"edabit\"))\n",
    "print(inOrder(\"123\"))\n",
    "print(inOrder(\"xyzz\"))\n"
   ]
  },
  {
   "cell_type": "code",
   "execution_count": null,
   "id": "937f79eb",
   "metadata": {},
   "outputs": [],
   "source": []
  }
 ],
 "metadata": {
  "kernelspec": {
   "display_name": "Python 3 (ipykernel)",
   "language": "python",
   "name": "python3"
  },
  "language_info": {
   "codemirror_mode": {
    "name": "ipython",
    "version": 3
   },
   "file_extension": ".py",
   "mimetype": "text/x-python",
   "name": "python",
   "nbconvert_exporter": "python",
   "pygments_lexer": "ipython3",
   "version": "3.9.7"
  }
 },
 "nbformat": 4,
 "nbformat_minor": 5
}
