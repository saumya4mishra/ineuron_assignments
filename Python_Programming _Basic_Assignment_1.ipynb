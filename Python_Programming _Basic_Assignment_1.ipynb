{
 "cells": [
  {
   "cell_type": "code",
   "execution_count": 1,
   "id": "82fbd2a8",
   "metadata": {},
   "outputs": [
    {
     "name": "stdout",
     "output_type": "stream",
     "text": [
      "Hello Python\n"
     ]
    }
   ],
   "source": [
    "''' 1.\tWrite a Python program to print \"Hello Python\"?'''\n",
    "\n",
    "print('Hello Python')"
   ]
  },
  {
   "cell_type": "code",
   "execution_count": 4,
   "id": "1b977f51",
   "metadata": {},
   "outputs": [
    {
     "name": "stdout",
     "output_type": "stream",
     "text": [
      "enter first number to add12\n",
      "enter second number to add13\n",
      "sum of 12 and 13 is 25\n"
     ]
    }
   ],
   "source": [
    "''' 2.\tWrite a Python program to do arithmetical operations addition and division.?'''\n",
    "\n",
    "num1 = int(input('enter first number to add'))\n",
    "num2 = int(input('enter second number to add'))\n",
    "\n",
    "print('sum of {} and {} is {}'.format(num1, num2, num1 + num2))"
   ]
  },
  {
   "cell_type": "code",
   "execution_count": 6,
   "id": "f5f38e6c",
   "metadata": {},
   "outputs": [
    {
     "name": "stdout",
     "output_type": "stream",
     "text": [
      "enter neumerator2\n",
      "enter denomenator0\n",
      "zero division error\n"
     ]
    }
   ],
   "source": [
    "num1 = int(input('enter neumerator'))\n",
    "num2 = int(input('enter denomenator'))\n",
    "try:\n",
    "    print('sum of {} and {} is {}'.format(num1, num2, num1 / num2))\n",
    "except:\n",
    "    print('zero division error')"
   ]
  },
  {
   "cell_type": "code",
   "execution_count": 7,
   "id": "8e61e687",
   "metadata": {},
   "outputs": [
    {
     "name": "stdout",
     "output_type": "stream",
     "text": [
      "side 1 length12\n",
      "side 2 length5\n",
      "side 3 length13\n",
      "the area is 30.0\n"
     ]
    }
   ],
   "source": [
    "''' 3.\tWrite a Python program to find the area of a triangle?'''\n",
    "\n",
    "import math\n",
    "\n",
    "side_1 = int(input('side 1 length'))\n",
    "side_2 = int(input('side 2 length'))\n",
    "side_3 = int(input('side 3 length'))\n",
    "s = (side_1 + side_2 + side_3)/2\n",
    "\n",
    "area = math.sqrt( s * (s - side_1)*(s - side_2)*(s - side_3))\n",
    "print('the area is {}'.format(area))"
   ]
  },
  {
   "cell_type": "code",
   "execution_count": 10,
   "id": "86d932ca",
   "metadata": {},
   "outputs": [
    {
     "name": "stdout",
     "output_type": "stream",
     "text": [
      "15\n",
      "-10\n"
     ]
    }
   ],
   "source": [
    "'''4.\tWrite a Python program to swap two variables?'''\n",
    "\n",
    "x = -10\n",
    "y = 15\n",
    "x = x + y\n",
    "y = x-y\n",
    "x = x-y\n",
    "\n",
    "print(x)\n",
    "print(y)"
   ]
  },
  {
   "cell_type": "code",
   "execution_count": 18,
   "id": "e15dedff",
   "metadata": {},
   "outputs": [
    {
     "name": "stdout",
     "output_type": "stream",
     "text": [
      "7\n"
     ]
    }
   ],
   "source": [
    "''' 5.\tWrite a Python program to generate a random number?'''\n",
    "import random\n",
    "print(int(random.random()*100))"
   ]
  },
  {
   "cell_type": "code",
   "execution_count": null,
   "id": "790e2b2c",
   "metadata": {},
   "outputs": [],
   "source": []
  }
 ],
 "metadata": {
  "kernelspec": {
   "display_name": "Python 3 (ipykernel)",
   "language": "python",
   "name": "python3"
  },
  "language_info": {
   "codemirror_mode": {
    "name": "ipython",
    "version": 3
   },
   "file_extension": ".py",
   "mimetype": "text/x-python",
   "name": "python",
   "nbconvert_exporter": "python",
   "pygments_lexer": "ipython3",
   "version": "3.9.7"
  }
 },
 "nbformat": 4,
 "nbformat_minor": 5
}
